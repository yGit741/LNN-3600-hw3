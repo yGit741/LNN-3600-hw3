{
 "cells": [
  {
   "cell_type": "markdown",
   "metadata": {
    "id": "zQyoeSuKk1iY"
   },
   "source": [
    "$$\n",
    "\\newcommand{\\mat}[1]{\\boldsymbol {#1}}\n",
    "\\newcommand{\\mattr}[1]{\\boldsymbol {#1}^\\top}\n",
    "\\newcommand{\\matinv}[1]{\\boldsymbol {#1}^{-1}}\n",
    "\\newcommand{\\vec}[1]{\\boldsymbol {#1}}\n",
    "\\newcommand{\\vectr}[1]{\\boldsymbol {#1}^\\top}\n",
    "\\newcommand{\\rvar}[1]{\\mathrm {#1}}\n",
    "\\newcommand{\\rvec}[1]{\\boldsymbol{\\mathrm{#1}}}\n",
    "\\newcommand{\\diag}{\\mathop{\\mathrm {diag}}}\n",
    "\\newcommand{\\set}[1]{\\mathbb {#1}}\n",
    "\\newcommand{\\norm}[1]{\\left\\lVert#1\\right\\rVert}\n",
    "\\newcommand{\\pderiv}[2]{\\frac{\\partial #1}{\\partial #2}}\n",
    "\\newcommand{\\bb}[1]{\\boldsymbol{#1}}\n",
    "$$\n",
    "# Part 1: Sequence Models\n",
    "<a id=part1></a>"
   ]
  },
  {
   "cell_type": "markdown",
   "metadata": {
    "id": "xwVTuDTok1ia"
   },
   "source": [
    "In this part we will learn about working with text sequences using recurrent neural networks.\n",
    "We'll go from a raw text file all the way to a fully trained GRU-RNN model and generate works of art!"
   ]
  },
  {
   "cell_type": "code",
   "execution_count": 1,
   "metadata": {
    "colab": {
     "base_uri": "https://localhost:8080/"
    },
    "executionInfo": {
     "elapsed": 617,
     "status": "ok",
     "timestamp": 1718920212965,
     "user": {
      "displayName": "Dror Meirovich",
      "userId": "14310987058477987674"
     },
     "user_tz": -180
    },
    "id": "0m7ksuDQk1ia",
    "outputId": "d1f9a354-a453-4293-93f1-e67b21648256"
   },
   "outputs": [],
   "source": [
    "import unittest\n",
    "import os\n",
    "import sys\n",
    "import pathlib\n",
    "import urllib\n",
    "import shutil\n",
    "import re\n",
    "import numpy as np\n",
    "import torch\n",
    "import matplotlib.pyplot as plt\n",
    "\n",
    "%load_ext autoreload\n",
    "%autoreload 2"
   ]
  },
  {
   "cell_type": "code",
   "execution_count": 2,
   "metadata": {
    "colab": {
     "base_uri": "https://localhost:8080/"
    },
    "executionInfo": {
     "elapsed": 2,
     "status": "ok",
     "timestamp": 1718920213415,
     "user": {
      "displayName": "Dror Meirovich",
      "userId": "14310987058477987674"
     },
     "user_tz": -180
    },
    "id": "e4y4eObSk1ib",
    "outputId": "9efceccf-0a0e-4094-8591-5f79498ec851"
   },
   "outputs": [
    {
     "name": "stdout",
     "output_type": "stream",
     "text": [
      "Using device: cpu\n"
     ]
    }
   ],
   "source": [
    "test = unittest.TestCase()\n",
    "plt.rcParams.update({'font.size': 12})\n",
    "device = torch.device('cuda' if torch.cuda.is_available() else 'cpu')\n",
    "print('Using device:', device)"
   ]
  },
  {
   "cell_type": "markdown",
   "metadata": {
    "id": "s3R11_41lSts"
   },
   "source": [
    "### Porting to Google Colab\n",
    "The following cell enables this notebook to run from Google Colab as well as from your local machine IDE.<br>\n",
    "You can change `root_directory` and/or `this_notebook_google_path` to point to the directory in your Google account, which contains this notebook, together with the `imgs` sub-directory and the rest of the files.<br>"
   ]
  },
  {
   "cell_type": "code",
   "execution_count": 3,
   "metadata": {
    "colab": {
     "base_uri": "https://localhost:8080/"
    },
    "executionInfo": {
     "elapsed": 2379,
     "status": "ok",
     "timestamp": 1718920215793,
     "user": {
      "displayName": "Dror Meirovich",
      "userId": "14310987058477987674"
     },
     "user_tz": -180
    },
    "id": "M_uSomotlWpR",
    "outputId": "6acdb885-8201-41ad-bd58-8bcce992b284"
   },
   "outputs": [],
   "source": [
    "import sys\n",
    "import os\n",
    "try:\n",
    "    from google.colab import drive\n",
    "    root_directory = '/content/gdrive/'\n",
    "    this_notebook_google_path = root_directory + 'Othercomputers/My Laptop/projects/RUNI/DL_TA/hw3'\n",
    "    drive.mount(root_directory)\n",
    "    # enable import python files from this notebook's path\n",
    "    sys.path.append(this_notebook_google_path)\n",
    "    # enable reading images and data files from this notebook's path\n",
    "    os.chdir(this_notebook_google_path)\n",
    "except:\n",
    "    # no Google Colab --> fall back to local machine\n",
    "    pass"
   ]
  },
  {
   "cell_type": "code",
   "execution_count": 4,
   "metadata": {
    "colab": {
     "base_uri": "https://localhost:8080/"
    },
    "executionInfo": {
     "elapsed": 5295,
     "status": "ok",
     "timestamp": 1718920221086,
     "user": {
      "displayName": "Dror Meirovich",
      "userId": "14310987058477987674"
     },
     "user_tz": -180
    },
    "id": "mGyPbOfqliBD",
    "outputId": "7a27a511-a7b6-4427-f7a1-1e51cfbe2317"
   },
   "outputs": [
    {
     "name": "stdout",
     "output_type": "stream",
     "text": [
      "Requirement already satisfied: pillow in c:\\users\\ygree\\miniforge3\\envs\\cs236781-hw\\lib\\site-packages (10.4.0)\n",
      "Requirement already satisfied: pillow-avif-plugin in c:\\users\\ygree\\miniforge3\\envs\\cs236781-hw\\lib\\site-packages (1.4.3)\n"
     ]
    }
   ],
   "source": [
    "!pip install pillow pillow-avif-plugin\n",
    "\n",
    "import matplotlib.image as mpimg\n",
    "from IPython import display\n",
    "import PIL\n",
    "import io\n",
    "\n",
    "\"\"\"\n",
    "The import of pillow_avif is necessary because it registers the AVIF format\n",
    "with the Pillow library. This registration process occurs automatically when\n",
    "pillow_avif is imported, enabling Pillow to recognize and handle AVIF images.\n",
    "Without this import, Pillow won't be able to identify the AVIF format,\n",
    "leading to the UnidentifiedImageError.\n",
    "To clarify, you don't use pillow_avif directly in your code, but importing it\n",
    "ensures that the AVIF support is correctly set up.\n",
    "\"\"\"\n",
    "import pillow_avif\n",
    "\n",
    "def show_single_image(file_name: str, resize: float = 1.0) -> None:\n",
    "    file_name_lower = file_name.lower()\n",
    "    if file_name_lower.endswith('.gif'):\n",
    "        if not os.path.isfile(file_name):\n",
    "            print('Current directory is:',os.getcwd())\n",
    "            print('Containing the following files:')\n",
    "            for subdir, dirs, files in os.walk('./'):\n",
    "                for file in files:\n",
    "                    print(file)\n",
    "            assert False, f'File not found: {file_name}'\n",
    "        with open(file_name, 'rb') as f:\n",
    "            img_data = f.read()\n",
    "        img = display.Image(data=img_data, format='png')\n",
    "        display.display(img)\n",
    "    elif file_name_lower.endswith('.svg'):\n",
    "        img = display.SVG(filename=file_name)\n",
    "        display.display(img)\n",
    "    elif file_name_lower.endswith('.avif') or file_name_lower.endswith('.png'):\n",
    "        with open(file_name, 'rb') as f:\n",
    "            img_data = f.read()\n",
    "        img = PIL.Image.open(io.BytesIO(img_data))\n",
    "        img = img.resize((img.width * resize, img.height * resize))\n",
    "        display.display(img)\n",
    "    else:\n",
    "        image1 = mpimg.imread(file_name)\n",
    "        fig, ax = plt.subplots()\n",
    "        ax.set_title(file_name)\n",
    "        plt.imshow(image1)\n",
    "        plt.axis('off')  # Turn off axis\n",
    "        plt.show()"
   ]
  },
  {
   "cell_type": "markdown",
   "metadata": {
    "id": "DGb1gkeVk1ib"
   },
   "source": [
    "## Text generation with a char-level RNN\n",
    "<a id=part1_1></a>"
   ]
  },
  {
   "cell_type": "markdown",
   "metadata": {
    "id": "kiGFXyybk1ib"
   },
   "source": [
    "### Obtaining the corpus\n",
    "<a id=part1_2></a>"
   ]
  },
  {
   "cell_type": "markdown",
   "metadata": {
    "id": "_SZNfKsCk1ib"
   },
   "source": [
    "Let's begin by downloading a corpus containing all the works of William Shakespeare.\n",
    "Since he was very prolific, this corpus is fairly large and will provide us with enough data for\n",
    "obtaining impressive results."
   ]
  },
  {
   "cell_type": "code",
   "execution_count": 5,
   "metadata": {
    "colab": {
     "base_uri": "https://localhost:8080/"
    },
    "executionInfo": {
     "elapsed": 1321,
     "status": "ok",
     "timestamp": 1718920222400,
     "user": {
      "displayName": "Dror Meirovich",
      "userId": "14310987058477987674"
     },
     "user_tz": -180
    },
    "id": "HCqLIySNk1ib",
    "outputId": "9b6bdabd-3191-4ca2-9e5c-637ba4437ac3"
   },
   "outputs": [
    {
     "name": "stdout",
     "output_type": "stream",
     "text": [
      "Corpus file C:\\Users\\ygree\\.pytorch-datasets\\shakespeare.txt exists, skipping download.\n"
     ]
    }
   ],
   "source": [
    "CORPUS_URL = 'https://github.com/cedricdeboom/character-level-rnn-datasets/raw/master/datasets/shakespeare.txt'\n",
    "DATA_DIR = pathlib.Path.home().joinpath('.pytorch-datasets')\n",
    "\n",
    "def download_corpus(out_path=DATA_DIR, url=CORPUS_URL, force=False):\n",
    "    pathlib.Path(out_path).mkdir(exist_ok=True)\n",
    "    out_filename = os.path.join(out_path, os.path.basename(url))\n",
    "\n",
    "    if os.path.isfile(out_filename) and not force:\n",
    "        print(f'Corpus file {out_filename} exists, skipping download.')\n",
    "    else:\n",
    "        print(f'Downloading {url}...')\n",
    "        with urllib.request.urlopen(url) as response, open(out_filename, 'wb') as out_file:\n",
    "            shutil.copyfileobj(response, out_file)\n",
    "        print(f'Saved to {out_filename}.')\n",
    "    return out_filename\n",
    "\n",
    "corpus_path = download_corpus()"
   ]
  },
  {
   "cell_type": "markdown",
   "metadata": {
    "id": "AXKolvFNk1ic"
   },
   "source": [
    "Load the text into memory and print a snippet:"
   ]
  },
  {
   "cell_type": "code",
   "execution_count": 6,
   "metadata": {
    "colab": {
     "base_uri": "https://localhost:8080/"
    },
    "executionInfo": {
     "elapsed": 4,
     "status": "ok",
     "timestamp": 1718920222400,
     "user": {
      "displayName": "Dror Meirovich",
      "userId": "14310987058477987674"
     },
     "user_tz": -180
    },
    "id": "aK3PJcQkk1ic",
    "outputId": "16223ee0-d8ca-47aa-e4a7-87e970cc4fea"
   },
   "outputs": [
    {
     "name": "stdout",
     "output_type": "stream",
     "text": [
      "Corpus length: 6347703 chars\n",
      "ALLS WELL THAT ENDS WELL\n",
      "\n",
      "by William Shakespeare\n",
      "\n",
      "Dramatis Personae\n",
      "\n",
      "  KING OF FRANCE\n",
      "  THE DUKE OF FLORENCE\n",
      "  BERTRAM, Count of Rousillon\n",
      "  LAFEU, an old lord\n",
      "  PAROLLES, a follower of Bertram\n",
      "  TWO FRENCH LORDS, serving with Bertram\n",
      "\n",
      "  STEWARD, Servant to the Countess of Rousillon\n",
      "  LAVACHE, a clown and Servant to the Countess of Rousillon\n",
      "  A PAGE, Servant to the Countess of Rousillon\n",
      "\n",
      "  COUNTESS OF ROUSILLON, mother to Bertram\n",
      "  HELENA, a gentlewoman protected by the Countess\n",
      "  A WIDOW OF FLORENCE.\n",
      "  DIANA, daughter to the Widow\n",
      "\n",
      "  VIOLENTA, neighbour and friend to the Widow\n",
      "  MARIANA, neighbour and friend to the Widow\n",
      "\n",
      "  Lords, Officers, Soldiers, etc., French and Florentine  \n",
      "\n",
      "SCENE:\n",
      "Rousillon; Paris; Florence; Marseilles\n",
      "\n",
      "ACT I. SCENE 1.\n",
      "Rousillon. The COUNT'S palace\n",
      "\n",
      "Enter BERTRAM, the COUNTESS OF ROUSILLON, HELENA, and LAFEU, all in black\n",
      "\n",
      "  COUNTESS. In delivering my son from me, I bury a second husband.\n",
      "  BERTRAM. And I in going, madam, weep o'er my father's death anew;\n",
      "    but I must attend his Majesty's command, to whom I am now in\n",
      "    ward, evermore in subjection.\n",
      "  LAFEU. You shall find of the King a husband, madam; you, sir, a\n",
      "    father. He that so generally is at all times good must of\n",
      "    \n"
     ]
    }
   ],
   "source": [
    "with open(corpus_path, 'r', encoding='utf-8') as f:\n",
    "    corpus = f.read()\n",
    "\n",
    "print(f'Corpus length: {len(corpus)} chars')\n",
    "print(corpus[7:1234])"
   ]
  },
  {
   "cell_type": "markdown",
   "metadata": {
    "id": "cEPklPTCk1ic"
   },
   "source": [
    "### Data Preprocessing\n",
    "<a id=part1_3></a>"
   ]
  },
  {
   "cell_type": "markdown",
   "metadata": {
    "id": "RdjS39C0k1ic"
   },
   "source": [
    "The first thing we'll need is to map from each unique character in the corpus to an index that will represent it in our learning process.\n",
    "\n",
    "**TODO**: Implement the `char_maps()` function in the `hw3/charnn.py` module."
   ]
  },
  {
   "cell_type": "code",
   "execution_count": 7,
   "metadata": {
    "colab": {
     "base_uri": "https://localhost:8080/",
     "height": 348
    },
    "executionInfo": {
     "elapsed": 494,
     "status": "error",
     "timestamp": 1718920448847,
     "user": {
      "displayName": "Dror Meirovich",
      "userId": "14310987058477987674"
     },
     "user_tz": -180
    },
    "id": "UzvXAMxwk1ic",
    "outputId": "e8dd7685-be05-4691-99be-af8597ffacf7"
   },
   "outputs": [
    {
     "name": "stdout",
     "output_type": "stream",
     "text": [
      "{'\\n': 0, ' ': 1, '!': 2, '\"': 3, '$': 4, '&': 5, \"'\": 6, '(': 7, ')': 8, ',': 9, '-': 10, '.': 11, '0': 12, '1': 13, '2': 14, '3': 15, '4': 16, '5': 17, '6': 18, '7': 19, '8': 20, '9': 21, ':': 22, ';': 23, '<': 24, '?': 25, 'A': 26, 'B': 27, 'C': 28, 'D': 29, 'E': 30, 'F': 31, 'G': 32, 'H': 33, 'I': 34, 'J': 35, 'K': 36, 'L': 37, 'M': 38, 'N': 39, 'O': 40, 'P': 41, 'Q': 42, 'R': 43, 'S': 44, 'T': 45, 'U': 46, 'V': 47, 'W': 48, 'X': 49, 'Y': 50, 'Z': 51, '[': 52, ']': 53, '_': 54, 'a': 55, 'b': 56, 'c': 57, 'd': 58, 'e': 59, 'f': 60, 'g': 61, 'h': 62, 'i': 63, 'j': 64, 'k': 65, 'l': 66, 'm': 67, 'n': 68, 'o': 69, 'p': 70, 'q': 71, 'r': 72, 's': 73, 't': 74, 'u': 75, 'v': 76, 'w': 77, 'x': 78, 'y': 79, 'z': 80, '}': 81, '\\ufeff': 82}\n"
     ]
    }
   ],
   "source": [
    "import hw3.charnn as charnn\n",
    "char_to_idx = None\n",
    "idx_to_char = None\n",
    "char_to_idx, idx_to_char = charnn.char_maps(corpus)\n",
    "print(char_to_idx)\n",
    "\n",
    "test.assertEqual(len(char_to_idx), len(idx_to_char))\n",
    "test.assertSequenceEqual(list(char_to_idx.keys()), list(idx_to_char.values()))\n",
    "test.assertSequenceEqual(list(char_to_idx.values()), list(idx_to_char.keys()))"
   ]
  },
  {
   "cell_type": "markdown",
   "metadata": {
    "id": "DVDmFS4Ok1id"
   },
   "source": [
    "Seems we have some strange characters in the corpus that are very rare and are probably due to mistakes.\n",
    "To reduce the length of each tensor we'll need to later represent our chars, it's best to remove them.\n",
    "\n",
    "**TODO**: Implement the `remove_chars()` function in the `hw3/charnn.py` module."
   ]
  },
  {
   "cell_type": "code",
   "execution_count": 8,
   "metadata": {
    "colab": {
     "base_uri": "https://localhost:8080/",
     "height": 348
    },
    "executionInfo": {
     "elapsed": 600,
     "status": "error",
     "timestamp": 1718920456349,
     "user": {
      "displayName": "Dror Meirovich",
      "userId": "14310987058477987674"
     },
     "user_tz": -180
    },
    "id": "UFWDF41Ik1id",
    "outputId": "54e9e9bf-61f8-4db0-f8eb-855d8da085aa"
   },
   "outputs": [
    {
     "name": "stdout",
     "output_type": "stream",
     "text": [
      "Removed 34 chars\n"
     ]
    }
   ],
   "source": [
    "corpus, n_removed = charnn.remove_chars(corpus, ['}','$','_','<','\\ufeff'])\n",
    "print(f'Removed {n_removed} chars')\n",
    "\n",
    "# After removing the chars, re-create the mappings\n",
    "char_to_idx, idx_to_char = charnn.char_maps(corpus)"
   ]
  },
  {
   "cell_type": "markdown",
   "metadata": {
    "id": "s7b_KCTak1id"
   },
   "source": [
    "The next thing we need is an **embedding** of the chracters.\n",
    "An embedding is a representation of each token from the sequence as a tensor.\n",
    "For a char-level RNN, our tokens will be chars and we can thus use the simplest possible embedding: encode each char as a **one-hot** tensor. In other words, each char will be represented\n",
    "as a tensor whos length is the total number of unique chars (`V`) which contains all zeros except at the index\n",
    "corresponding to that specific char.\n",
    "\n",
    "**TODO**: Implement the functions `chars_to_onehot()` and `onehot_to_chars()` in the `hw3/charnn.py` module."
   ]
  },
  {
   "cell_type": "code",
   "execution_count": 9,
   "metadata": {
    "colab": {
     "base_uri": "https://localhost:8080/",
     "height": 408
    },
    "executionInfo": {
     "elapsed": 470,
     "status": "error",
     "timestamp": 1718920464541,
     "user": {
      "displayName": "Dror Meirovich",
      "userId": "14310987058477987674"
     },
     "user_tz": -180
    },
    "id": "mrmFxbp2k1id",
    "outputId": "a1b10bc7-5c1b-4735-ad09-c448b78e94ec"
   },
   "outputs": [
    {
     "name": "stdout",
     "output_type": "stream",
     "text": [
      " brine a maiden can season her praise in.\n",
      "  \n",
      "tensor([[0, 1, 0, 0, 0, 0, 0, 0, 0, 0, 0, 0, 0, 0, 0, 0, 0, 0, 0, 0, 0, 0, 0, 0,\n",
      "         0, 0, 0, 0, 0, 0, 0, 0, 0, 0, 0, 0, 0, 0, 0, 0, 0, 0, 0, 0, 0, 0, 0, 0,\n",
      "         0, 0, 0, 0, 0, 0, 0, 0, 0, 0, 0, 0, 0, 0, 0, 0, 0, 0, 0, 0, 0, 0, 0, 0,\n",
      "         0, 0, 0, 0, 0, 0, 0, 0, 0, 0, 0],\n",
      "        [0, 0, 0, 0, 0, 0, 0, 0, 0, 0, 0, 0, 0, 0, 0, 0, 0, 0, 0, 0, 0, 0, 0, 0,\n",
      "         0, 0, 0, 0, 0, 0, 0, 0, 0, 0, 0, 0, 0, 0, 0, 0, 0, 0, 0, 0, 0, 0, 0, 0,\n",
      "         0, 0, 0, 0, 0, 0, 0, 0, 1, 0, 0, 0, 0, 0, 0, 0, 0, 0, 0, 0, 0, 0, 0, 0,\n",
      "         0, 0, 0, 0, 0, 0, 0, 0, 0, 0, 0],\n",
      "        [0, 0, 0, 0, 0, 0, 0, 0, 0, 0, 0, 0, 0, 0, 0, 0, 0, 0, 0, 0, 0, 0, 0, 0,\n",
      "         0, 0, 0, 0, 0, 0, 0, 0, 0, 0, 0, 0, 0, 0, 0, 0, 0, 0, 0, 0, 0, 0, 0, 0,\n",
      "         0, 0, 0, 0, 0, 0, 0, 0, 0, 0, 0, 0, 0, 0, 0, 0, 0, 0, 0, 0, 0, 0, 0, 0,\n",
      "         1, 0, 0, 0, 0, 0, 0, 0, 0, 0, 0]], dtype=torch.int8)\n"
     ]
    }
   ],
   "source": [
    "# Wrap the actual embedding functions for calling convenience\n",
    "def embed(text):\n",
    "    return charnn.chars_to_onehot(text, char_to_idx)\n",
    "\n",
    "def unembed(embedding):\n",
    "    return charnn.onehot_to_chars(embedding, idx_to_char)\n",
    "\n",
    "text_snippet = corpus[3104:3148]\n",
    "print(text_snippet)\n",
    "print(embed(text_snippet[0:3]))\n",
    "\n",
    "test.assertEqual(text_snippet, unembed(embed(text_snippet)))\n",
    "test.assertEqual(embed(text_snippet).dtype, torch.int8)"
   ]
  },
  {
   "cell_type": "markdown",
   "metadata": {
    "id": "JXnPjCm6k1id"
   },
   "source": [
    "### Dataset Creation\n",
    "<a id=part1_4></a>"
   ]
  },
  {
   "cell_type": "markdown",
   "metadata": {
    "id": "7c0y4Kuyk1id"
   },
   "source": [
    "We wish to train our model to generate text by constantly predicting what the next char should be based on the past.\n",
    "To that end we'll need to train our recurrent network in a way similar to a classification task. At each timestep, we input a char and set the expected output (label) to be the next char in the original sequence.\n",
    "\n",
    "We will split our corpus into shorter sequences of length `S` chars (see question below).\n",
    "Each **sample** we provide our model with will therefore be a tensor of shape `(S,V)` where `V` is the embedding dimension. Our model will operate sequentially on each char in the sequence.\n",
    "For each sample, we'll also need a **label**. This is simply another sequence, shifted by one char so that the label of each char is the next char in the corpus."
   ]
  },
  {
   "cell_type": "markdown",
   "metadata": {
    "id": "Yng3e8jVk1id"
   },
   "source": [
    "**TODO**: Implement the `chars_to_labelled_samples()` function in the `hw3/charnn.py` module."
   ]
  },
  {
   "cell_type": "code",
   "execution_count": 10,
   "metadata": {},
   "outputs": [
    {
     "data": {
      "text/plain": [
       "<module 'hw3.charnn' from 'C:\\\\Users\\\\ygree\\\\OneDrive\\\\MSc MLDS\\\\Deep Leaning with Neural Networks\\\\LNN-3600-hw3\\\\hw3\\\\hw3\\\\charnn.py'>"
      ]
     },
     "execution_count": 10,
     "metadata": {},
     "output_type": "execute_result"
    }
   ],
   "source": [
    "charnn"
   ]
  },
  {
   "cell_type": "code",
   "execution_count": 11,
   "metadata": {
    "colab": {
     "base_uri": "https://localhost:8080/",
     "height": 220
    },
    "executionInfo": {
     "elapsed": 482,
     "status": "error",
     "timestamp": 1718920663929,
     "user": {
      "displayName": "Dror Meirovich",
      "userId": "14310987058477987674"
     },
     "user_tz": -180
    },
    "id": "1NGUubrek1id",
    "outputId": "c752b003-07fb-4175-cc5a-aa352cb4fb45"
   },
   "outputs": [
    {
     "name": "stdout",
     "output_type": "stream",
     "text": [
      "samples shape: torch.Size([99182, 64, 83])\n",
      "labels shape: torch.Size([99182, 64])\n"
     ]
    }
   ],
   "source": [
    "samples = None\n",
    "labels = None\n",
    "num_samples = None\n",
    "vocab_len = None\n",
    "# Create dataset of sequences\n",
    "seq_len = 64\n",
    "vocab_len = len(char_to_idx)\n",
    "\n",
    "# Create labelled samples\n",
    "samples, labels = charnn.chars_to_labelled_samples(corpus, char_to_idx, seq_len, device)\n",
    "print(f'samples shape: {samples.shape}')\n",
    "print(f'labels shape: {labels.shape}')\n",
    "\n",
    "# Test shapes\n",
    "num_samples = (len(corpus) - 1) // seq_len\n",
    "test.assertEqual(samples.shape, (num_samples, seq_len, vocab_len))\n",
    "test.assertEqual(labels.shape, (num_samples, seq_len))\n",
    "\n",
    "# Test content\n",
    "for _ in range(1000):\n",
    "    # random sample\n",
    "    i = np.random.randint(num_samples, size=(1,))[0]\n",
    "    # Compare to corpus\n",
    "    test.assertEqual(unembed(samples[i]), corpus[i*seq_len:(i+1)*seq_len], msg=f\"content mismatch in sample {i}\")\n",
    "    # Compare to labels\n",
    "    sample_text = unembed(samples[i])\n",
    "    label_text = str.join('', [idx_to_char[j.item()] for j in labels[i]])\n",
    "    test.assertEqual(sample_text[1:], label_text[0:-1], msg=f\"label mismatch in sample {i}\")"
   ]
  },
  {
   "cell_type": "markdown",
   "metadata": {
    "id": "0IX3aVaFk1id"
   },
   "source": [
    "Let's print a few consecutive samples. You should see that the text continues between them."
   ]
  },
  {
   "cell_type": "code",
   "execution_count": 12,
   "metadata": {
    "colab": {
     "base_uri": "https://localhost:8080/",
     "height": 220
    },
    "executionInfo": {
     "elapsed": 467,
     "status": "error",
     "timestamp": 1718920531587,
     "user": {
      "displayName": "Dror Meirovich",
      "userId": "14310987058477987674"
     },
     "user_tz": -180
    },
    "id": "CiGVg99Ik1ie",
    "outputId": "bda3da58-4ac5-466d-c4b0-ad794f5deae9"
   },
   "outputs": [
    {
     "name": "stdout",
     "output_type": "stream",
     "text": [
      "sample [15332]:\n",
      "\thinges of the knee Where thrift may follow fawning. Dost tho\n",
      "sample [15333]:\n",
      "\tu hear? Since my dear soul was mistress of her choice An\n",
      "sample [15334]:\n",
      "\td could of men distinguish, her election Hath scald thee for\n",
      "sample [15335]:\n",
      "\therself. For thou hast been As one, in suff'ring all, that\n",
      "sample [15336]:\n",
      "\tsuffers nothing; A man that Fortune's buffets and rewards\n"
     ]
    }
   ],
   "source": [
    "import re\n",
    "import random\n",
    "\n",
    "i = random.randrange(num_samples-5)\n",
    "for i in range(i, i+5):\n",
    "    test.assertEqual(len(samples[i]), seq_len)\n",
    "    s = re.sub(r'\\s+', ' ', unembed(samples[i])).strip()\n",
    "    print(f'sample [{i}]:\\n\\t{s}')"
   ]
  },
  {
   "cell_type": "markdown",
   "metadata": {
    "id": "AJP0eYVhk1ie"
   },
   "source": [
    "As usual, instead of feeding one sample at a time into our model's forward we'll work with **batches** of samples. This means that at every timestep, our model will operate on a batch of chars that are from **different sequences**.\n",
    "Effectively this will allow us to parallelize training our model by dong matrix-matrix multiplications\n",
    "instead of matrix-vector during the forward pass."
   ]
  },
  {
   "cell_type": "markdown",
   "metadata": {
    "id": "a7Fipph4mrCl"
   },
   "source": [
    "An important nuance is that we need the batches to be **contiguous**, i.e. sample $k$ in batch $j$ should continue sample $k$ from batch $j-1$.\n",
    "The following figure illustrates this:\n"
   ]
  },
  {
   "cell_type": "code",
   "execution_count": 13,
   "metadata": {
    "colab": {
     "base_uri": "https://localhost:8080/",
     "height": 168
    },
    "executionInfo": {
     "elapsed": 544,
     "status": "ok",
     "timestamp": 1718920291510,
     "user": {
      "displayName": "Dror Meirovich",
      "userId": "14310987058477987674"
     },
     "user_tz": -180
    },
    "id": "UhiiOZPemj_w",
    "outputId": "a39ef248-b274-47eb-b65a-0ed262d91d0c"
   },
   "outputs": [
    {
     "data": {
      "image/png": "[encoded data removed]",
      "text/plain": [
       "<PIL.Image.Image image mode=RGBA size=589x151>"
      ]
     },
     "metadata": {},
     "output_type": "display_data"
    }
   ],
   "source": [
    "show_single_image('imgs/rnn-batching.png')"
   ]
  },
  {
   "cell_type": "markdown",
   "metadata": {
    "id": "B6WHR82kk1ie"
   },
   "source": [
    "If we naïvely take consecutive samples into batches, e.g. `[0,1,...,B-1]`, `[B,B+1,...,2B-1]` and so on, we won't have contiguous\n",
    "sequences at the same index between adjacent batches.\n",
    "\n",
    "To accomplish this we need to tell our `DataLoader` which samples to combine together into one batch.\n",
    "We do this by implementing a custom PyTorch `Sampler`, and providing it to our `DataLoader`."
   ]
  },
  {
   "cell_type": "markdown",
   "metadata": {
    "id": "M1MZdtxCk1ie"
   },
   "source": [
    "**TODO**: Implement the `SequenceBatchSampler` class in the `hw3/charnn.py` module."
   ]
  },
  {
   "cell_type": "code",
   "execution_count": 14,
   "metadata": {
    "colab": {
     "base_uri": "https://localhost:8080/",
     "height": 348
    },
    "executionInfo": {
     "elapsed": 469,
     "status": "error",
     "timestamp": 1718920542879,
     "user": {
      "displayName": "Dror Meirovich",
      "userId": "14310987058477987674"
     },
     "user_tz": -180
    },
    "id": "Qk0m747Sk1ie",
    "outputId": "1387ec3b-983a-4a11-d0a8-782ec123a020"
   },
   "outputs": [
    {
     "name": "stdout",
     "output_type": "stream",
     "text": [
      "sampler_idx =\n",
      " [0, 1, 2, 3, 4, 5, 6, 7, 8, 9, 10, 11, 12, 13, 14, 15, 16, 17, 18, 19, 20, 21, 22, 23, 24, 25, 26, 27, 28, 29]\n"
     ]
    },
    {
     "name": "stderr",
     "output_type": "stream",
     "text": [
      "C:\\Users\\ygree\\miniforge3\\envs\\cs236781-hw\\lib\\site-packages\\torch\\utils\\data\\sampler.py:64: UserWarning: `data_source` argument is not used and will be removed in 2.2.0.You may still have custom implementation that utilizes it.\n",
      "  warnings.warn(\"`data_source` argument is not used and will be removed in 2.2.0.\"\n"
     ]
    }
   ],
   "source": [
    "from hw3.charnn import SequenceBatchSampler\n",
    "\n",
    "sampler = SequenceBatchSampler(dataset=range(32), batch_size=10)\n",
    "sampler_idx = list(sampler)\n",
    "print('sampler_idx =\\n', sampler_idx)\n",
    "\n",
    "# Test the Sampler\n",
    "test.assertEqual(len(sampler_idx), 30)\n",
    "batch_idx = np.array(sampler_idx).reshape(-1, 10)\n",
    "for k in range(10):\n",
    "    test.assertEqual(np.diff(batch_idx[:, k], n=2).item(), 0)"
   ]
  },
  {
   "cell_type": "markdown",
   "metadata": {
    "id": "Sne3M8ZCk1ie"
   },
   "source": [
    "Even though we're working with sequences, we can still use the standard PyTorch `Dataset`/`DataLoader` combo.\n",
    "For the dataset we can use a built-in class, `TensorDataset` to return tuples of `(sample, label)`\n",
    "from the `samples` and `labels` tensors we created above.\n",
    "The `DataLoader` will be provided with our custom `Sampler` so that it generates appropriate batches."
   ]
  },
  {
   "cell_type": "code",
   "execution_count": 15,
   "metadata": {
    "colab": {
     "base_uri": "https://localhost:8080/",
     "height": 372
    },
    "executionInfo": {
     "elapsed": 469,
     "status": "error",
     "timestamp": 1718920877286,
     "user": {
      "displayName": "Dror Meirovich",
      "userId": "14310987058477987674"
     },
     "user_tz": -180
    },
    "id": "061VpB2Hk1ie",
    "outputId": "0c4d2a14-a820-45a4-a414-90588242d3a6"
   },
   "outputs": [],
   "source": [
    "import torch.utils.data\n",
    "dl_corpus = None\n",
    "ds_corpus = None\n",
    "\n",
    "# Create DataLoader returning batches of samples.\n",
    "batch_size = 32\n",
    "ds_corpus = torch.utils.data.TensorDataset(samples, labels)\n",
    "sampler_corpus = SequenceBatchSampler(ds_corpus, batch_size)\n",
    "dl_corpus = torch.utils.data.DataLoader(ds_corpus, batch_size=batch_size, sampler=sampler_corpus, shuffle=False)"
   ]
  },
  {
   "cell_type": "markdown",
   "metadata": {
    "id": "UwiWKPm5k1ie"
   },
   "source": [
    "Let's see what that gives us:"
   ]
  },
  {
   "cell_type": "code",
   "execution_count": 16,
   "metadata": {
    "colab": {
     "base_uri": "https://localhost:8080/",
     "height": 220
    },
    "executionInfo": {
     "elapsed": 472,
     "status": "error",
     "timestamp": 1718920589213,
     "user": {
      "displayName": "Dror Meirovich",
      "userId": "14310987058477987674"
     },
     "user_tz": -180
    },
    "id": "Yj_6g-rnk1ie",
    "outputId": "07cce886-a0f9-459d-8ad5-98593c99b9ed"
   },
   "outputs": [
    {
     "name": "stdout",
     "output_type": "stream",
     "text": [
      "num batches: 3100\n",
      "shape of a batch of samples: torch.Size([32, 64, 83])\n",
      "shape of a batch of labels: torch.Size([32, 64])\n"
     ]
    }
   ],
   "source": [
    "print(f'num batches: {len(dl_corpus)}')\n",
    "\n",
    "x0, y0 = next(iter(dl_corpus))\n",
    "print(f'shape of a batch of samples: {x0.shape}')\n",
    "print(f'shape of a batch of labels: {y0.shape}')"
   ]
  },
  {
   "cell_type": "markdown",
   "metadata": {
    "id": "BUiaDjauk1if"
   },
   "source": [
    "Now lets look at the same sample index from multiple batches taken from our corpus."
   ]
  },
  {
   "cell_type": "code",
   "execution_count": 17,
   "metadata": {
    "colab": {
     "base_uri": "https://localhost:8080/",
     "height": 220
    },
    "executionInfo": {
     "elapsed": 482,
     "status": "error",
     "timestamp": 1718920595369,
     "user": {
      "displayName": "Dror Meirovich",
      "userId": "14310987058477987674"
     },
     "user_tz": -180
    },
    "id": "VvRLxeGok1if",
    "outputId": "80153797-ef5a-488c-c228-e4d3c30be8d8"
   },
   "outputs": [
    {
     "name": "stdout",
     "output_type": "stream",
     "text": [
      "=== batch 0, sample 3 (torch.Size([64, 83])): ===\n",
      "\tBertram TWO FRENCH LORDS, serving with Bertram STEWARD, Se\n",
      "=== batch 1, sample 3 (torch.Size([64, 83])): ===\n",
      "\tgly and mourningly; he was skilful enough to have liv'd stil\n",
      "=== batch 2, sample 3 (torch.Size([64, 83])): ===\n",
      "\tLAFEU. He cannot want the best That shall attend his love.\n",
      "=== batch 3, sample 3 (torch.Size([64, 83])): ===\n",
      "\tPAROLLES. Keep him out. HELENA. But he assails; and our virg\n",
      "=== batch 4, sample 3 (torch.Size([64, 83])): ===\n",
      "\tile 'tis vendible; answer the time of request. Virginity, li\n"
     ]
    }
   ],
   "source": [
    "# Check that sentences in in same index of different batches complete each other.\n",
    "k = random.randrange(batch_size)\n",
    "for j, (X, y) in enumerate(dl_corpus,):\n",
    "    print(f'=== batch {j}, sample {k} ({X[k].shape}): ===')\n",
    "    s = re.sub(r'\\s+', ' ', unembed(X[k])).strip()\n",
    "    print(f'\\t{s}')\n",
    "    if j==4: break"
   ]
  },
  {
   "cell_type": "markdown",
   "metadata": {
    "id": "ouCLcNKgk1if"
   },
   "source": [
    "### Model Implementation\n",
    "<a id=part1_5></a>"
   ]
  },
  {
   "cell_type": "markdown",
   "metadata": {
    "id": "8eP0250Uk1if"
   },
   "source": [
    "Finally, our data set is ready so we can focus on our model.\n",
    "\n",
    "We'll implement here is a multilayer gated recurrent unit (GRU) model, with dropout.\n",
    "This model is a type of RNN which performs similar to the well-known LSTM model,\n",
    "but it's somewhat easier to train because it has less parameters.\n",
    "We'll modify the regular GRU slightly by applying dropout to\n",
    "the hidden states passed between layers of the model.\n",
    "\n",
    "The model accepts an input $\\mat{X}\\in\\set{R}^{S\\times V}$ containing a sequence of embedded chars.\n",
    "It returns an output $\\mat{Y}\\in\\set{R}^{S\\times V}$ of predictions for the next char and the final hidden state\n",
    "$\\mat{H}\\in\\set{R}^{L\\times H}$. Here $S$ is the sequence length, $V$ is the vocabulary size (number of unique chars), $L$ is the number of layers in the model and $H$ is the hidden dimension."
   ]
  },
  {
   "cell_type": "markdown",
   "metadata": {
    "id": "bLLAQy7fk1if"
   },
   "source": [
    "Mathematically, the model's forward function at layer $k\\in[1,L]$ and timestep $t\\in[1,S]$ can be described as\n",
    "\n",
    "$$\n",
    "\\begin{align}\n",
    "\\vec{z_t}^{[k]} &= \\sigma\\left(\\vec{x}^{[k]}_t {\\mattr{W}_{\\mathrm{xz}}}^{[k]} +\n",
    "    \\vec{h}_{t-1}^{[k]} {\\mattr{W}_{\\mathrm{hz}}}^{[k]} + \\vec{b}_{\\mathrm{z}}^{[k]}\\right) \\\\\n",
    "\\vec{r_t}^{[k]} &= \\sigma\\left(\\vec{x}^{[k]}_t {\\mattr{W}_{\\mathrm{xr}}}^{[k]} +\n",
    "    \\vec{h}_{t-1}^{[k]} {\\mattr{W}_{\\mathrm{hr}}}^{[k]} + \\vec{b}_{\\mathrm{r}}^{[k]}\\right) \\\\\n",
    "\\vec{g_t}^{[k]} &= \\tanh\\left(\\vec{x}^{[k]}_t {\\mattr{W}_{\\mathrm{xg}}}^{[k]} +\n",
    "    (\\vec{r_t}^{[k]}\\odot\\vec{h}_{t-1}^{[k]}) {\\mattr{W}_{\\mathrm{hg}}}^{[k]} + \\vec{b}_{\\mathrm{g}}^{[k]}\\right) \\\\\n",
    "\\vec{h_t}^{[k]} &= \\vec{z}^{[k]}_t \\odot \\vec{h}^{[k]}_{t-1} + \\left(1-\\vec{z}^{[k]}_t\\right)\\odot \\vec{g_t}^{[k]}\n",
    "\\end{align}\n",
    "$$"
   ]
  },
  {
   "cell_type": "markdown",
   "metadata": {
    "id": "uiu3SY-Jk1if"
   },
   "source": [
    "The input to each layer is,\n",
    "$$\n",
    "\\mat{X}^{[k]} =\n",
    "\\begin{bmatrix}\n",
    "    {\\vec{x}_1}^{[k]} \\\\ \\vdots \\\\ {\\vec{x}_S}^{[k]}\n",
    "\\end{bmatrix}\n",
    "=\n",
    "\\begin{cases}\n",
    "    \\mat{X} & \\mathrm{if} ~k = 1~ \\\\\n",
    "    \\mathrm{dropout}_p \\left(\n",
    "    \\begin{bmatrix}\n",
    "        {\\vec{h}_1}^{[k-1]} \\\\ \\vdots \\\\ {\\vec{h}_S}^{[k-1]}\n",
    "    \\end{bmatrix} \\right) & \\mathrm{if} ~1 < k \\leq L+1~\n",
    "\\end{cases}.\n",
    "$$"
   ]
  },
  {
   "cell_type": "markdown",
   "metadata": {
    "id": "el2uEpZZk1if"
   },
   "source": [
    "The output of the entire model is then,\n",
    "$$\n",
    "\\mat{Y} = \\mat{X}^{[L+1]} {\\mattr{W}_{\\mathrm{hy}}} + \\mat{B}_{\\mathrm{y}}\n",
    "$$"
   ]
  },
  {
   "cell_type": "markdown",
   "metadata": {
    "id": "09c17JUJk1if"
   },
   "source": [
    "and the final hidden state is\n",
    "$$\n",
    "\\mat{H} =\n",
    "\\begin{bmatrix}\n",
    "    {\\vec{h}_S}^{[1]} \\\\ \\vdots \\\\ {\\vec{h}_S}^{[L]}\n",
    "\\end{bmatrix}.\n",
    "$$"
   ]
  },
  {
   "cell_type": "markdown",
   "metadata": {
    "id": "fjx_Q1Sjk1ig"
   },
   "source": [
    "Notes:\n",
    "- $t\\in[1,S]$ is the timestep, i.e. the current position within the sequence of each sample.\n",
    "- $\\vec{x}_t^{[k]}$ is the input of layer $k$ at timestep $t$, respectively.\n",
    "- The outputs of the **last layer** $\\vec{y}_t^{[L]}$, are the predicted next characters for every input char.\n",
    "  These are similar to class scores in classification tasks.\n",
    "- The hidden states at the **last timestep**, $\\vec{h}_S^{[k]}$, are the final hidden state returned from the model.\n",
    "- $\\sigma(\\cdot)$ is the sigmoid function, i.e. $\\sigma(\\vec{z}) = 1/(1+e^{-\\vec{z}})$ which returns values in $(0,1)$.\n",
    "- $\\tanh(\\cdot)$ is the hyperbolic tangent, i.e. $\\tanh(\\vec{z}) = (e^{2\\vec{z}}-1)/(e^{2\\vec{z}}+1)$ which returns values in $(-1,1)$.\n",
    "- $\\vec{h_t}^{[k]}$ is the hidden state of layer $k$ at time $t$. This can be thought of as the memory of that layer.\n",
    "- $\\vec{g_t}^{[k]}$ is the candidate hidden state for time $t+1$.\n",
    "- $\\vec{z_t}^{[k]}$ is known as the update gate. It combines the previous state with the input to determine how much the current state will be combined with the new candidate state. For example, if $\\vec{z_t}^{[k]}=\\vec{1}$ then the current input has no effect on the output.\n",
    "- $\\vec{r_t}^{[k]}$ is known as the reset gate. It combines the previous state with the input to determine how much of the previous state will affect the current state candidate. For example if $\\vec{r_t}^{[k]}=\\vec{0}$ the previous state has no effect on the current candidate state."
   ]
  },
  {
   "cell_type": "markdown",
   "metadata": {
    "id": "IBDObtxnm94A"
   },
   "source": [
    "Here's a graphical representation of the GRU's forward pass at each timestep. The $\\vec{\\tilde{h}}$ in the image is our $\\vec{g}$ (candidate next state).\n"
   ]
  },
  {
   "cell_type": "code",
   "execution_count": 18,
   "metadata": {
    "colab": {
     "base_uri": "https://localhost:8080/",
     "height": 643
    },
    "executionInfo": {
     "elapsed": 1214,
     "status": "ok",
     "timestamp": 1718920604586,
     "user": {
      "displayName": "Dror Meirovich",
      "userId": "14310987058477987674"
     },
     "user_tz": -180
    },
    "id": "rJ7mGAysm2xC",
    "outputId": "97d1024b-d493-4d56-edca-a10a5c77aab7"
   },
   "outputs": [
    {
     "data": {
      "image/png": "[encoded data removed]",
      "text/plain": [
       "<PIL.Image.Image image mode=RGBA size=1027x626>"
      ]
     },
     "metadata": {},
     "output_type": "display_data"
    }
   ],
   "source": [
    "show_single_image('imgs/gru_cell.png')"
   ]
  },
  {
   "cell_type": "markdown",
   "metadata": {
    "id": "UN-x2Suxk1ig"
   },
   "source": [
    "You can see how the reset and update gates allow the model to completely ignore it's previous state, completely ignore it's input, or any mixture of those states (since the gates are actually continuous and between $(0,1)$)."
   ]
  },
  {
   "cell_type": "markdown",
   "metadata": {
    "id": "LU-OBIeanQP7"
   },
   "source": [
    "Here's a graphical representation of the entire model.\n",
    "You can ignore the $c_t^{[k]}$ (cell state) variables (which are relevant for LSTM models).\n",
    "Our model has only the hidden state, $h_t^{[k]}$. Also notice that we added dropout between layers (i.e., on the up arrows)."
   ]
  },
  {
   "cell_type": "code",
   "execution_count": 19,
   "metadata": {
    "colab": {
     "base_uri": "https://localhost:8080/",
     "height": 565
    },
    "executionInfo": {
     "elapsed": 1254,
     "status": "ok",
     "timestamp": 1718920609518,
     "user": {
      "displayName": "Dror Meirovich",
      "userId": "14310987058477987674"
     },
     "user_tz": -180
    },
    "id": "937DWzCLnEHl",
    "outputId": "d97e6227-31a6-4e42-b017-842d8c8c3dbd"
   },
   "outputs": [
    {
     "data": {
      "image/png": "[encoded data removed]",
      "text/plain": [
       "<PIL.Image.Image image mode=RGBA size=640x548>"
      ]
     },
     "metadata": {},
     "output_type": "display_data"
    }
   ],
   "source": [
    "show_single_image('imgs/lstm_model.png')"
   ]
  },
  {
   "cell_type": "markdown",
   "metadata": {
    "id": "8Ug9d0lxk1ig"
   },
   "source": [
    "The purple tensors are inputs (a sequence and initial hidden state per layer), and the green tensors are outputs (another sequence and final hidden state per layer). Each blue block implements the above forward equations.\n",
    "Blocks that are on the same vertical level are at the same layer, and therefore share parameters."
   ]
  },
  {
   "cell_type": "markdown",
   "metadata": {
    "id": "2If11s4bk1ig"
   },
   "source": [
    "**TODO**: **READ!!** the `MultilayerGRU` class in the `hw3/charnn.py` module.\n",
    "\n",
    "**Due to the war and shorter semester, we choose to give you our implementation for this part.**\n",
    "**Please take the time to read the implementation, since it has some thinking about the model you have not seen so far**\n",
    "\n",
    "Notes:\n",
    "- We use **batches** now.\n",
    "  The math is identical to the above, but all the tensors will have an extra batch\n",
    "  dimension as their first dimension.\n",
    "- Before you read the implementation, read the diagram above, try to understand all the dimentions.\n"
   ]
  },
  {
   "cell_type": "code",
   "execution_count": 20,
   "metadata": {
    "colab": {
     "base_uri": "https://localhost:8080/",
     "height": 220
    },
    "executionInfo": {
     "elapsed": 653,
     "status": "error",
     "timestamp": 1718920821191,
     "user": {
      "displayName": "Dror Meirovich",
      "userId": "14310987058477987674"
     },
     "user_tz": -180
    },
    "id": "KoTxK0m7k1ig",
    "outputId": "d2c87dd8-b543-4682-cfb7-b32fee8ce55d"
   },
   "outputs": [
    {
     "name": "stdout",
     "output_type": "stream",
     "text": [
      "MultilayerGRU(\n",
      "  (wxz_0): Linear(in_features=83, out_features=256, bias=False)\n",
      "  (whz_0): Linear(in_features=256, out_features=256, bias=True)\n",
      "  (wxr_0): Linear(in_features=83, out_features=256, bias=False)\n",
      "  (whr_0): Linear(in_features=256, out_features=256, bias=True)\n",
      "  (wxg_0): Linear(in_features=83, out_features=256, bias=False)\n",
      "  (whg_0): Linear(in_features=256, out_features=256, bias=True)\n",
      "  (wxz_1): Linear(in_features=256, out_features=256, bias=False)\n",
      "  (whz_1): Linear(in_features=256, out_features=256, bias=True)\n",
      "  (wxr_1): Linear(in_features=256, out_features=256, bias=False)\n",
      "  (whr_1): Linear(in_features=256, out_features=256, bias=True)\n",
      "  (wxg_1): Linear(in_features=256, out_features=256, bias=False)\n",
      "  (whg_1): Linear(in_features=256, out_features=256, bias=True)\n",
      "  (wxz_2): Linear(in_features=256, out_features=256, bias=False)\n",
      "  (whz_2): Linear(in_features=256, out_features=256, bias=True)\n",
      "  (wxr_2): Linear(in_features=256, out_features=256, bias=False)\n",
      "  (whr_2): Linear(in_features=256, out_features=256, bias=True)\n",
      "  (wxg_2): Linear(in_features=256, out_features=256, bias=False)\n",
      "  (whg_2): Linear(in_features=256, out_features=256, bias=True)\n",
      "  (dropout): Dropout(p=0, inplace=False)\n",
      "  (why): Linear(in_features=256, out_features=83, bias=True)\n",
      ")\n",
      "y.shape=torch.Size([32, 64, 83])\n",
      "h.shape=torch.Size([32, 3, 256])\n"
     ]
    }
   ],
   "source": [
    "y = None\n",
    "h = None\n",
    "model = None\n",
    "assert vocab_len is not None\n",
    "in_dim = vocab_len\n",
    "h_dim = 256\n",
    "n_layers = 3\n",
    "model = charnn.MultilayerGRU(in_dim, h_dim, out_dim=in_dim, n_layers=n_layers)\n",
    "model = model.to(device)\n",
    "print(model)\n",
    "\n",
    "# Test forward pass\n",
    "y, h = model(x0.to(dtype=torch.float, device=device))\n",
    "print(f'y.shape={y.shape}')\n",
    "print(f'h.shape={h.shape}')\n",
    "\n",
    "test.assertEqual(y.shape, (batch_size, seq_len, vocab_len))\n",
    "test.assertEqual(h.shape, (batch_size, n_layers, h_dim))\n",
    "test.assertEqual(len(list(model.parameters())), 9 * n_layers + 2)\n"
   ]
  },
  {
   "cell_type": "markdown",
   "metadata": {
    "id": "75c82aEzk1ig"
   },
   "source": [
    "### Generating text by sampling\n",
    "<a id=part1_6></a>"
   ]
  },
  {
   "cell_type": "markdown",
   "metadata": {
    "id": "OblVG5tek1ig"
   },
   "source": [
    "Now that we have a model, we can implement **text generation** based on it.\n",
    "The idea is simple:\n",
    "At each timestep our model receives one char $x_t$ from the input sequence and outputs scores $y_t$\n",
    "for what the next char should be.\n",
    "We'll convert these scores into a probability over each of the possible chars.\n",
    "In other words, for each input char $x_t$ we create a probability distribution for the next char\n",
    "conditioned on the current one and the state of the model (representing all previous inputs):\n",
    "$$p(x_{t+1}|x_t, \\vec{h}_t).$$\n",
    "\n",
    "Once we have such a distribution, we'll sample a char from it.\n",
    "This will be the first char of our generated sequence.\n",
    "Now we can feed this new char into the model, create another distribution, sample the next char and so on.\n",
    "Note that it's crucial to propagate the hidden state when sampling."
   ]
  },
  {
   "cell_type": "markdown",
   "metadata": {
    "id": "ckbLfdFdk1ig"
   },
   "source": [
    "The important point however is how to create the distribution from the scores.\n",
    "One way, as we saw in previous ML tasks, is to use the softmax function.\n",
    "However, a drawback of softmax is that it can generate very diffuse (more uniform) distributions if the score values are very similar. When sampling, we would prefer to control the distributions and make them less uniform to increase the chance of sampling the char(s) with the highest scores compared to the others.\n",
    "\n",
    "To control the variance of the distribution, a common trick is to add a hyperparameter $T$, known as the\n",
    "*temperature* to the softmax function. The class scores are simply scaled by $T$ before softmax is applied:\n",
    "$$\n",
    "\\mathrm{softmax}_T(\\vec{y}) = \\frac{e^{\\vec{y}/T}}{\\sum_k e^{y_k/T}}\n",
    "$$\n",
    "\n",
    "A low $T$ will result in less uniform distributions and vice-versa."
   ]
  },
  {
   "cell_type": "markdown",
   "metadata": {
    "id": "ZiRCffU8k1ih"
   },
   "source": [
    "**TODO**: Implement the `hot_softmax()` function in the `hw3/charnn.py` module."
   ]
  },
  {
   "cell_type": "code",
   "execution_count": 21,
   "metadata": {
    "colab": {
     "base_uri": "https://localhost:8080/",
     "height": 220
    },
    "executionInfo": {
     "elapsed": 487,
     "status": "error",
     "timestamp": 1718920797070,
     "user": {
      "displayName": "Dror Meirovich",
      "userId": "14310987058477987674"
     },
     "user_tz": -180
    },
    "id": "064PAdCqk1ih",
    "outputId": "03b3cdde-6af7-4dea-c44b-b7523a62471a"
   },
   "outputs": [
    {
     "name": "stdout",
     "output_type": "stream",
     "text": [
      "y:  tensor([ 0.0581,  0.0774, -0.0352,  0.0538, -0.0075,  0.0492, -0.0441,  0.0528,\n",
      "        -0.0072,  0.0344,  0.0655, -0.0444,  0.0123, -0.0560, -0.0497,  0.0127,\n",
      "         0.0005,  0.0671,  0.0382, -0.0121, -0.0222, -0.0446, -0.0448,  0.0114,\n",
      "         0.0604, -0.0358, -0.0665, -0.0058,  0.0457,  0.0650,  0.0595, -0.0671,\n",
      "         0.0060, -0.0595, -0.0137, -0.0589,  0.0474, -0.0607,  0.0028, -0.0017,\n",
      "        -0.0027, -0.0542,  0.0199, -0.0171, -0.0361, -0.0368, -0.0344,  0.0319,\n",
      "         0.0470,  0.0394, -0.0331, -0.0389,  0.0534,  0.0195, -0.0077, -0.0250,\n",
      "         0.0215, -0.0126,  0.0694,  0.0253, -0.0402,  0.0283, -0.0228, -0.0083,\n",
      "         0.0381, -0.0564,  0.0536, -0.0426, -0.0135,  0.0116,  0.0337,  0.0553,\n",
      "        -0.0034,  0.0314,  0.0147, -0.0139,  0.0258,  0.0148, -0.0208, -0.0354,\n",
      "        -0.0545,  0.0661,  0.0567])\n",
      "softmax_denominator:  tensor([82.9381])\n",
      "result-typer:  <class 'torch.Tensor'>\n",
      "result:  tensor([0.0121, 0.0121, 0.0120, 0.0121, 0.0120, 0.0121, 0.0120, 0.0121, 0.0120,\n",
      "        0.0121, 0.0121, 0.0120, 0.0120, 0.0120, 0.0120, 0.0120, 0.0120, 0.0121,\n",
      "        0.0121, 0.0120, 0.0120, 0.0120, 0.0120, 0.0120, 0.0121, 0.0120, 0.0120,\n",
      "        0.0120, 0.0121, 0.0121, 0.0121, 0.0120, 0.0120, 0.0120, 0.0120, 0.0120,\n",
      "        0.0121, 0.0120, 0.0120, 0.0120, 0.0120, 0.0120, 0.0121, 0.0120, 0.0120,\n",
      "        0.0120, 0.0120, 0.0121, 0.0121, 0.0121, 0.0120, 0.0120, 0.0121, 0.0121,\n",
      "        0.0120, 0.0120, 0.0121, 0.0120, 0.0121, 0.0121, 0.0120, 0.0121, 0.0120,\n",
      "        0.0120, 0.0121, 0.0120, 0.0121, 0.0120, 0.0120, 0.0120, 0.0121, 0.0121,\n",
      "        0.0120, 0.0121, 0.0120, 0.0120, 0.0121, 0.0120, 0.0120, 0.0120, 0.0120,\n",
      "        0.0121, 0.0121])\n",
      "tensor([0.0121, 0.0121, 0.0120, 0.0121, 0.0120, 0.0121, 0.0120, 0.0121, 0.0120,\n",
      "        0.0121, 0.0121, 0.0120, 0.0120, 0.0120, 0.0120, 0.0120, 0.0120, 0.0121,\n",
      "        0.0121, 0.0120, 0.0120, 0.0120, 0.0120, 0.0120, 0.0121, 0.0120, 0.0120,\n",
      "        0.0120, 0.0121, 0.0121, 0.0121, 0.0120, 0.0120, 0.0120, 0.0120, 0.0120,\n",
      "        0.0121, 0.0120, 0.0120, 0.0120, 0.0120, 0.0120, 0.0121, 0.0120, 0.0120,\n",
      "        0.0120, 0.0120, 0.0121, 0.0121, 0.0121, 0.0120, 0.0120, 0.0121, 0.0121,\n",
      "        0.0120, 0.0120, 0.0121, 0.0120, 0.0121, 0.0121, 0.0120, 0.0121, 0.0120,\n",
      "        0.0120, 0.0121, 0.0120, 0.0121, 0.0120, 0.0120, 0.0120, 0.0121, 0.0121,\n",
      "        0.0120, 0.0121, 0.0120, 0.0120, 0.0121, 0.0120, 0.0120, 0.0120, 0.0120,\n",
      "        0.0121, 0.0121])\n",
      "y:  tensor([ 0.0581,  0.0774, -0.0352,  0.0538, -0.0075,  0.0492, -0.0441,  0.0528,\n",
      "        -0.0072,  0.0344,  0.0655, -0.0444,  0.0123, -0.0560, -0.0497,  0.0127,\n",
      "         0.0005,  0.0671,  0.0382, -0.0121, -0.0222, -0.0446, -0.0448,  0.0114,\n",
      "         0.0604, -0.0358, -0.0665, -0.0058,  0.0457,  0.0650,  0.0595, -0.0671,\n",
      "         0.0060, -0.0595, -0.0137, -0.0589,  0.0474, -0.0607,  0.0028, -0.0017,\n",
      "        -0.0027, -0.0542,  0.0199, -0.0171, -0.0361, -0.0368, -0.0344,  0.0319,\n",
      "         0.0470,  0.0394, -0.0331, -0.0389,  0.0534,  0.0195, -0.0077, -0.0250,\n",
      "         0.0215, -0.0126,  0.0694,  0.0253, -0.0402,  0.0283, -0.0228, -0.0083,\n",
      "         0.0381, -0.0564,  0.0536, -0.0426, -0.0135,  0.0116,  0.0337,  0.0553,\n",
      "        -0.0034,  0.0314,  0.0147, -0.0139,  0.0258,  0.0148, -0.0208, -0.0354,\n",
      "        -0.0545,  0.0661,  0.0567])\n",
      "softmax_denominator:  tensor([77.0928])\n",
      "result-typer:  <class 'torch.Tensor'>\n",
      "result:  tensor([0.0127, 0.0130, 0.0116, 0.0127, 0.0119, 0.0126, 0.0115, 0.0127, 0.0119,\n",
      "        0.0124, 0.0128, 0.0115, 0.0122, 0.0114, 0.0114, 0.0122, 0.0120, 0.0128,\n",
      "        0.0125, 0.0119, 0.0117, 0.0115, 0.0115, 0.0121, 0.0128, 0.0116, 0.0112,\n",
      "        0.0119, 0.0126, 0.0128, 0.0127, 0.0112, 0.0121, 0.0113, 0.0118, 0.0113,\n",
      "        0.0126, 0.0113, 0.0120, 0.0120, 0.0120, 0.0114, 0.0122, 0.0118, 0.0116,\n",
      "        0.0116, 0.0116, 0.0124, 0.0126, 0.0125, 0.0116, 0.0115, 0.0127, 0.0122,\n",
      "        0.0119, 0.0117, 0.0123, 0.0119, 0.0129, 0.0123, 0.0115, 0.0123, 0.0117,\n",
      "        0.0119, 0.0125, 0.0113, 0.0127, 0.0115, 0.0118, 0.0121, 0.0124, 0.0127,\n",
      "        0.0120, 0.0124, 0.0122, 0.0118, 0.0123, 0.0122, 0.0118, 0.0116, 0.0114,\n",
      "        0.0128, 0.0127])\n",
      "tensor([0.0127, 0.0130, 0.0116, 0.0127, 0.0119, 0.0126, 0.0115, 0.0127, 0.0119,\n",
      "        0.0124, 0.0128, 0.0115, 0.0122, 0.0114, 0.0114, 0.0122, 0.0120, 0.0128,\n",
      "        0.0125, 0.0119, 0.0117, 0.0115, 0.0115, 0.0121, 0.0128, 0.0116, 0.0112,\n",
      "        0.0119, 0.0126, 0.0128, 0.0127, 0.0112, 0.0121, 0.0113, 0.0118, 0.0113,\n",
      "        0.0126, 0.0113, 0.0120, 0.0120, 0.0120, 0.0114, 0.0122, 0.0118, 0.0116,\n",
      "        0.0116, 0.0116, 0.0124, 0.0126, 0.0125, 0.0116, 0.0115, 0.0127, 0.0122,\n",
      "        0.0119, 0.0117, 0.0123, 0.0119, 0.0129, 0.0123, 0.0115, 0.0123, 0.0117,\n",
      "        0.0119, 0.0125, 0.0113, 0.0127, 0.0115, 0.0118, 0.0121, 0.0124, 0.0127,\n",
      "        0.0120, 0.0124, 0.0122, 0.0118, 0.0123, 0.0122, 0.0118, 0.0116, 0.0114,\n",
      "        0.0128, 0.0127])\n",
      "y:  tensor([ 0.0581,  0.0774, -0.0352,  0.0538, -0.0075,  0.0492, -0.0441,  0.0528,\n",
      "        -0.0072,  0.0344,  0.0655, -0.0444,  0.0123, -0.0560, -0.0497,  0.0127,\n",
      "         0.0005,  0.0671,  0.0382, -0.0121, -0.0222, -0.0446, -0.0448,  0.0114,\n",
      "         0.0604, -0.0358, -0.0665, -0.0058,  0.0457,  0.0650,  0.0595, -0.0671,\n",
      "         0.0060, -0.0595, -0.0137, -0.0589,  0.0474, -0.0607,  0.0028, -0.0017,\n",
      "        -0.0027, -0.0542,  0.0199, -0.0171, -0.0361, -0.0368, -0.0344,  0.0319,\n",
      "         0.0470,  0.0394, -0.0331, -0.0389,  0.0534,  0.0195, -0.0077, -0.0250,\n",
      "         0.0215, -0.0126,  0.0694,  0.0253, -0.0402,  0.0283, -0.0228, -0.0083,\n",
      "         0.0381, -0.0564,  0.0536, -0.0426, -0.0135,  0.0116,  0.0337,  0.0553,\n",
      "        -0.0034,  0.0314,  0.0147, -0.0139,  0.0258,  0.0148, -0.0208, -0.0354,\n",
      "        -0.0545,  0.0661,  0.0567])\n",
      "softmax_denominator:  tensor([71.7248])\n",
      "result-typer:  <class 'torch.Tensor'>\n",
      "result:  tensor([0.0134, 0.0139, 0.0111, 0.0133, 0.0118, 0.0132, 0.0109, 0.0133, 0.0118,\n",
      "        0.0128, 0.0136, 0.0109, 0.0122, 0.0107, 0.0108, 0.0122, 0.0120, 0.0137,\n",
      "        0.0129, 0.0117, 0.0114, 0.0109, 0.0109, 0.0122, 0.0135, 0.0111, 0.0105,\n",
      "        0.0118, 0.0131, 0.0136, 0.0135, 0.0104, 0.0121, 0.0106, 0.0116, 0.0106,\n",
      "        0.0131, 0.0106, 0.0120, 0.0119, 0.0119, 0.0107, 0.0124, 0.0115, 0.0111,\n",
      "        0.0111, 0.0111, 0.0127, 0.0131, 0.0129, 0.0112, 0.0110, 0.0133, 0.0124,\n",
      "        0.0118, 0.0114, 0.0125, 0.0116, 0.0137, 0.0126, 0.0110, 0.0126, 0.0114,\n",
      "        0.0117, 0.0129, 0.0107, 0.0133, 0.0110, 0.0116, 0.0122, 0.0128, 0.0133,\n",
      "        0.0119, 0.0127, 0.0123, 0.0116, 0.0126, 0.0123, 0.0115, 0.0111, 0.0107,\n",
      "        0.0136, 0.0134])\n",
      "tensor([0.0134, 0.0139, 0.0111, 0.0133, 0.0118, 0.0132, 0.0109, 0.0133, 0.0118,\n",
      "        0.0128, 0.0136, 0.0109, 0.0122, 0.0107, 0.0108, 0.0122, 0.0120, 0.0137,\n",
      "        0.0129, 0.0117, 0.0114, 0.0109, 0.0109, 0.0122, 0.0135, 0.0111, 0.0105,\n",
      "        0.0118, 0.0131, 0.0136, 0.0135, 0.0104, 0.0121, 0.0106, 0.0116, 0.0106,\n",
      "        0.0131, 0.0106, 0.0120, 0.0119, 0.0119, 0.0107, 0.0124, 0.0115, 0.0111,\n",
      "        0.0111, 0.0111, 0.0127, 0.0131, 0.0129, 0.0112, 0.0110, 0.0133, 0.0124,\n",
      "        0.0118, 0.0114, 0.0125, 0.0116, 0.0137, 0.0126, 0.0110, 0.0126, 0.0114,\n",
      "        0.0117, 0.0129, 0.0107, 0.0133, 0.0110, 0.0116, 0.0122, 0.0128, 0.0133,\n",
      "        0.0119, 0.0127, 0.0123, 0.0116, 0.0126, 0.0123, 0.0115, 0.0111, 0.0107,\n",
      "        0.0136, 0.0134])\n",
      "y:  tensor([ 0.0581,  0.0774, -0.0352,  0.0538, -0.0075,  0.0492, -0.0441,  0.0528,\n",
      "        -0.0072,  0.0344,  0.0655, -0.0444,  0.0123, -0.0560, -0.0497,  0.0127,\n",
      "         0.0005,  0.0671,  0.0382, -0.0121, -0.0222, -0.0446, -0.0448,  0.0114,\n",
      "         0.0604, -0.0358, -0.0665, -0.0058,  0.0457,  0.0650,  0.0595, -0.0671,\n",
      "         0.0060, -0.0595, -0.0137, -0.0589,  0.0474, -0.0607,  0.0028, -0.0017,\n",
      "        -0.0027, -0.0542,  0.0199, -0.0171, -0.0361, -0.0368, -0.0344,  0.0319,\n",
      "         0.0470,  0.0394, -0.0331, -0.0389,  0.0534,  0.0195, -0.0077, -0.0250,\n",
      "         0.0215, -0.0126,  0.0694,  0.0253, -0.0402,  0.0283, -0.0228, -0.0083,\n",
      "         0.0381, -0.0564,  0.0536, -0.0426, -0.0135,  0.0116,  0.0337,  0.0553,\n",
      "        -0.0034,  0.0314,  0.0147, -0.0139,  0.0258,  0.0148, -0.0208, -0.0354,\n",
      "        -0.0545,  0.0661,  0.0567])\n",
      "softmax_denominator:  tensor([65.3121])\n",
      "result-typer:  <class 'torch.Tensor'>\n",
      "result:  tensor([0.0144, 0.0153, 0.0105, 0.0142, 0.0115, 0.0139, 0.0102, 0.0141, 0.0115,\n",
      "        0.0133, 0.0147, 0.0102, 0.0123, 0.0098, 0.0100, 0.0123, 0.0118, 0.0148,\n",
      "        0.0134, 0.0114, 0.0110, 0.0102, 0.0102, 0.0123, 0.0145, 0.0105, 0.0095,\n",
      "        0.0116, 0.0138, 0.0147, 0.0144, 0.0095, 0.0121, 0.0097, 0.0113, 0.0097,\n",
      "        0.0139, 0.0097, 0.0119, 0.0118, 0.0117, 0.0099, 0.0126, 0.0112, 0.0105,\n",
      "        0.0105, 0.0105, 0.0132, 0.0138, 0.0135, 0.0106, 0.0104, 0.0141, 0.0126,\n",
      "        0.0115, 0.0109, 0.0127, 0.0113, 0.0149, 0.0129, 0.0103, 0.0130, 0.0110,\n",
      "        0.0115, 0.0134, 0.0098, 0.0141, 0.0103, 0.0113, 0.0123, 0.0132, 0.0142,\n",
      "        0.0117, 0.0131, 0.0124, 0.0113, 0.0129, 0.0124, 0.0110, 0.0105, 0.0099,\n",
      "        0.0147, 0.0143])\n",
      "tensor([0.0144, 0.0153, 0.0105, 0.0142, 0.0115, 0.0139, 0.0102, 0.0141, 0.0115,\n",
      "        0.0133, 0.0147, 0.0102, 0.0123, 0.0098, 0.0100, 0.0123, 0.0118, 0.0148,\n",
      "        0.0134, 0.0114, 0.0110, 0.0102, 0.0102, 0.0123, 0.0145, 0.0105, 0.0095,\n",
      "        0.0116, 0.0138, 0.0147, 0.0144, 0.0095, 0.0121, 0.0097, 0.0113, 0.0097,\n",
      "        0.0139, 0.0097, 0.0119, 0.0118, 0.0117, 0.0099, 0.0126, 0.0112, 0.0105,\n",
      "        0.0105, 0.0105, 0.0132, 0.0138, 0.0135, 0.0106, 0.0104, 0.0141, 0.0126,\n",
      "        0.0115, 0.0109, 0.0127, 0.0113, 0.0149, 0.0129, 0.0103, 0.0130, 0.0110,\n",
      "        0.0115, 0.0134, 0.0098, 0.0141, 0.0103, 0.0113, 0.0123, 0.0132, 0.0142,\n",
      "        0.0117, 0.0131, 0.0124, 0.0113, 0.0129, 0.0124, 0.0110, 0.0105, 0.0099,\n",
      "        0.0147, 0.0143])\n",
      "y:  tensor([ 0.0581,  0.0774, -0.0352,  0.0538, -0.0075,  0.0492, -0.0441,  0.0528,\n",
      "        -0.0072,  0.0344,  0.0655, -0.0444,  0.0123, -0.0560, -0.0497,  0.0127,\n",
      "         0.0005,  0.0671,  0.0382, -0.0121, -0.0222, -0.0446, -0.0448,  0.0114,\n",
      "         0.0604, -0.0358, -0.0665, -0.0058,  0.0457,  0.0650,  0.0595, -0.0671,\n",
      "         0.0060, -0.0595, -0.0137, -0.0589,  0.0474, -0.0607,  0.0028, -0.0017,\n",
      "        -0.0027, -0.0542,  0.0199, -0.0171, -0.0361, -0.0368, -0.0344,  0.0319,\n",
      "         0.0470,  0.0394, -0.0331, -0.0389,  0.0534,  0.0195, -0.0077, -0.0250,\n",
      "         0.0215, -0.0126,  0.0694,  0.0253, -0.0402,  0.0283, -0.0228, -0.0083,\n",
      "         0.0381, -0.0564,  0.0536, -0.0426, -0.0135,  0.0116,  0.0337,  0.0553,\n",
      "        -0.0034,  0.0314,  0.0147, -0.0139,  0.0258,  0.0148, -0.0208, -0.0354,\n",
      "        -0.0545,  0.0661,  0.0567])\n",
      "softmax_denominator:  tensor([82.9381])\n",
      "result-typer:  <class 'torch.Tensor'>\n",
      "result:  tensor([0.0121, 0.0121, 0.0120, 0.0121, 0.0120, 0.0121, 0.0120, 0.0121, 0.0120,\n",
      "        0.0121, 0.0121, 0.0120, 0.0120, 0.0120, 0.0120, 0.0120, 0.0120, 0.0121,\n",
      "        0.0121, 0.0120, 0.0120, 0.0120, 0.0120, 0.0120, 0.0121, 0.0120, 0.0120,\n",
      "        0.0120, 0.0121, 0.0121, 0.0121, 0.0120, 0.0120, 0.0120, 0.0120, 0.0120,\n",
      "        0.0121, 0.0120, 0.0120, 0.0120, 0.0120, 0.0120, 0.0121, 0.0120, 0.0120,\n",
      "        0.0120, 0.0120, 0.0121, 0.0121, 0.0121, 0.0120, 0.0120, 0.0121, 0.0121,\n",
      "        0.0120, 0.0120, 0.0121, 0.0120, 0.0121, 0.0121, 0.0120, 0.0121, 0.0120,\n",
      "        0.0120, 0.0121, 0.0120, 0.0121, 0.0120, 0.0120, 0.0120, 0.0121, 0.0121,\n",
      "        0.0120, 0.0121, 0.0120, 0.0120, 0.0121, 0.0120, 0.0120, 0.0120, 0.0120,\n",
      "        0.0121, 0.0121])\n",
      "tensor([0.0121, 0.0121, 0.0120, 0.0121, 0.0120, 0.0121, 0.0120, 0.0121, 0.0120,\n",
      "        0.0121, 0.0121, 0.0120, 0.0120, 0.0120, 0.0120, 0.0120, 0.0120, 0.0121,\n",
      "        0.0121, 0.0120, 0.0120, 0.0120, 0.0120, 0.0120, 0.0121, 0.0120, 0.0120,\n",
      "        0.0120, 0.0121, 0.0121, 0.0121, 0.0120, 0.0120, 0.0120, 0.0120, 0.0120,\n",
      "        0.0121, 0.0120, 0.0120, 0.0120, 0.0120, 0.0120, 0.0121, 0.0120, 0.0120,\n",
      "        0.0120, 0.0120, 0.0121, 0.0121, 0.0121, 0.0120, 0.0120, 0.0121, 0.0121,\n",
      "        0.0120, 0.0120, 0.0121, 0.0120, 0.0121, 0.0121, 0.0120, 0.0121, 0.0120,\n",
      "        0.0120, 0.0121, 0.0120, 0.0121, 0.0120, 0.0120, 0.0120, 0.0121, 0.0121,\n",
      "        0.0120, 0.0121, 0.0120, 0.0120, 0.0121, 0.0120, 0.0120, 0.0120, 0.0120,\n",
      "        0.0121, 0.0121])\n"
     ]
    },
    {
     "data": {
      "image/png": "[encoded data removed]",
      "text/plain": [
       "<Figure size 1500x500 with 1 Axes>"
      ]
     },
     "metadata": {},
     "output_type": "display_data"
    }
   ],
   "source": [
    "scores = y[0,0,:].detach()\n",
    "_, ax = plt.subplots(figsize=(15,5))\n",
    "\n",
    "for t in reversed([0.3, 0.5, 1.0, 100]):\n",
    "    ax.plot(charnn.hot_softmax(scores, temperature=t).cpu().numpy(), label=f'T={t}')\n",
    "ax.set_xlabel('$x_{t+1}$')\n",
    "ax.set_ylabel('$p(x_{t+1}|x_t)$')\n",
    "ax.legend()\n",
    "\n",
    "uniform_proba = 1/len(char_to_idx)\n",
    "uniform_diff = torch.abs(charnn.hot_softmax(scores, temperature=100) - uniform_proba)\n",
    "test.assertTrue(torch.all(uniform_diff < 1e-4))"
   ]
  },
  {
   "cell_type": "markdown",
   "metadata": {
    "id": "pT9AtEW3k1ih"
   },
   "source": [
    "**TODO**: Implement the `generate_from_model()` function in the `hw3/charnn.py` module."
   ]
  },
  {
   "cell_type": "code",
   "execution_count": 45,
   "metadata": {
    "colab": {
     "base_uri": "https://localhost:8080/",
     "height": 329
    },
    "executionInfo": {
     "elapsed": 489,
     "status": "error",
     "timestamp": 1718920832706,
     "user": {
      "displayName": "Dror Meirovich",
      "userId": "14310987058477987674"
     },
     "user_tz": -180
    },
    "id": "0tKroy_-k1ih",
    "outputId": "04aaabd8-ef4b-4b25-8423-9cb5251436ef"
   },
   "outputs": [
    {
     "name": "stdout",
     "output_type": "stream",
     "text": [
      "x:  tensor([[[0., 0., 0., 0., 0., 0., 0., 0., 0., 0., 0., 0., 0., 0., 0., 0., 0.,\n",
      "          0., 0., 0., 0., 0., 0., 0., 0., 0., 0., 0., 0., 0., 0., 0., 0., 0.,\n",
      "          0., 0., 0., 0., 0., 0., 0., 0., 0., 0., 0., 0., 0., 0., 0., 0., 0.,\n",
      "          0., 0., 0., 0., 0., 0., 0., 0., 0., 0., 0., 0., 0., 0., 0., 0., 0.,\n",
      "          0., 0., 0., 0., 1., 0., 0., 0., 0., 0., 0., 0., 0., 0., 0.]]])\n",
      "y_model:  tensor([[[ 1.0782,  2.8611, -2.2188, -2.5906, -2.0595, -2.6150, -2.3845,\n",
      "          -2.4174, -2.4842, -0.7259, -2.4966,  2.8447, -2.4732, -2.6691,\n",
      "          -2.4231, -2.4003, -2.2688, -2.0718, -2.6630, -2.6928, -2.3369,\n",
      "          -2.4001,  0.9804, -1.1519, -2.1336, -0.4272,  1.8969,  0.0784,\n",
      "          -2.4876, -1.9725,  1.0002, -0.0611, -2.2291, -0.4130, -0.9565,\n",
      "          -2.5813, -2.5746, -1.0880,  1.0743, -0.8108, -2.2663, -2.1611,\n",
      "          -2.3556,  1.6228,  0.1633,  3.3013, -2.2294, -2.4323, -0.6583,\n",
      "          -2.5507, -2.4813, -2.9092, -2.1089, -2.1413, -2.7736,  0.1870,\n",
      "          -1.8374,  0.3882,  0.9178,  0.7014, -1.0110, -0.7172,  0.6470,\n",
      "          -1.6441, -2.2059, -2.4554, -1.2295, -0.3764, -1.5719,  2.3659,\n",
      "          -0.6680, -2.2680,  1.6804,  4.5368, -1.0920, -1.0705, -1.3567,\n",
      "          -2.8528, -2.4635, -1.5263, -2.1400, -2.5998, -2.9051]]])\n",
      "h:  tensor([[[ 1.1967e-01, -7.2035e-02, -4.3212e-02, -1.2729e-01, -1.8190e-01,\n",
      "           4.4748e-02,  1.1621e-01,  1.9329e-02,  7.8611e-02,  8.8348e-02,\n",
      "           1.1017e-01, -1.7406e-01, -7.2404e-02, -1.4790e-01,  9.7792e-02,\n",
      "           1.5521e-01, -1.4798e-01,  6.4932e-02, -1.1214e-01, -4.7151e-01,\n",
      "          -8.6918e-02, -7.0341e-05,  8.9582e-02, -2.7642e-02, -1.2681e-01,\n",
      "          -2.7614e-01, -1.4275e-01, -3.0031e-02,  6.7525e-02, -5.4682e-02,\n",
      "           3.5923e-02,  1.2159e-01,  1.4399e-01,  3.1265e-01, -1.3059e-01,\n",
      "          -5.0234e-02,  1.3490e-01,  9.4152e-02,  1.0941e-01, -7.3483e-02,\n",
      "           3.0422e-02, -8.2838e-02, -2.9055e-03, -7.3621e-02,  1.7783e-01,\n",
      "          -1.7336e-02, -1.4719e-01, -6.7613e-02,  1.3515e-01,  9.2702e-02,\n",
      "           3.8251e-02, -6.3946e-02, -1.3617e-01, -2.0186e-01,  1.0148e-01,\n",
      "           3.7339e-02,  9.3290e-02, -1.4677e-01,  3.4873e-02, -1.0628e-01,\n",
      "           7.5439e-02,  6.4185e-02,  1.5205e-01, -3.6260e-02,  1.1718e-01,\n",
      "           5.3211e-02, -4.0917e-01, -4.6972e-02,  1.7175e-01, -4.9779e-02,\n",
      "           8.8540e-02,  1.0463e-01, -2.6100e-02,  6.4540e-02,  1.4134e-01,\n",
      "           5.0342e-02,  1.4223e-01,  1.8131e-01, -9.1664e-02,  1.1045e-01,\n",
      "          -2.4663e-01, -2.1977e-01, -8.1903e-03, -9.3887e-02, -2.2006e-02,\n",
      "          -2.9738e-02,  9.3727e-02,  1.3520e-01, -1.2056e-01, -6.9197e-02,\n",
      "          -9.2021e-02, -1.3269e-01,  8.4486e-03, -1.7867e-01,  3.7870e-02,\n",
      "          -1.4506e-01, -1.2761e-01,  1.5371e-01, -2.0987e-01,  5.5269e-02,\n",
      "           3.0311e-01, -5.9143e-02,  7.4620e-02,  1.1151e-01, -1.5328e-01,\n",
      "          -1.0901e-01,  1.6220e-01, -4.7541e-02, -3.8573e-02, -1.6351e-01,\n",
      "          -9.9022e-02, -7.4864e-02, -8.5689e-02,  1.5099e-01, -1.1894e-01,\n",
      "           8.1676e-02, -1.6894e-01,  1.2740e-01, -4.8323e-02,  1.0178e-01,\n",
      "          -3.8222e-02, -7.3414e-03,  1.3217e-01, -1.3212e-01,  1.3722e-01,\n",
      "          -5.3093e-02, -1.2659e-02, -6.1457e-02],\n",
      "         [ 7.5701e-02, -3.4081e-01, -4.9189e-01,  1.9643e-01,  2.9583e-01,\n",
      "           4.4806e-01,  5.3624e-01,  6.8532e-02, -3.1682e-01, -4.2482e-01,\n",
      "          -1.4597e-01, -1.8801e-01, -5.5545e-01, -7.2778e-02, -1.4692e-01,\n",
      "          -2.3936e-01,  1.4082e-01,  1.8586e-01, -5.5306e-02, -4.6745e-01,\n",
      "           1.4984e-01,  4.7154e-01,  2.3598e-01, -6.6771e-02,  1.7304e-01,\n",
      "          -2.0760e-01, -3.5673e-01, -4.5911e-01,  3.1939e-01, -2.3776e-01,\n",
      "          -5.7391e-01,  5.5065e-01,  2.5873e-01,  5.1129e-01, -1.4039e-01,\n",
      "          -3.5601e-01, -2.9276e-02, -1.6782e-01,  6.2719e-03,  3.5416e-01,\n",
      "           1.3991e-01, -2.8528e-01,  1.7503e-01,  4.0720e-01,  4.5915e-01,\n",
      "           1.7930e-01, -5.0478e-01, -6.2925e-01,  1.9432e-02,  2.0652e-01,\n",
      "           1.5320e-01, -1.2127e-01, -9.2851e-02, -8.3662e-02,  9.0101e-02,\n",
      "          -4.6131e-01, -1.5042e-03, -5.7213e-01, -5.9488e-01, -2.3317e-01,\n",
      "          -3.5713e-01, -3.0583e-01,  1.1500e-01,  1.6975e-02,  4.1690e-01,\n",
      "          -2.4761e-01,  3.3979e-01,  1.1976e-01,  4.3923e-01, -1.2192e-01,\n",
      "           5.3794e-02, -2.2106e-02,  4.3553e-01,  2.9182e-04, -2.8984e-01,\n",
      "          -4.2568e-01, -2.8796e-01, -3.4573e-01,  1.3623e-01, -6.0377e-01,\n",
      "          -1.0795e-01,  3.7044e-01,  2.4384e-02,  4.1969e-01, -2.3775e-01,\n",
      "           4.2109e-01,  3.2247e-01, -1.6317e-01,  3.4593e-01,  6.2350e-01,\n",
      "          -4.0145e-01, -3.9359e-01, -3.2730e-01,  3.9499e-01,  2.4590e-01,\n",
      "           2.8095e-01, -1.8472e-01, -2.4246e-01, -4.5609e-01, -6.8985e-01,\n",
      "           1.6992e-01, -9.8920e-02, -5.7702e-02, -2.7557e-01,  1.7668e-01,\n",
      "          -4.3903e-01, -5.5221e-01, -1.0275e-01,  6.9614e-02, -3.6459e-01,\n",
      "          -8.4280e-02, -4.9522e-01,  5.1724e-01,  5.1719e-02,  4.2965e-01,\n",
      "          -1.0123e-01,  3.2631e-01,  4.3233e-01,  1.9807e-01, -2.6743e-01,\n",
      "           5.7067e-01,  4.3652e-01,  4.9175e-01,  7.6631e-02,  3.5900e-01,\n",
      "          -3.0367e-01,  6.2005e-02,  6.6970e-01]]])\n",
      "y_squeeze:  tensor([[ 1.0782,  2.8611, -2.2188, -2.5906, -2.0595, -2.6150, -2.3845, -2.4174,\n",
      "         -2.4842, -0.7259, -2.4966,  2.8447, -2.4732, -2.6691, -2.4231, -2.4003,\n",
      "         -2.2688, -2.0718, -2.6630, -2.6928, -2.3369, -2.4001,  0.9804, -1.1519,\n",
      "         -2.1336, -0.4272,  1.8969,  0.0784, -2.4876, -1.9725,  1.0002, -0.0611,\n",
      "         -2.2291, -0.4130, -0.9565, -2.5813, -2.5746, -1.0880,  1.0743, -0.8108,\n",
      "         -2.2663, -2.1611, -2.3556,  1.6228,  0.1633,  3.3013, -2.2294, -2.4323,\n",
      "         -0.6583, -2.5507, -2.4813, -2.9092, -2.1089, -2.1413, -2.7736,  0.1870,\n",
      "         -1.8374,  0.3882,  0.9178,  0.7014, -1.0110, -0.7172,  0.6470, -1.6441,\n",
      "         -2.2059, -2.4554, -1.2295, -0.3764, -1.5719,  2.3659, -0.6680, -2.2680,\n",
      "          1.6804,  4.5368, -1.0920, -1.0705, -1.3567, -2.8528, -2.4635, -1.5263,\n",
      "         -2.1400, -2.5998, -2.9051]])\n",
      "scaled_y:  tensor([[ 2.1563,  5.7222, -4.4375, -5.1812, -4.1189, -5.2300, -4.7690, -4.8349,\n",
      "         -4.9684, -1.4519, -4.9931,  5.6894, -4.9464, -5.3383, -4.8462, -4.8007,\n",
      "         -4.5376, -4.1436, -5.3261, -5.3855, -4.6738, -4.8002,  1.9608, -2.3037,\n",
      "         -4.2672, -0.8544,  3.7937,  0.1568, -4.9752, -3.9449,  2.0004, -0.1222,\n",
      "         -4.4582, -0.8260, -1.9130, -5.1625, -5.1491, -2.1761,  2.1487, -1.6217,\n",
      "         -4.5326, -4.3222, -4.7111,  3.2456,  0.3266,  6.6025, -4.4587, -4.8646,\n",
      "         -1.3166, -5.1014, -4.9627, -5.8184, -4.2177, -4.2825, -5.5473,  0.3741,\n",
      "         -3.6747,  0.7764,  1.8356,  1.4028, -2.0220, -1.4345,  1.2940, -3.2881,\n",
      "         -4.4118, -4.9109, -2.4590, -0.7528, -3.1439,  4.7318, -1.3361, -4.5360,\n",
      "          3.3607,  9.0737, -2.1840, -2.1411, -2.7135, -5.7056, -4.9271, -3.0527,\n",
      "         -4.2801, -5.1996, -5.8103]])\n",
      "y:  tensor([[8.3632e-04, 2.9582e-02, 1.1448e-06, 5.4418e-07, 1.5742e-06, 5.1823e-07,\n",
      "         8.2177e-07, 7.6936e-07, 6.7322e-07, 2.2665e-05, 6.5676e-07, 2.8626e-02,\n",
      "         6.8820e-07, 4.6507e-07, 7.6073e-07, 7.9613e-07, 1.0357e-06, 1.5359e-06,\n",
      "         4.7076e-07, 4.4361e-07, 9.0382e-07, 7.9649e-07, 6.8783e-04, 9.6694e-06,\n",
      "         1.3572e-06, 4.1196e-05, 4.3002e-03, 1.1324e-04, 6.6864e-07, 1.8734e-06,\n",
      "         7.1557e-04, 8.5667e-05, 1.1214e-06, 4.2383e-05, 1.4292e-05, 5.5442e-07,\n",
      "         5.6189e-07, 1.0986e-05, 8.2997e-04, 1.9125e-05, 1.0409e-06, 1.2847e-06,\n",
      "         8.7071e-07, 2.4857e-03, 1.3420e-04, 7.1340e-02, 1.1207e-06, 7.4684e-07,\n",
      "         2.5949e-05, 5.8937e-07, 6.7708e-07, 2.8773e-07, 1.4261e-06, 1.3366e-06,\n",
      "         3.7735e-07, 1.4072e-04, 2.4547e-06, 2.1043e-04, 6.0688e-04, 3.9367e-04,\n",
      "         1.2816e-05, 2.3063e-05, 3.5308e-04, 3.6131e-06, 1.1746e-06, 7.1307e-07,\n",
      "         8.2786e-06, 4.5597e-05, 4.1738e-06, 1.0988e-02, 2.5448e-05, 1.0374e-06,\n",
      "         2.7889e-03, 8.4440e-01, 1.0899e-05, 1.1377e-05, 6.4186e-06, 3.2210e-07,\n",
      "         7.0162e-07, 4.5724e-06, 1.3399e-06, 5.3425e-07, 2.9009e-07]])\n",
      "next_char_idx:  69\n",
      "x:  tensor([[[0., 0., 0., 0., 0., 0., 0., 0., 0., 0., 0., 0., 0., 0., 0., 0., 0.,\n",
      "          0., 0., 0., 0., 0., 0., 0., 0., 0., 0., 0., 0., 0., 0., 0., 0., 0.,\n",
      "          0., 0., 0., 0., 0., 0., 0., 0., 0., 0., 0., 0., 0., 0., 0., 0., 0.,\n",
      "          0., 0., 0., 0., 0., 0., 0., 0., 0., 0., 0., 0., 0., 0., 0., 0., 0.,\n",
      "          0., 1., 0., 0., 0., 0., 0., 0., 0., 0., 0., 0., 0., 0., 0.]]])\n",
      "y_model:  tensor([[[ 0.5910,  6.0518, -5.2717, -5.4959, -5.0049, -5.3634, -5.4354,\n",
      "          -5.8756, -5.7990,  1.8133, -5.7138,  5.2712, -5.1648, -5.7064,\n",
      "          -5.5805, -5.5295, -5.2780, -4.7943, -6.1304, -5.4356, -5.1311,\n",
      "          -5.5545,  0.4031,  0.7307, -4.6426, -0.9361,  3.2818, -0.5113,\n",
      "          -5.7392, -4.8059,  0.9280,  1.0954, -5.0934, -3.6277, -0.8992,\n",
      "          -6.2199, -5.6559, -2.4756,  2.9443, -0.5396, -5.2949, -4.8433,\n",
      "          -5.4897,  3.6040, -0.6510,  0.3147, -5.0213, -5.5836, -0.2698,\n",
      "          -5.6253, -5.2468, -6.1442, -4.9599, -5.3993, -6.1018,  1.3142,\n",
      "          -4.2039, -3.9059,  2.4321,  3.8935, -0.7931, -2.9397,  2.2140,\n",
      "          -1.7815, -5.3469, -5.0257, -1.0127,  0.5046, -2.6216, -1.8683,\n",
      "          -1.5688, -5.3624,  5.6172,  6.0814, -0.7645,  0.5513, -4.4153,\n",
      "          -3.1813, -5.1000, -0.5252, -4.9260, -5.7674, -6.2590]]])\n",
      "h:  tensor([[[ 0.0503,  0.4521, -0.0669,  0.3060,  0.3805, -0.0561,  0.1914,\n",
      "          -0.1895,  0.2053, -0.1191,  0.3559, -0.3267, -0.0890, -0.1654,\n",
      "          -0.0088, -0.4656, -0.0922,  0.2545,  0.1552, -0.6610, -0.1367,\n",
      "          -0.4233, -0.2928, -0.1345, -0.4571,  0.2959, -0.0664, -0.0770,\n",
      "           0.4335, -0.0788,  0.0017,  0.2531,  0.2999, -0.5873,  0.1287,\n",
      "          -0.1124,  0.2062,  0.3127,  0.0794, -0.5538,  0.0402, -0.1992,\n",
      "           0.0433, -0.1120,  0.1139, -0.2682, -0.2609, -0.1055,  0.2512,\n",
      "          -0.0708,  0.1948, -0.1525, -0.0974, -0.6064, -0.4301,  0.2392,\n",
      "           0.0417, -0.1425,  0.1227, -0.1796,  0.1092,  0.1147,  0.4740,\n",
      "          -0.1325,  0.2395, -0.0175,  0.2279,  0.4693,  0.0809, -0.1077,\n",
      "           0.1328,  0.1668, -0.1411,  0.1253,  0.1788, -0.1451, -0.1663,\n",
      "          -0.2313, -0.2441, -0.4238,  0.0429, -0.2961,  0.1036, -0.1365,\n",
      "          -0.0836,  0.3453,  0.1793,  0.2133, -0.1939, -0.0268, -0.5425,\n",
      "           0.0302,  0.2289,  0.3147,  0.0288, -0.1701, -0.1885,  0.1884,\n",
      "           0.3222, -0.1519,  0.6400,  0.4666, -0.0384,  0.3100,  0.0912,\n",
      "          -0.1432,  0.3943,  0.1157,  0.2202, -0.3927, -0.3307, -0.3265,\n",
      "          -0.3310,  0.2524, -0.1523,  0.0555,  0.0631, -0.0252,  0.1273,\n",
      "           0.2760, -0.2903, -0.2977, -0.0358, -0.3025,  0.1800, -0.2064,\n",
      "           0.0661, -0.0772],\n",
      "         [-0.7784, -0.7890, -0.7933,  0.8966,  0.9456,  0.5862,  0.4648,\n",
      "           0.9689, -0.3714, -0.9975, -0.7821, -0.2328, -0.9921, -0.5943,\n",
      "          -0.5261, -0.8859, -0.2839,  0.2720, -0.0979, -0.9953,  0.7888,\n",
      "           0.9784,  0.0376, -0.3430,  0.8314,  0.2146, -0.3807, -0.9975,\n",
      "           0.1535, -0.2373, -0.9978,  0.9852,  0.2779,  0.9750, -0.1330,\n",
      "          -0.5359,  0.4560,  0.5764,  0.5729,  0.5152, -0.0940,  0.9931,\n",
      "           0.2704,  0.9916,  0.5510,  0.8534, -0.4094,  0.8617,  0.6757,\n",
      "           0.0856,  0.9520,  0.9369,  0.0325, -0.8627, -0.1512, -0.9985,\n",
      "          -0.0312, -0.9958, -0.9969, -0.5755, -0.6773, -0.7822,  0.9406,\n",
      "           0.2784,  0.4965, -0.7545,  0.8087, -0.0713,  0.7519, -0.1744,\n",
      "          -0.1055, -0.9924,  0.8573, -0.0203, -0.6388, -0.9809, -0.9753,\n",
      "          -0.9916,  0.2349, -0.8802,  0.6711, -0.7561, -0.2092, -0.0288,\n",
      "           0.9431,  0.9956,  0.4810,  0.0631,  0.9317,  0.9431, -0.4515,\n",
      "          -0.8765,  0.8939,  0.9865,  0.8275,  0.9864,  0.7102, -0.3460,\n",
      "          -0.7442, -0.9110, -0.5937,  0.1110,  0.9827, -0.8347, -0.3087,\n",
      "          -0.8835, -0.6046, -0.6992,  0.0594, -0.4048, -0.0231, -0.9885,\n",
      "          -0.4365,  0.0990,  0.9940,  0.9685,  0.4593,  0.4215,  0.9762,\n",
      "           0.6057,  0.9975,  0.6231,  0.9983,  0.9281,  0.7888, -0.5563,\n",
      "           0.6475,  0.8977]]])\n",
      "y_squeeze:  tensor([[ 0.5910,  6.0518, -5.2717, -5.4959, -5.0049, -5.3634, -5.4354, -5.8756,\n",
      "         -5.7990,  1.8133, -5.7138,  5.2712, -5.1648, -5.7064, -5.5805, -5.5295,\n",
      "         -5.2780, -4.7943, -6.1304, -5.4356, -5.1311, -5.5545,  0.4031,  0.7307,\n",
      "         -4.6426, -0.9361,  3.2818, -0.5113, -5.7392, -4.8059,  0.9280,  1.0954,\n",
      "         -5.0934, -3.6277, -0.8992, -6.2199, -5.6559, -2.4756,  2.9443, -0.5396,\n",
      "         -5.2949, -4.8433, -5.4897,  3.6040, -0.6510,  0.3147, -5.0213, -5.5836,\n",
      "         -0.2698, -5.6253, -5.2468, -6.1442, -4.9599, -5.3993, -6.1018,  1.3142,\n",
      "         -4.2039, -3.9059,  2.4321,  3.8935, -0.7931, -2.9397,  2.2140, -1.7815,\n",
      "         -5.3469, -5.0257, -1.0127,  0.5046, -2.6216, -1.8683, -1.5688, -5.3624,\n",
      "          5.6172,  6.0814, -0.7645,  0.5513, -4.4153, -3.1813, -5.1000, -0.5252,\n",
      "         -4.9260, -5.7674, -6.2590]])\n",
      "scaled_y:  tensor([[  1.1820,  12.1037, -10.5434, -10.9919, -10.0099, -10.7269, -10.8707,\n",
      "         -11.7511, -11.5979,   3.6267, -11.4276,  10.5424, -10.3295, -11.4127,\n",
      "         -11.1611, -11.0590, -10.5561,  -9.5886, -12.2607, -10.8713, -10.2622,\n",
      "         -11.1090,   0.8062,   1.4613,  -9.2852,  -1.8722,   6.5636,  -1.0225,\n",
      "         -11.4783,  -9.6118,   1.8560,   2.1908, -10.1868,  -7.2554,  -1.7983,\n",
      "         -12.4397, -11.3119,  -4.9512,   5.8885,  -1.0791, -10.5898,  -9.6867,\n",
      "         -10.9794,   7.2080,  -1.3021,   0.6294, -10.0426, -11.1672,  -0.5396,\n",
      "         -11.2506, -10.4935, -12.2884,  -9.9198, -10.7987, -12.2036,   2.6284,\n",
      "          -8.4078,  -7.8118,   4.8641,   7.7871,  -1.5862,  -5.8794,   4.4280,\n",
      "          -3.5631, -10.6938, -10.0514,  -2.0254,   1.0092,  -5.2433,  -3.7367,\n",
      "          -3.1376, -10.7248,  11.2344,  12.1627,  -1.5289,   1.1026,  -8.8306,\n",
      "          -6.3626, -10.1999,  -1.0503,  -9.8519, -11.5349, -12.5179]])\n",
      "y:  tensor([[6.6445e-06, 3.6787e-01, 5.3728e-11, 3.4311e-11, 9.1602e-11, 4.4721e-11,\n",
      "         3.8729e-11, 1.6058e-11, 1.8716e-11, 7.6594e-05, 2.2193e-11, 7.7209e-02,\n",
      "         6.6540e-11, 2.2525e-11, 2.8969e-11, 3.2084e-11, 5.3052e-11, 1.3959e-10,\n",
      "         9.6468e-12, 3.8709e-11, 7.1174e-11, 3.0519e-11, 4.5633e-06, 8.7861e-06,\n",
      "         1.8907e-10, 3.1337e-07, 1.4444e-03, 7.3292e-07, 2.1095e-11, 1.3639e-10,\n",
      "         1.3037e-05, 1.8223e-05, 7.6748e-11, 1.4394e-09, 3.3740e-07, 8.0655e-12,\n",
      "         2.4914e-11, 1.4416e-08, 7.3537e-04, 6.9260e-07, 5.1294e-11, 1.2655e-10,\n",
      "         3.4741e-11, 2.7512e-03, 5.5418e-07, 3.8236e-06, 8.8656e-11, 2.8793e-11,\n",
      "         1.1880e-06, 2.6488e-11, 5.6475e-11, 9.3836e-12, 1.0023e-10, 4.1622e-11,\n",
      "         1.0214e-11, 2.8227e-05, 4.5467e-10, 8.2516e-10, 2.6400e-04, 4.9094e-03,\n",
      "         4.1712e-07, 5.6984e-09, 1.7068e-04, 5.7772e-08, 4.6225e-11, 8.7880e-11,\n",
      "         2.6886e-07, 5.5903e-06, 1.0765e-08, 4.8565e-08, 8.8411e-08, 4.4813e-11,\n",
      "         1.5423e-01, 3.9024e-01, 4.4171e-07, 6.1373e-06, 2.9788e-10, 3.5146e-09,\n",
      "         7.5748e-11, 7.1284e-07, 1.0728e-10, 1.9935e-11, 7.4591e-12]])\n",
      "next_char_idx:  1\n",
      "x:  tensor([[[0., 1., 0., 0., 0., 0., 0., 0., 0., 0., 0., 0., 0., 0., 0., 0., 0.,\n",
      "          0., 0., 0., 0., 0., 0., 0., 0., 0., 0., 0., 0., 0., 0., 0., 0., 0.,\n",
      "          0., 0., 0., 0., 0., 0., 0., 0., 0., 0., 0., 0., 0., 0., 0., 0., 0.,\n",
      "          0., 0., 0., 0., 0., 0., 0., 0., 0., 0., 0., 0., 0., 0., 0., 0., 0.,\n",
      "          0., 0., 0., 0., 0., 0., 0., 0., 0., 0., 0., 0., 0., 0., 0.]]])\n",
      "y_model:  tensor([[[-0.3527,  7.0953, -6.0439, -6.1317, -5.8416, -6.0837, -6.5696,\n",
      "          -7.0773, -6.7542,  5.1981, -6.6045,  4.8911, -6.1855, -6.1893,\n",
      "          -6.2227, -5.7990, -6.1698, -5.7959, -6.9003, -5.9228, -5.6257,\n",
      "          -6.3441,  1.3306,  2.6351, -5.6831, -2.0881,  3.2719,  0.5141,\n",
      "          -6.6392, -5.7086,  1.1376,  1.9950, -6.0289, -1.9466,  0.3087,\n",
      "          -7.0282, -6.1766, -2.2732,  4.4866, -0.0744, -6.1760, -5.6461,\n",
      "          -6.0517,  3.6440, -0.2515, -0.9304, -6.1011, -6.1376,  0.2798,\n",
      "          -6.0470, -5.9129, -6.9615, -6.1731, -6.2141, -6.6599, -0.1345,\n",
      "          -3.2755, -6.0639,  1.8859,  3.2041, -0.8247, -2.7138,  4.2845,\n",
      "          -3.3698, -6.1559, -3.2118, -0.0899,  0.6570, -1.3811, -3.9472,\n",
      "          -1.6658, -6.1394,  2.8682,  6.8641,  0.3122, -3.5188, -4.4798,\n",
      "          -0.6721, -5.9032,  1.1530, -5.9532, -6.7283, -7.0753]]])\n",
      "h:  tensor([[[ 0.0636,  0.3822, -0.3275,  0.1529,  0.3132, -0.3121,  0.0122,\n",
      "          -0.2035,  0.1957, -0.2366, -0.6416, -0.5310, -0.2540, -0.1927,\n",
      "           0.2304,  0.1316,  0.0621,  0.3135, -0.4949,  0.0482,  0.3066,\n",
      "          -0.3901, -0.6021, -0.2560, -0.1494,  0.5161, -0.3781, -0.1418,\n",
      "           0.5313, -0.3445,  0.0398,  0.6071,  0.5737,  0.6739, -0.1378,\n",
      "           0.4927,  0.2654,  0.3722,  0.0820,  0.4740,  0.0396, -0.2724,\n",
      "           0.5538, -0.1579,  0.2528,  0.4381, -0.2931, -0.1253,  0.2744,\n",
      "          -0.2528,  0.0815, -0.2160, -0.1084, -0.2549, -0.6381,  0.5691,\n",
      "           0.1508, -0.1524,  0.3895,  0.0692,  0.1180,  0.2153, -0.3658,\n",
      "          -0.1201,  0.4778, -0.2835,  0.5156, -0.6961,  0.2273, -0.1152,\n",
      "           0.1356,  0.1764, -0.4639,  0.1264,  0.2248,  0.3675, -0.1225,\n",
      "          -0.6047, -0.2555, -0.3574,  0.0681, -0.4968,  0.2740, -0.1369,\n",
      "          -0.2678,  0.3511,  0.1981,  0.3580, -0.1963, -0.3052, -0.4952,\n",
      "           0.3225,  0.7076,  0.5938, -0.0992, -0.3339, -0.1999, -0.2992,\n",
      "           0.3318, -0.3811,  0.6336,  0.8038,  0.5514,  0.3493,  0.5372,\n",
      "          -0.1452,  0.3549,  0.1159, -0.6167,  0.3029, -0.5112, -0.3808,\n",
      "          -0.3605,  0.2702, -0.3028,  0.0603,  0.6750, -0.0420, -0.2259,\n",
      "           0.3228,  0.1817,  0.3342, -0.0723, -0.3209,  0.2026, -0.5795,\n",
      "           0.0101, -0.0810],\n",
      "         [-0.9993, -0.9996, -0.9997,  0.9190,  0.9999,  0.8104,  0.9841,\n",
      "           1.0000, -0.3952, -1.0000, -0.9984, -0.2329, -1.0000, -0.5961,\n",
      "          -0.5647,  0.9439, -0.9852,  0.2718, -0.0991, -1.0000,  0.8548,\n",
      "           1.0000, -0.9981, -0.3432,  0.8080,  0.2062, -0.3640, -0.9999,\n",
      "           0.9036, -0.2373, -1.0000,  0.9995,  0.2779,  0.9999, -0.1331,\n",
      "          -0.8610,  0.9972,  0.9940,  0.9999,  0.5153, -0.9986,  0.9098,\n",
      "           0.2707,  1.0000, -0.6336,  0.9991, -0.4077,  0.9997,  0.9973,\n",
      "           0.0809,  1.0000,  0.9998,  0.1125, -0.9997, -0.1512, -1.0000,\n",
      "          -0.0314, -1.0000, -1.0000, -0.6001, -0.9928, -0.9929,  0.9996,\n",
      "           0.2816,  0.4756, -0.9525,  0.2723, -0.0713, -0.1633, -0.9806,\n",
      "          -0.9989, -1.0000, -0.9005, -0.5233, -0.5768, -0.9892, -0.9997,\n",
      "          -1.0000,  0.2354, -0.9998, -0.3212, -0.9976, -0.9728, -0.9942,\n",
      "           0.9998,  1.0000,  0.4961,  0.9519,  1.0000,  1.0000, -0.4598,\n",
      "          -0.9656,  0.8055,  0.9954,  0.9995,  1.0000,  0.9999, -0.3462,\n",
      "          -0.7449, -0.9110, -0.9818,  0.1181,  0.9999,  0.3058, -0.7044,\n",
      "          -0.9960, -0.6046, -0.9494,  0.0593, -0.4043, -0.0245, -1.0000,\n",
      "          -0.9440,  0.1010,  1.0000,  0.9999,  0.4443,  0.4243,  0.7490,\n",
      "           0.6351,  1.0000,  0.9285,  1.0000,  0.9999,  0.9884,  0.6949,\n",
      "           0.9974,  0.5004]]])\n",
      "y_squeeze:  tensor([[-0.3527,  7.0953, -6.0439, -6.1317, -5.8416, -6.0837, -6.5696, -7.0773,\n",
      "         -6.7542,  5.1981, -6.6045,  4.8911, -6.1855, -6.1893, -6.2227, -5.7990,\n",
      "         -6.1698, -5.7959, -6.9003, -5.9228, -5.6257, -6.3441,  1.3306,  2.6351,\n",
      "         -5.6831, -2.0881,  3.2719,  0.5141, -6.6392, -5.7086,  1.1376,  1.9950,\n",
      "         -6.0289, -1.9466,  0.3087, -7.0282, -6.1766, -2.2732,  4.4866, -0.0744,\n",
      "         -6.1760, -5.6461, -6.0517,  3.6440, -0.2515, -0.9304, -6.1011, -6.1376,\n",
      "          0.2798, -6.0470, -5.9129, -6.9615, -6.1731, -6.2141, -6.6599, -0.1345,\n",
      "         -3.2755, -6.0639,  1.8859,  3.2041, -0.8247, -2.7138,  4.2845, -3.3698,\n",
      "         -6.1559, -3.2118, -0.0899,  0.6570, -1.3811, -3.9472, -1.6658, -6.1394,\n",
      "          2.8682,  6.8641,  0.3122, -3.5188, -4.4798, -0.6721, -5.9032,  1.1530,\n",
      "         -5.9532, -6.7283, -7.0753]])\n",
      "scaled_y:  tensor([[ -0.7055,  14.1906, -12.0878, -12.2633, -11.6833, -12.1673, -13.1393,\n",
      "         -14.1546, -13.5083,  10.3962, -13.2091,   9.7822, -12.3711, -12.3787,\n",
      "         -12.4454, -11.5981, -12.3396, -11.5918, -13.8005, -11.8455, -11.2514,\n",
      "         -12.6882,   2.6612,   5.2701, -11.3663,  -4.1763,   6.5439,   1.0281,\n",
      "         -13.2783, -11.4173,   2.2751,   3.9901, -12.0578,  -3.8932,   0.6174,\n",
      "         -14.0565, -12.3532,  -4.5464,   8.9731,  -0.1488, -12.3520, -11.2923,\n",
      "         -12.1034,   7.2881,  -0.5029,  -1.8608, -12.2022, -12.2753,   0.5595,\n",
      "         -12.0941, -11.8258, -13.9230, -12.3462, -12.4281, -13.3198,  -0.2689,\n",
      "          -6.5509, -12.1279,   3.7719,   6.4082,  -1.6494,  -5.4276,   8.5690,\n",
      "          -6.7396, -12.3118,  -6.4235,  -0.1797,   1.3139,  -2.7622,  -7.8945,\n",
      "          -3.3316, -12.2789,   5.7363,  13.7281,   0.6245,  -7.0375,  -8.9595,\n",
      "          -1.3441, -11.8063,   2.3061, -11.9064, -13.4565, -14.1507]])\n",
      "y:  tensor([[2.0253e-07, 5.9673e-01, 2.3078e-12, 1.9364e-12, 3.4586e-12, 2.1315e-12,\n",
      "         8.0642e-13, 2.9217e-13, 5.5756e-13, 1.3424e-02, 7.5205e-13, 7.2650e-03,\n",
      "         1.7386e-12, 1.7254e-12, 1.6141e-12, 3.7662e-12, 1.7943e-12, 3.7901e-12,\n",
      "         4.1629e-13, 2.9405e-12, 5.3269e-12, 1.2661e-12, 5.8698e-06, 7.9739e-05,\n",
      "         4.7486e-12, 6.2971e-09, 2.8501e-04, 1.1466e-06, 7.0174e-13, 4.5126e-12,\n",
      "         3.9899e-06, 2.2169e-05, 2.3782e-12, 8.3577e-09, 7.6033e-07, 3.2228e-13,\n",
      "         1.7699e-12, 4.3492e-09, 3.2349e-03, 3.5338e-07, 1.7721e-12, 5.1133e-12,\n",
      "         2.2722e-12, 5.9987e-04, 2.4801e-07, 6.3790e-08, 2.0585e-12, 1.9134e-12,\n",
      "         7.1762e-07, 2.2935e-12, 2.9993e-12, 3.6828e-13, 1.7824e-12, 1.6422e-12,\n",
      "         6.7322e-13, 3.1339e-07, 5.8593e-10, 2.2173e-12, 1.7823e-05, 2.4885e-04,\n",
      "         7.8806e-08, 1.8018e-09, 2.1595e-03, 4.8518e-10, 1.8447e-12, 6.6555e-10,\n",
      "         3.4263e-07, 1.5259e-06, 2.5898e-08, 1.5288e-10, 1.4655e-08, 1.9065e-12,\n",
      "         1.2710e-04, 3.7579e-01, 7.6575e-07, 3.6018e-10, 5.2700e-11, 1.0694e-07,\n",
      "         3.0582e-12, 4.1153e-06, 2.7670e-12, 5.8722e-13, 2.9331e-13]])\n",
      "next_char_idx:  73\n",
      "x:  tensor([[[0., 0., 0., 0., 0., 0., 0., 0., 0., 0., 0., 0., 0., 0., 0., 0., 0.,\n",
      "          0., 0., 0., 0., 0., 0., 0., 0., 0., 0., 0., 0., 0., 0., 0., 0., 0.,\n",
      "          0., 0., 0., 0., 0., 0., 0., 0., 0., 0., 0., 0., 0., 0., 0., 0., 0.,\n",
      "          0., 0., 0., 0., 0., 0., 0., 0., 0., 0., 0., 0., 0., 0., 0., 0., 0.,\n",
      "          0., 0., 0., 0., 0., 1., 0., 0., 0., 0., 0., 0., 0., 0., 0.]]])\n",
      "y_model:  tensor([[[-4.4807,  3.0740, -4.9881, -4.5209, -4.1260, -5.3718, -4.7431,\n",
      "          -4.7815, -4.4315, -1.5384, -4.9727, -1.6588, -5.0824, -4.1272,\n",
      "          -4.4402, -3.7776, -4.3262, -3.9707, -4.9500, -5.1371, -4.1656,\n",
      "          -4.7250, -2.1505, -2.6617, -4.1732, -3.0317, -1.6847, -3.4914,\n",
      "          -4.9936, -4.3138, -0.6491, -0.1098, -4.6148, -6.2711, -3.4562,\n",
      "          -4.8058, -5.0166, -4.0375, -0.1571, -3.6418, -4.8590, -3.7605,\n",
      "          -5.4346, -1.8358, -2.5451, -4.1981, -4.3473, -4.5683, -0.9112,\n",
      "          -4.5046, -4.4047, -4.7247, -4.5225, -4.3670, -5.4112,  5.4609,\n",
      "          -2.8923, -0.5172,  1.3315,  4.0210, -2.8491,  2.8333,  3.4023,\n",
      "           6.7717, -4.2600, -0.5496, -1.7311,  0.0391,  2.1893,  2.9014,\n",
      "           1.0566, -4.5604,  2.2858, -1.4414,  7.9224,  9.2699, -2.3566,\n",
      "          -1.0820, -4.4834,  3.7225, -4.4500, -5.5229, -4.7139]]])\n",
      "h:  tensor([[[ 0.0700,  0.1538, -0.2899, -0.4324,  0.0457, -0.3039, -0.2350,\n",
      "          -0.1973,  0.1958, -0.0541, -0.7753, -0.0341, -0.1982, -0.1798,\n",
      "          -0.3240, -0.2076, -0.0056,  0.7560,  0.0521,  0.7694,  0.3559,\n",
      "          -0.2947,  0.3608, -0.1918,  0.2524, -0.4045, -0.4475,  0.4111,\n",
      "           0.6340, -0.0365,  0.0545,  0.6240, -0.7342,  0.7577,  0.0693,\n",
      "          -0.5885,  0.2538, -0.4028,  0.0829, -0.5630,  0.0408, -0.2446,\n",
      "           0.3350, -0.1437,  0.2453, -0.5276, -0.2504, -0.1146,  0.2339,\n",
      "           0.3610, -0.8679, -0.3182, -0.1326, -0.1899, -0.4934, -0.6953,\n",
      "          -0.0731, -0.1511,  0.3402,  0.2272,  0.1178,  0.1997, -0.5513,\n",
      "          -0.1311,  0.4617,  0.7843, -0.5350,  0.9409, -0.4609, -0.1154,\n",
      "           0.1355,  0.1781, -0.3753,  0.1274,  0.2217, -0.2453, -0.0415,\n",
      "          -0.4743, -0.2527, -0.6453, -0.3742,  0.7100,  0.1558, -0.1367,\n",
      "           0.0686,  0.1778,  0.1980,  0.3201, -0.1982, -0.1535, -0.4924,\n",
      "          -0.3008, -0.6348, -0.2844,  0.2278, -0.2940, -0.1978,  0.5455,\n",
      "           0.3166, -0.6180, -0.0562, -0.8479, -0.5480,  0.6244,  0.3225,\n",
      "          -0.1452,  0.0196,  0.1141,  0.7880,  0.0616,  0.0707,  0.4955,\n",
      "          -0.4728,  0.2685,  0.1747,  0.0573, -0.8307, -0.0481,  0.9034,\n",
      "          -0.4448, -0.2267, -0.8194, -0.0625, -0.2988,  0.2022, -0.4173,\n",
      "           0.4991, -0.0815],\n",
      "         [-1.0000, -0.0404,  0.9673, -0.9965,  0.0795, -0.9987,  0.9995,\n",
      "           1.0000, -0.6249, -1.0000,  0.6562, -0.2329, -1.0000, -0.5968,\n",
      "          -0.2719, -0.9999, -0.9914,  0.2716, -0.1144, -1.0000,  0.8585,\n",
      "           1.0000,  0.3326, -0.3452,  0.6078,  0.2057, -0.3622, -0.9284,\n",
      "          -0.8789, -0.2373,  0.5408,  0.9849,  0.2779,  0.9999, -0.1331,\n",
      "          -0.9873,  0.9998,  0.9757,  1.0000,  0.5154, -1.0000,  0.6281,\n",
      "           0.2730,  0.9991, -0.7527,  1.0000, -0.4077,  1.0000,  1.0000,\n",
      "          -0.9992,  0.9997,  0.9978,  0.4529,  1.0000, -0.1512, -0.9999,\n",
      "          -0.0314, -1.0000, -0.9975, -0.5384,  0.8659, -0.9999,  0.9999,\n",
      "           0.2832,  0.3822, -0.9987,  0.9881, -0.0713, -0.0287, -0.9995,\n",
      "          -1.0000, -1.0000,  0.9163, -0.9988, -0.3248,  0.9983, -0.9987,\n",
      "          -0.9996,  0.2359,  0.9744,  1.0000, -0.9997, -1.0000, -0.9999,\n",
      "           1.0000,  0.9992,  0.4615,  1.0000,  0.9993, -0.9988, -0.4487,\n",
      "          -0.9828, -0.9982,  1.0000,  0.0231,  0.9999, -0.9957, -0.3463,\n",
      "          -0.7450, -0.9110, -1.0000,  0.1208,  1.0000, -0.8437, -0.9867,\n",
      "          -0.9990, -0.6046, -0.9992,  0.0593, -0.4028, -0.0233, -0.9986,\n",
      "          -0.9875,  0.1015,  1.0000,  1.0000,  0.4331,  0.2801,  0.7474,\n",
      "           0.6137,  1.0000, -0.9927,  1.0000,  0.8121,  0.9551,  0.2759,\n",
      "          -0.9059, -0.9995]]])\n",
      "y_squeeze:  tensor([[-4.4807,  3.0740, -4.9881, -4.5209, -4.1260, -5.3718, -4.7431, -4.7815,\n",
      "         -4.4315, -1.5384, -4.9727, -1.6588, -5.0824, -4.1272, -4.4402, -3.7776,\n",
      "         -4.3262, -3.9707, -4.9500, -5.1371, -4.1656, -4.7250, -2.1505, -2.6617,\n",
      "         -4.1732, -3.0317, -1.6847, -3.4914, -4.9936, -4.3138, -0.6491, -0.1098,\n",
      "         -4.6148, -6.2711, -3.4562, -4.8058, -5.0166, -4.0375, -0.1571, -3.6418,\n",
      "         -4.8590, -3.7605, -5.4346, -1.8358, -2.5451, -4.1981, -4.3473, -4.5683,\n",
      "         -0.9112, -4.5046, -4.4047, -4.7247, -4.5225, -4.3670, -5.4112,  5.4609,\n",
      "         -2.8923, -0.5172,  1.3315,  4.0210, -2.8491,  2.8333,  3.4023,  6.7717,\n",
      "         -4.2600, -0.5496, -1.7311,  0.0391,  2.1893,  2.9014,  1.0566, -4.5604,\n",
      "          2.2858, -1.4414,  7.9224,  9.2699, -2.3566, -1.0820, -4.4834,  3.7225,\n",
      "         -4.4500, -5.5229, -4.7139]])\n",
      "scaled_y:  tensor([[ -8.9614,   6.1480,  -9.9762,  -9.0418,  -8.2520, -10.7436,  -9.4863,\n",
      "          -9.5630,  -8.8631,  -3.0767,  -9.9453,  -3.3177, -10.1649,  -8.2544,\n",
      "          -8.8805,  -7.5551,  -8.6523,  -7.9414,  -9.8999, -10.2742,  -8.3312,\n",
      "          -9.4499,  -4.3010,  -5.3235,  -8.3464,  -6.0634,  -3.3695,  -6.9828,\n",
      "          -9.9872,  -8.6276,  -1.2982,  -0.2196,  -9.2296, -12.5423,  -6.9124,\n",
      "          -9.6116, -10.0332,  -8.0749,  -0.3143,  -7.2836,  -9.7180,  -7.5210,\n",
      "         -10.8692,  -3.6716,  -5.0902,  -8.3962,  -8.6947,  -9.1366,  -1.8225,\n",
      "          -9.0092,  -8.8093,  -9.4493,  -9.0451,  -8.7341, -10.8225,  10.9218,\n",
      "          -5.7847,  -1.0344,   2.6629,   8.0420,  -5.6981,   5.6665,   6.8045,\n",
      "          13.5434,  -8.5199,  -1.0992,  -3.4622,   0.0783,   4.3786,   5.8028,\n",
      "           2.1132,  -9.1208,   4.5716,  -2.8827,  15.8447,  18.5399,  -4.7132,\n",
      "          -2.1640,  -8.9668,   7.4451,  -8.9001, -11.0458,  -9.4277]])\n",
      "y:  tensor([[1.0592e-12, 3.8632e-06, 3.8396e-13, 9.7743e-13, 2.1534e-12, 1.7824e-13,\n",
      "         6.2671e-13, 5.8040e-13, 1.1687e-12, 3.8079e-10, 3.9601e-13, 2.9926e-10,\n",
      "         3.1795e-13, 2.1481e-12, 1.1485e-12, 4.3226e-12, 1.4429e-12, 2.9376e-12,\n",
      "         4.1440e-13, 2.8501e-13, 1.9893e-12, 6.4990e-13, 1.1195e-10, 4.0266e-11,\n",
      "         1.9593e-12, 1.9213e-11, 2.8415e-10, 7.6617e-12, 3.7977e-13, 1.4790e-12,\n",
      "         2.2548e-09, 6.6300e-09, 8.1008e-13, 2.9503e-14, 8.2203e-12, 5.5288e-13,\n",
      "         3.6269e-13, 2.5704e-12, 6.0312e-09, 5.6713e-12, 4.9709e-13, 4.4728e-12,\n",
      "         1.5721e-13, 2.1005e-10, 5.0847e-11, 1.8640e-12, 1.3831e-12, 8.8905e-13,\n",
      "         1.3348e-09, 1.0098e-12, 1.2333e-12, 6.5029e-13, 9.7427e-13, 1.3297e-12,\n",
      "         1.6472e-13, 4.5725e-04, 2.5389e-11, 2.9354e-09, 1.1841e-07, 2.5673e-05,\n",
      "         2.7684e-11, 2.3869e-06, 7.4484e-06, 6.2913e-03, 1.6472e-12, 2.7513e-09,\n",
      "         2.5899e-10, 8.9309e-09, 6.5839e-07, 2.7354e-06, 6.8338e-08, 9.0322e-13,\n",
      "         7.9858e-07, 4.6232e-10, 6.2831e-02, 9.3036e-01, 7.4131e-11, 9.4864e-10,\n",
      "         1.0536e-12, 1.4133e-05, 1.1263e-12, 1.3175e-13, 6.6449e-13]])\n",
      "next_char_idx:  75\n",
      "foobaro su\n",
      "x:  tensor([[[0., 0., 0., 0., 0., 0., 0., 0., 0., 0., 0., 0., 0., 0., 0., 0., 0.,\n",
      "          0., 0., 0., 0., 0., 0., 0., 0., 0., 0., 0., 0., 0., 0., 0., 0., 0.,\n",
      "          0., 0., 0., 0., 0., 0., 0., 0., 0., 0., 0., 0., 0., 0., 0., 0., 0.,\n",
      "          0., 0., 0., 0., 0., 0., 0., 0., 0., 0., 0., 0., 0., 0., 0., 0., 0.,\n",
      "          0., 0., 0., 0., 1., 0., 0., 0., 0., 0., 0., 0., 0., 0., 0.]]])\n",
      "y_model:  tensor([[[ 1.0782,  2.8611, -2.2188, -2.5906, -2.0595, -2.6150, -2.3845,\n",
      "          -2.4174, -2.4842, -0.7259, -2.4966,  2.8447, -2.4732, -2.6691,\n",
      "          -2.4231, -2.4003, -2.2688, -2.0718, -2.6630, -2.6928, -2.3369,\n",
      "          -2.4001,  0.9804, -1.1519, -2.1336, -0.4272,  1.8969,  0.0784,\n",
      "          -2.4876, -1.9725,  1.0002, -0.0611, -2.2291, -0.4130, -0.9565,\n",
      "          -2.5813, -2.5746, -1.0880,  1.0743, -0.8108, -2.2663, -2.1611,\n",
      "          -2.3556,  1.6228,  0.1633,  3.3013, -2.2294, -2.4323, -0.6583,\n",
      "          -2.5507, -2.4813, -2.9092, -2.1089, -2.1413, -2.7736,  0.1870,\n",
      "          -1.8374,  0.3882,  0.9178,  0.7014, -1.0110, -0.7172,  0.6470,\n",
      "          -1.6441, -2.2059, -2.4554, -1.2295, -0.3764, -1.5719,  2.3659,\n",
      "          -0.6680, -2.2680,  1.6804,  4.5368, -1.0920, -1.0705, -1.3567,\n",
      "          -2.8528, -2.4635, -1.5263, -2.1400, -2.5998, -2.9051]]])\n",
      "h:  tensor([[[ 1.1967e-01, -7.2035e-02, -4.3212e-02, -1.2729e-01, -1.8190e-01,\n",
      "           4.4748e-02,  1.1621e-01,  1.9329e-02,  7.8611e-02,  8.8348e-02,\n",
      "           1.1017e-01, -1.7406e-01, -7.2404e-02, -1.4790e-01,  9.7792e-02,\n",
      "           1.5521e-01, -1.4798e-01,  6.4932e-02, -1.1214e-01, -4.7151e-01,\n",
      "          -8.6918e-02, -7.0341e-05,  8.9582e-02, -2.7642e-02, -1.2681e-01,\n",
      "          -2.7614e-01, -1.4275e-01, -3.0031e-02,  6.7525e-02, -5.4682e-02,\n",
      "           3.5923e-02,  1.2159e-01,  1.4399e-01,  3.1265e-01, -1.3059e-01,\n",
      "          -5.0234e-02,  1.3490e-01,  9.4152e-02,  1.0941e-01, -7.3483e-02,\n",
      "           3.0422e-02, -8.2838e-02, -2.9055e-03, -7.3621e-02,  1.7783e-01,\n",
      "          -1.7336e-02, -1.4719e-01, -6.7613e-02,  1.3515e-01,  9.2702e-02,\n",
      "           3.8251e-02, -6.3946e-02, -1.3617e-01, -2.0186e-01,  1.0148e-01,\n",
      "           3.7339e-02,  9.3290e-02, -1.4677e-01,  3.4873e-02, -1.0628e-01,\n",
      "           7.5439e-02,  6.4185e-02,  1.5205e-01, -3.6260e-02,  1.1718e-01,\n",
      "           5.3211e-02, -4.0917e-01, -4.6972e-02,  1.7175e-01, -4.9779e-02,\n",
      "           8.8540e-02,  1.0463e-01, -2.6100e-02,  6.4540e-02,  1.4134e-01,\n",
      "           5.0342e-02,  1.4223e-01,  1.8131e-01, -9.1664e-02,  1.1045e-01,\n",
      "          -2.4663e-01, -2.1977e-01, -8.1903e-03, -9.3887e-02, -2.2006e-02,\n",
      "          -2.9738e-02,  9.3727e-02,  1.3520e-01, -1.2056e-01, -6.9197e-02,\n",
      "          -9.2021e-02, -1.3269e-01,  8.4486e-03, -1.7867e-01,  3.7870e-02,\n",
      "          -1.4506e-01, -1.2761e-01,  1.5371e-01, -2.0987e-01,  5.5269e-02,\n",
      "           3.0311e-01, -5.9143e-02,  7.4620e-02,  1.1151e-01, -1.5328e-01,\n",
      "          -1.0901e-01,  1.6220e-01, -4.7541e-02, -3.8573e-02, -1.6351e-01,\n",
      "          -9.9022e-02, -7.4864e-02, -8.5689e-02,  1.5099e-01, -1.1894e-01,\n",
      "           8.1676e-02, -1.6894e-01,  1.2740e-01, -4.8323e-02,  1.0178e-01,\n",
      "          -3.8222e-02, -7.3414e-03,  1.3217e-01, -1.3212e-01,  1.3722e-01,\n",
      "          -5.3093e-02, -1.2659e-02, -6.1457e-02],\n",
      "         [ 7.5701e-02, -3.4081e-01, -4.9189e-01,  1.9643e-01,  2.9583e-01,\n",
      "           4.4806e-01,  5.3624e-01,  6.8532e-02, -3.1682e-01, -4.2482e-01,\n",
      "          -1.4597e-01, -1.8801e-01, -5.5545e-01, -7.2778e-02, -1.4692e-01,\n",
      "          -2.3936e-01,  1.4082e-01,  1.8586e-01, -5.5306e-02, -4.6745e-01,\n",
      "           1.4984e-01,  4.7154e-01,  2.3598e-01, -6.6771e-02,  1.7304e-01,\n",
      "          -2.0760e-01, -3.5673e-01, -4.5911e-01,  3.1939e-01, -2.3776e-01,\n",
      "          -5.7391e-01,  5.5065e-01,  2.5873e-01,  5.1129e-01, -1.4039e-01,\n",
      "          -3.5601e-01, -2.9276e-02, -1.6782e-01,  6.2719e-03,  3.5416e-01,\n",
      "           1.3991e-01, -2.8528e-01,  1.7503e-01,  4.0720e-01,  4.5915e-01,\n",
      "           1.7930e-01, -5.0478e-01, -6.2925e-01,  1.9432e-02,  2.0652e-01,\n",
      "           1.5320e-01, -1.2127e-01, -9.2851e-02, -8.3662e-02,  9.0101e-02,\n",
      "          -4.6131e-01, -1.5042e-03, -5.7213e-01, -5.9488e-01, -2.3317e-01,\n",
      "          -3.5713e-01, -3.0583e-01,  1.1500e-01,  1.6975e-02,  4.1690e-01,\n",
      "          -2.4761e-01,  3.3979e-01,  1.1976e-01,  4.3923e-01, -1.2192e-01,\n",
      "           5.3794e-02, -2.2106e-02,  4.3553e-01,  2.9182e-04, -2.8984e-01,\n",
      "          -4.2568e-01, -2.8796e-01, -3.4573e-01,  1.3623e-01, -6.0377e-01,\n",
      "          -1.0795e-01,  3.7044e-01,  2.4384e-02,  4.1969e-01, -2.3775e-01,\n",
      "           4.2109e-01,  3.2247e-01, -1.6317e-01,  3.4593e-01,  6.2350e-01,\n",
      "          -4.0145e-01, -3.9359e-01, -3.2730e-01,  3.9499e-01,  2.4590e-01,\n",
      "           2.8095e-01, -1.8472e-01, -2.4246e-01, -4.5609e-01, -6.8985e-01,\n",
      "           1.6992e-01, -9.8920e-02, -5.7702e-02, -2.7557e-01,  1.7668e-01,\n",
      "          -4.3903e-01, -5.5221e-01, -1.0275e-01,  6.9614e-02, -3.6459e-01,\n",
      "          -8.4280e-02, -4.9522e-01,  5.1724e-01,  5.1719e-02,  4.2965e-01,\n",
      "          -1.0123e-01,  3.2631e-01,  4.3233e-01,  1.9807e-01, -2.6743e-01,\n",
      "           5.7067e-01,  4.3652e-01,  4.9175e-01,  7.6631e-02,  3.5900e-01,\n",
      "          -3.0367e-01,  6.2005e-02,  6.6970e-01]]])\n",
      "y_squeeze:  tensor([[ 1.0782,  2.8611, -2.2188, -2.5906, -2.0595, -2.6150, -2.3845, -2.4174,\n",
      "         -2.4842, -0.7259, -2.4966,  2.8447, -2.4732, -2.6691, -2.4231, -2.4003,\n",
      "         -2.2688, -2.0718, -2.6630, -2.6928, -2.3369, -2.4001,  0.9804, -1.1519,\n",
      "         -2.1336, -0.4272,  1.8969,  0.0784, -2.4876, -1.9725,  1.0002, -0.0611,\n",
      "         -2.2291, -0.4130, -0.9565, -2.5813, -2.5746, -1.0880,  1.0743, -0.8108,\n",
      "         -2.2663, -2.1611, -2.3556,  1.6228,  0.1633,  3.3013, -2.2294, -2.4323,\n",
      "         -0.6583, -2.5507, -2.4813, -2.9092, -2.1089, -2.1413, -2.7736,  0.1870,\n",
      "         -1.8374,  0.3882,  0.9178,  0.7014, -1.0110, -0.7172,  0.6470, -1.6441,\n",
      "         -2.2059, -2.4554, -1.2295, -0.3764, -1.5719,  2.3659, -0.6680, -2.2680,\n",
      "          1.6804,  4.5368, -1.0920, -1.0705, -1.3567, -2.8528, -2.4635, -1.5263,\n",
      "         -2.1400, -2.5998, -2.9051]])\n",
      "scaled_y:  tensor([[ 2.1563,  5.7222, -4.4375, -5.1812, -4.1189, -5.2300, -4.7690, -4.8349,\n",
      "         -4.9684, -1.4519, -4.9931,  5.6894, -4.9464, -5.3383, -4.8462, -4.8007,\n",
      "         -4.5376, -4.1436, -5.3261, -5.3855, -4.6738, -4.8002,  1.9608, -2.3037,\n",
      "         -4.2672, -0.8544,  3.7937,  0.1568, -4.9752, -3.9449,  2.0004, -0.1222,\n",
      "         -4.4582, -0.8260, -1.9130, -5.1625, -5.1491, -2.1761,  2.1487, -1.6217,\n",
      "         -4.5326, -4.3222, -4.7111,  3.2456,  0.3266,  6.6025, -4.4587, -4.8646,\n",
      "         -1.3166, -5.1014, -4.9627, -5.8184, -4.2177, -4.2825, -5.5473,  0.3741,\n",
      "         -3.6747,  0.7764,  1.8356,  1.4028, -2.0220, -1.4345,  1.2940, -3.2881,\n",
      "         -4.4118, -4.9109, -2.4590, -0.7528, -3.1439,  4.7318, -1.3361, -4.5360,\n",
      "          3.3607,  9.0737, -2.1840, -2.1411, -2.7135, -5.7056, -4.9271, -3.0527,\n",
      "         -4.2801, -5.1996, -5.8103]])\n",
      "y:  tensor([[8.3632e-04, 2.9582e-02, 1.1448e-06, 5.4418e-07, 1.5742e-06, 5.1823e-07,\n",
      "         8.2177e-07, 7.6936e-07, 6.7322e-07, 2.2665e-05, 6.5676e-07, 2.8626e-02,\n",
      "         6.8820e-07, 4.6507e-07, 7.6073e-07, 7.9613e-07, 1.0357e-06, 1.5359e-06,\n",
      "         4.7076e-07, 4.4361e-07, 9.0382e-07, 7.9649e-07, 6.8783e-04, 9.6694e-06,\n",
      "         1.3572e-06, 4.1196e-05, 4.3002e-03, 1.1324e-04, 6.6864e-07, 1.8734e-06,\n",
      "         7.1557e-04, 8.5667e-05, 1.1214e-06, 4.2383e-05, 1.4292e-05, 5.5442e-07,\n",
      "         5.6189e-07, 1.0986e-05, 8.2997e-04, 1.9125e-05, 1.0409e-06, 1.2847e-06,\n",
      "         8.7071e-07, 2.4857e-03, 1.3420e-04, 7.1340e-02, 1.1207e-06, 7.4684e-07,\n",
      "         2.5949e-05, 5.8937e-07, 6.7708e-07, 2.8773e-07, 1.4261e-06, 1.3366e-06,\n",
      "         3.7735e-07, 1.4072e-04, 2.4547e-06, 2.1043e-04, 6.0688e-04, 3.9367e-04,\n",
      "         1.2816e-05, 2.3063e-05, 3.5308e-04, 3.6131e-06, 1.1746e-06, 7.1307e-07,\n",
      "         8.2786e-06, 4.5597e-05, 4.1738e-06, 1.0988e-02, 2.5448e-05, 1.0374e-06,\n",
      "         2.7889e-03, 8.4440e-01, 1.0899e-05, 1.1377e-05, 6.4186e-06, 3.2210e-07,\n",
      "         7.0162e-07, 4.5724e-06, 1.3399e-06, 5.3425e-07, 2.9009e-07]])\n",
      "next_char_idx:  73\n",
      "x:  tensor([[[0., 0., 0., 0., 0., 0., 0., 0., 0., 0., 0., 0., 0., 0., 0., 0., 0.,\n",
      "          0., 0., 0., 0., 0., 0., 0., 0., 0., 0., 0., 0., 0., 0., 0., 0., 0.,\n",
      "          0., 0., 0., 0., 0., 0., 0., 0., 0., 0., 0., 0., 0., 0., 0., 0., 0.,\n",
      "          0., 0., 0., 0., 0., 0., 0., 0., 0., 0., 0., 0., 0., 0., 0., 0., 0.,\n",
      "          0., 0., 0., 0., 0., 1., 0., 0., 0., 0., 0., 0., 0., 0., 0.]]])\n",
      "y_model:  tensor([[[ 1.2261,  4.9588, -5.1728, -5.3728, -4.6153, -5.1874, -5.3635,\n",
      "          -5.6963, -5.6730,  2.1938, -5.5784,  6.3535, -5.1397, -5.5308,\n",
      "          -5.3968, -5.0731, -5.4173, -4.8312, -5.8237, -5.4695, -4.8286,\n",
      "          -5.3442, -0.1537,  2.1266, -4.4711,  0.6046,  3.4279,  0.0457,\n",
      "          -5.5668, -4.5751,  2.6598,  1.1553, -5.2207, -3.3501,  0.5240,\n",
      "          -5.8785, -5.5416, -0.5959,  5.5656,  1.7555, -5.1941, -4.6690,\n",
      "          -5.3760,  5.5529, -0.5398,  0.8610, -5.0296, -5.1536,  0.2166,\n",
      "          -5.4184, -5.0900, -6.0289, -4.8541, -5.0983, -5.6817,  1.2617,\n",
      "          -2.8403, -5.1413,  0.2436,  3.1293, -1.2166, -3.7827,  1.3121,\n",
      "          -2.3083, -5.0469, -5.7348, -0.5354, -0.8572, -1.7199, -3.8633,\n",
      "           0.8475, -5.1625,  3.1457,  7.1554, -0.3238, -1.4732, -4.3471,\n",
      "          -2.0413, -4.9635, -0.3604, -4.6897, -5.6622, -5.8130]]])\n",
      "h:  tensor([[[ 0.3637,  0.0162, -0.0333,  0.0184,  0.4704,  0.0057,  0.4243,\n",
      "          -0.2155,  0.1143, -0.2818,  0.2489, -0.1776, -0.0861, -0.1674,\n",
      "          -0.3135, -0.2161, -0.1190,  0.3080,  0.0801, -0.0244, -0.1751,\n",
      "          -0.0851, -0.0499, -0.0372, -0.3528,  0.0482,  0.0486, -0.5000,\n",
      "           0.3823, -0.0163, -0.0384, -0.0589,  0.3557,  0.1538,  0.0463,\n",
      "          -0.2996,  0.1269,  0.2838,  0.1175, -0.3860,  0.1559, -0.1313,\n",
      "          -0.0978, -0.1392,  0.0852, -0.2068, -0.0353,  0.0261,  0.2442,\n",
      "           0.1226, -0.2687, -0.0974, -0.1705, -0.4386, -0.2922,  0.0579,\n",
      "          -0.1365, -0.1191, -0.1124, -0.2529,  0.1027,  0.1215,  0.4214,\n",
      "          -0.2245,  0.2465,  0.6745, -0.1682,  0.3655,  0.2470, -0.0629,\n",
      "           0.0779,  0.2573, -0.0466,  0.0955,  0.1534, -0.1503,  0.5243,\n",
      "          -0.0787, -0.1895,  0.2090, -0.5733,  0.0113,  0.0092, -0.1263,\n",
      "          -0.0921, -0.0483,  0.1100,  0.1964, -0.2175,  0.0269, -0.7140,\n",
      "          -0.1506,  0.1215, -0.2558, -0.2386, -0.1747, -0.1630,  0.1615,\n",
      "          -0.0293, -0.5644,  0.7474,  0.1469,  0.4297,  0.4379,  0.4272,\n",
      "          -0.1473, -0.2866, -0.0277, -0.0903, -0.0132, -0.0235, -0.6748,\n",
      "          -0.3743,  0.1920,  0.0953,  0.1735,  0.2512, -0.1356,  0.4978,\n",
      "           0.1407, -0.2764,  0.1734,  0.1374, -0.5341,  0.1684, -0.0146,\n",
      "          -0.0939, -0.0597],\n",
      "         [-0.2676, -0.9418,  0.1917,  0.9665,  0.9562,  0.9666,  0.9896,\n",
      "           0.9669, -0.4089, -0.9949, -0.7072, -0.2360, -0.9893,  0.5310,\n",
      "           0.3816, -0.0485, -0.1330,  0.2155, -0.0741, -0.9961,  0.9303,\n",
      "           0.9662, -0.8931,  0.0639,  0.7862,  0.0093, -0.3916, -0.9940,\n",
      "           0.0224, -0.2633, -0.8975,  0.9706,  0.1349,  0.9751, -0.1517,\n",
      "          -0.9909,  0.5310,  0.9200,  0.4315,  0.3740, -0.0522,  0.8763,\n",
      "           0.1983,  0.9910,  0.7078,  0.8232, -0.5321,  0.3700,  0.5701,\n",
      "           0.8264,  0.9689,  0.8478, -0.0085, -0.4718, -0.2305, -0.9958,\n",
      "          -0.0038, -0.9962, -0.8629, -0.5457, -0.6653, -0.7941,  0.9028,\n",
      "           0.3270,  0.4940, -0.8824,  0.9037, -0.0716,  0.3532, -0.1736,\n",
      "          -0.2555, -0.9642,  0.9930, -0.0534, -0.7636, -0.9942, -0.9749,\n",
      "          -0.9931,  0.2224, -0.9777, -0.5005, -0.4525, -0.2072, -0.0046,\n",
      "           0.8445,  0.9798,  0.4955,  0.0804,  0.9465,  0.9389, -0.4703,\n",
      "          -0.6633,  0.9682,  0.9898,  0.5090,  0.9936,  0.9403, -0.3161,\n",
      "          -0.6419, -0.9285, -0.2743, -0.0497,  0.9684, -0.1687, -0.1389,\n",
      "          -0.9225, -0.6356, -0.8032, -0.0572, -0.4033, -0.1113, -0.9784,\n",
      "          -0.8277,  0.1687,  0.9966,  0.9449,  0.5246,  0.4508,  0.9796,\n",
      "           0.6945,  0.9971,  0.6146,  0.9945,  0.9789,  0.6784, -0.5150,\n",
      "           0.6264, -0.6789]]])\n",
      "y_squeeze:  tensor([[ 1.2261,  4.9588, -5.1728, -5.3728, -4.6153, -5.1874, -5.3635, -5.6963,\n",
      "         -5.6730,  2.1938, -5.5784,  6.3535, -5.1397, -5.5308, -5.3968, -5.0731,\n",
      "         -5.4173, -4.8312, -5.8237, -5.4695, -4.8286, -5.3442, -0.1537,  2.1266,\n",
      "         -4.4711,  0.6046,  3.4279,  0.0457, -5.5668, -4.5751,  2.6598,  1.1553,\n",
      "         -5.2207, -3.3501,  0.5240, -5.8785, -5.5416, -0.5959,  5.5656,  1.7555,\n",
      "         -5.1941, -4.6690, -5.3760,  5.5529, -0.5398,  0.8610, -5.0296, -5.1536,\n",
      "          0.2166, -5.4184, -5.0900, -6.0289, -4.8541, -5.0983, -5.6817,  1.2617,\n",
      "         -2.8403, -5.1413,  0.2436,  3.1293, -1.2166, -3.7827,  1.3121, -2.3083,\n",
      "         -5.0469, -5.7348, -0.5354, -0.8572, -1.7199, -3.8633,  0.8475, -5.1625,\n",
      "          3.1457,  7.1554, -0.3238, -1.4732, -4.3471, -2.0413, -4.9635, -0.3604,\n",
      "         -4.6897, -5.6622, -5.8130]])\n",
      "scaled_y:  tensor([[  2.4522,   9.9176, -10.3456, -10.7457,  -9.2307, -10.3749, -10.7269,\n",
      "         -11.3926, -11.3461,   4.3875, -11.1568,  12.7071, -10.2793, -11.0616,\n",
      "         -10.7936, -10.1461, -10.8346,  -9.6625, -11.6475, -10.9390,  -9.6572,\n",
      "         -10.6884,  -0.3074,   4.2533,  -8.9422,   1.2092,   6.8558,   0.0914,\n",
      "         -11.1337,  -9.1503,   5.3197,   2.3107, -10.4413,  -6.7001,   1.0480,\n",
      "         -11.7570, -11.0833,  -1.1918,  11.1311,   3.5111, -10.3882,  -9.3379,\n",
      "         -10.7520,  11.1058,  -1.0797,   1.7220, -10.0591, -10.3071,   0.4333,\n",
      "         -10.8368, -10.1801, -12.0579,  -9.7081, -10.1967, -11.3635,   2.5235,\n",
      "          -5.6806, -10.2827,   0.4872,   6.2585,  -2.4332,  -7.5653,   2.6242,\n",
      "          -4.6165, -10.0938, -11.4696,  -1.0709,  -1.7144,  -3.4399,  -7.7266,\n",
      "           1.6951, -10.3251,   6.2913,  14.3109,  -0.6477,  -2.9465,  -8.6942,\n",
      "          -4.0825,  -9.9271,  -0.7208,  -9.3794, -11.3245, -11.6260]])\n",
      "y:  tensor([[5.4556e-06, 9.5289e-03, 1.5095e-11, 1.0118e-11, 4.6031e-11, 1.4660e-11,\n",
      "         1.0310e-11, 5.2981e-12, 5.5505e-12, 3.7789e-05, 6.7072e-12, 1.5506e-01,\n",
      "         1.6130e-11, 7.3768e-12, 9.6441e-12, 1.8428e-11, 9.2573e-12, 2.9890e-11,\n",
      "         4.1063e-12, 8.3390e-12, 3.0049e-11, 1.0715e-11, 3.4543e-07, 3.3040e-05,\n",
      "         6.1425e-11, 1.5741e-06, 4.4598e-04, 5.1474e-07, 6.8642e-12, 4.9885e-11,\n",
      "         9.5979e-05, 4.7357e-06, 1.3717e-11, 5.7818e-10, 1.3397e-06, 3.6803e-12,\n",
      "         7.2188e-12, 1.4266e-07, 3.2067e-02, 1.5729e-05, 1.4466e-11, 4.1350e-11,\n",
      "         1.0054e-11, 3.1266e-02, 1.5958e-07, 2.6288e-06, 2.0103e-11, 1.5687e-11,\n",
      "         7.2451e-07, 9.2362e-12, 1.7812e-11, 2.7240e-12, 2.8556e-11, 1.7519e-11,\n",
      "         5.4549e-12, 5.8588e-06, 1.6026e-09, 1.6076e-11, 7.6464e-07, 2.4543e-04,\n",
      "         4.1222e-08, 2.4338e-10, 6.4797e-06, 4.6447e-09, 1.9418e-11, 4.9058e-12,\n",
      "         1.6099e-07, 8.4595e-08, 1.5065e-08, 2.0714e-10, 2.5589e-06, 1.5408e-11,\n",
      "         2.5361e-04, 7.7092e-01, 2.4581e-07, 2.4674e-08, 7.8712e-11, 7.9225e-09,\n",
      "         2.2941e-11, 2.2847e-07, 3.9671e-11, 5.6717e-12, 4.1953e-12]])\n",
      "next_char_idx:  73\n",
      "x:  tensor([[[0., 0., 0., 0., 0., 0., 0., 0., 0., 0., 0., 0., 0., 0., 0., 0., 0.,\n",
      "          0., 0., 0., 0., 0., 0., 0., 0., 0., 0., 0., 0., 0., 0., 0., 0., 0.,\n",
      "          0., 0., 0., 0., 0., 0., 0., 0., 0., 0., 0., 0., 0., 0., 0., 0., 0.,\n",
      "          0., 0., 0., 0., 0., 0., 0., 0., 0., 0., 0., 0., 0., 0., 0., 0., 0.,\n",
      "          0., 0., 0., 0., 0., 1., 0., 0., 0., 0., 0., 0., 0., 0., 0.]]])\n",
      "y_model:  tensor([[[ 5.5872,  7.0078, -6.4804, -6.2771, -5.5254, -6.2263, -6.2469,\n",
      "          -6.5231, -6.3726,  2.3910, -6.6339, 10.0073, -5.9379, -6.4134,\n",
      "          -6.1720, -5.7855, -6.0683, -5.6713, -6.4728, -6.4043, -5.6454,\n",
      "          -6.0098,  2.1116,  1.7274, -5.6156,  0.3366,  3.6760, -1.1851,\n",
      "          -6.2487, -5.5092,  3.4624, -1.0699, -6.1149, -3.9687, -1.2304,\n",
      "          -7.0735, -6.4443, -1.6960,  4.8824,  0.7235, -5.8349, -5.0650,\n",
      "          -6.2639,  2.5388, -2.5971,  0.0394, -5.8425, -6.0096,  0.1779,\n",
      "          -5.9574, -5.7549, -6.8342, -6.1176, -5.6828, -6.3941,  1.4387,\n",
      "          -5.1285, -3.3361,  2.9824,  3.7197, -4.0562, -1.4185,  0.3267,\n",
      "          -2.8724, -5.7100, -8.0354, -1.5558, -0.7838, -4.3634, -2.0083,\n",
      "           0.0318, -6.1547,  2.3778,  2.9789,  1.1282,  0.2413, -6.2845,\n",
      "          -3.0796, -5.8153, -2.1100, -5.6991, -6.9955, -6.6120]]])\n",
      "h:  tensor([[[ 0.4913,  0.0265, -0.1377,  0.1148,  0.7176,  0.0483,  0.6221,\n",
      "          -0.2647,  0.1183, -0.6218,  0.2710, -0.4750, -0.2232, -0.2331,\n",
      "          -0.1238, -0.1220,  0.0276,  0.4479,  0.1693,  0.5307, -0.2776,\n",
      "          -0.2570, -0.4491, -0.1507,  0.4408,  0.0404,  0.3164, -0.7326,\n",
      "           0.3210, -0.0865, -0.0866, -0.0553,  0.4338,  0.2705,  0.1801,\n",
      "          -0.4249,  0.1333,  0.5709,  0.1262, -0.5850,  0.1882, -0.3129,\n",
      "           0.0193, -0.2172,  0.1014, -0.1213, -0.2072,  0.0307,  0.4382,\n",
      "           0.0385, -0.2779, -0.0950, -0.1571,  0.1087, -0.5957,  0.6024,\n",
      "          -0.1694, -0.1242, -0.1562, -0.3837,  0.1087,  0.3059,  0.6067,\n",
      "          -0.2113,  0.3703,  0.7587, -0.2870,  0.2716,  0.4221, -0.0740,\n",
      "           0.0786,  0.2875, -0.1840,  0.1003,  0.1877, -0.3937,  0.5654,\n",
      "          -0.3345, -0.2192,  0.4713, -0.7053, -0.4555,  0.0170, -0.1369,\n",
      "          -0.1912, -0.0038,  0.1212,  0.5306, -0.2344,  0.0437, -0.8425,\n",
      "          -0.0090,  0.4147, -0.0336, -0.4560, -0.2082, -0.1802,  0.0426,\n",
      "           0.0625, -0.8430,  0.8128,  0.3962,  0.5002,  0.4972,  0.7090,\n",
      "          -0.1529, -0.3611, -0.0269, -0.0801,  0.2490, -0.2245, -0.6646,\n",
      "          -0.5839,  0.2101,  0.0751,  0.2174,  0.5552, -0.3006,  0.1906,\n",
      "          -0.2958, -0.3968, -0.3065,  0.0701, -0.6650,  0.1764, -0.0774,\n",
      "          -0.1212, -0.0640],\n",
      "         [-0.9496, -0.9997, -0.4570,  0.9995,  0.9988,  0.9992,  0.9991,\n",
      "           0.9999, -0.4254, -1.0000, -0.9921, -0.2361, -1.0000,  0.5451,\n",
      "           0.8190, -0.9809,  0.3010,  0.2156, -0.0813, -1.0000,  0.9983,\n",
      "           1.0000, -0.9996,  0.0624,  0.9602, -0.3266, -0.3701, -0.9569,\n",
      "          -0.9889, -0.2633, -0.9991,  1.0000,  0.1348,  0.9999, -0.1518,\n",
      "          -0.9999,  0.9965,  0.9975,  0.9999,  0.3741, -0.9990,  0.1190,\n",
      "           0.1988,  1.0000, -0.4404,  0.9993, -0.5300,  0.9994,  0.9886,\n",
      "           0.9995,  1.0000,  0.9971,  0.0260,  0.0430, -0.2306, -1.0000,\n",
      "          -0.0039, -1.0000, -1.0000, -0.5902, -0.8962, -0.9968,  0.9993,\n",
      "           0.3323,  0.4932, -0.9916,  0.9974, -0.0717,  0.9052, -0.5400,\n",
      "          -0.9954, -0.9997,  0.9983, -0.7041, -0.8586, -0.9909, -0.9992,\n",
      "          -1.0000,  0.2243, -1.0000,  0.9972, -0.8555, -0.9998, -0.9849,\n",
      "          -0.9270,  1.0000,  0.5016,  0.0967,  1.0000,  0.9999, -0.4712,\n",
      "          -0.7991,  0.9606,  1.0000,  0.9913,  1.0000, -0.5073, -0.3165,\n",
      "          -0.6436, -0.9287, -0.9815, -0.0486,  0.9973, -0.8649,  0.4672,\n",
      "          -0.9978, -0.6357, -0.9974, -0.0574, -0.3892, -0.1129, -1.0000,\n",
      "          -0.9366,  0.2489,  1.0000,  0.9997,  0.6108,  0.4534,  0.9985,\n",
      "           0.8148,  1.0000,  0.8820,  1.0000,  0.9998,  0.9157, -0.9844,\n",
      "           0.9980, -0.9993]]])\n",
      "y_squeeze:  tensor([[ 5.5872,  7.0078, -6.4804, -6.2771, -5.5254, -6.2263, -6.2469, -6.5231,\n",
      "         -6.3726,  2.3910, -6.6339, 10.0073, -5.9379, -6.4134, -6.1720, -5.7855,\n",
      "         -6.0683, -5.6713, -6.4728, -6.4043, -5.6454, -6.0098,  2.1116,  1.7274,\n",
      "         -5.6156,  0.3366,  3.6760, -1.1851, -6.2487, -5.5092,  3.4624, -1.0699,\n",
      "         -6.1149, -3.9687, -1.2304, -7.0735, -6.4443, -1.6960,  4.8824,  0.7235,\n",
      "         -5.8349, -5.0650, -6.2639,  2.5388, -2.5971,  0.0394, -5.8425, -6.0096,\n",
      "          0.1779, -5.9574, -5.7549, -6.8342, -6.1176, -5.6828, -6.3941,  1.4387,\n",
      "         -5.1285, -3.3361,  2.9824,  3.7197, -4.0562, -1.4185,  0.3267, -2.8724,\n",
      "         -5.7100, -8.0354, -1.5558, -0.7838, -4.3634, -2.0083,  0.0318, -6.1547,\n",
      "          2.3778,  2.9789,  1.1282,  0.2413, -6.2845, -3.0796, -5.8153, -2.1100,\n",
      "         -5.6991, -6.9955, -6.6120]])\n",
      "scaled_y:  tensor([[ 11.1745,  14.0156, -12.9607, -12.5542, -11.0508, -12.4526, -12.4939,\n",
      "         -13.0462, -12.7451,   4.7820, -13.2678,  20.0147, -11.8757, -12.8268,\n",
      "         -12.3440, -11.5709, -12.1366, -11.3426, -12.9456, -12.8086, -11.2909,\n",
      "         -12.0195,   4.2232,   3.4549, -11.2312,   0.6731,   7.3519,  -2.3702,\n",
      "         -12.4974, -11.0184,   6.9248,  -2.1398, -12.2298,  -7.9374,  -2.4607,\n",
      "         -14.1470, -12.8885,  -3.3919,   9.7649,   1.4470, -11.6699, -10.1300,\n",
      "         -12.5279,   5.0775,  -5.1942,   0.0787, -11.6850, -12.0193,   0.3558,\n",
      "         -11.9148, -11.5098, -13.6684, -12.2351, -11.3656, -12.7882,   2.8773,\n",
      "         -10.2570,  -6.6721,   5.9648,   7.4393,  -8.1124,  -2.8369,   0.6534,\n",
      "          -5.7448, -11.4201, -16.0708,  -3.1116,  -1.5677,  -8.7267,  -4.0165,\n",
      "           0.0636, -12.3093,   4.7555,   5.9578,   2.2565,   0.4826, -12.5691,\n",
      "          -6.1593, -11.6307,  -4.2200, -11.3983, -13.9910, -13.2240]])\n",
      "y:  tensor([[1.4441e-04, 2.4745e-03, 4.7622e-15, 7.1507e-15, 3.2158e-14, 7.9155e-15,\n",
      "         7.5953e-15, 4.3720e-15, 5.9080e-15, 2.4175e-07, 3.5030e-15, 9.9733e-01,\n",
      "         1.4093e-14, 5.4447e-15, 8.8236e-15, 1.9115e-14, 1.0857e-14, 2.4018e-14,\n",
      "         4.8346e-15, 5.5446e-15, 2.5293e-14, 1.2206e-14, 1.3825e-07, 6.4123e-08,\n",
      "         2.6848e-14, 3.9711e-09, 3.1584e-06, 1.8932e-10, 7.5685e-15, 3.3214e-14,\n",
      "         2.0605e-06, 2.3838e-10, 9.8906e-15, 7.2347e-13, 1.7294e-10, 1.4542e-15,\n",
      "         5.1188e-15, 6.8151e-11, 3.5270e-05, 8.6100e-09, 1.7315e-14, 8.0753e-14,\n",
      "         7.3417e-15, 3.2488e-07, 1.1239e-11, 2.1916e-09, 1.7055e-14, 1.2209e-14,\n",
      "         2.8912e-09, 1.3554e-14, 2.0319e-14, 2.3467e-15, 9.8385e-15, 2.3472e-14,\n",
      "         5.6590e-15, 3.5991e-08, 7.1121e-14, 2.5639e-12, 7.8893e-07, 3.4469e-06,\n",
      "         6.0731e-13, 1.1871e-10, 3.8937e-09, 6.4807e-12, 2.2228e-14, 2.1239e-16,\n",
      "         9.0203e-11, 4.2241e-10, 3.2855e-13, 3.6494e-11, 2.1588e-09, 9.1346e-15,\n",
      "         2.3543e-07, 7.8345e-07, 1.9344e-08, 3.2822e-09, 7.0453e-15, 4.2818e-12,\n",
      "         1.8007e-14, 2.9774e-11, 2.2718e-14, 1.6997e-15, 3.6600e-15]])\n",
      "next_char_idx:  11\n",
      "x:  tensor([[[0., 0., 0., 0., 0., 0., 0., 0., 0., 0., 0., 1., 0., 0., 0., 0., 0.,\n",
      "          0., 0., 0., 0., 0., 0., 0., 0., 0., 0., 0., 0., 0., 0., 0., 0., 0.,\n",
      "          0., 0., 0., 0., 0., 0., 0., 0., 0., 0., 0., 0., 0., 0., 0., 0., 0.,\n",
      "          0., 0., 0., 0., 0., 0., 0., 0., 0., 0., 0., 0., 0., 0., 0., 0., 0.,\n",
      "          0., 0., 0., 0., 0., 0., 0., 0., 0., 0., 0., 0., 0., 0., 0.]]])\n",
      "y_model:  tensor([[[13.7109, 10.0116, -6.5112, -6.2913, -5.4789, -6.0994, -6.0328,\n",
      "          -6.4747, -6.3992,  2.5745, -6.3240,  9.2048, -5.5978, -6.2514,\n",
      "          -5.8405, -5.7818, -5.8915, -5.9311, -6.3561, -6.1121, -5.6637,\n",
      "          -5.9729,  2.0327,  2.2583, -5.7285, -2.6833,  2.1725,  2.0431,\n",
      "          -5.7134, -5.2114,  5.6768, -0.9238, -6.1708,  0.3783, -0.0139,\n",
      "          -6.6889, -6.2415, -3.9731,  3.3412, -0.9831, -5.7066, -5.2293,\n",
      "          -6.1684,  1.0014, -0.7646, -1.4255, -5.7598, -6.0526,  0.0308,\n",
      "          -5.7163, -5.3967, -6.5896, -6.7328, -5.2269, -5.6878,  1.4280,\n",
      "          -5.7862, -3.9414,  4.0432,  0.8250, -5.2896,  0.6839,  1.7512,\n",
      "          -1.4303, -5.8998, -8.6887, -4.2024, -0.7427, -6.7934,  4.3969,\n",
      "          -0.5364, -5.9366, -1.5812,  1.2692, -4.7482, -3.7364, -9.5311,\n",
      "          -3.8058, -5.4825, -1.4977, -5.6146, -6.8727, -6.5876]]])\n",
      "h:  tensor([[[ 0.5320,  0.8133, -0.2227,  0.8926,  0.6586, -0.6212,  0.6853,\n",
      "          -0.2674,  0.1194, -0.6244,  0.1817, -0.2729, -0.3508, -0.2552,\n",
      "           0.8831,  0.5414,  0.0895,  0.7340,  0.2384,  0.8339, -0.3185,\n",
      "          -0.2982, -0.9363, -0.3920,  0.9256,  0.0878,  0.3627, -0.7972,\n",
      "           0.7105, -0.5961, -0.1085, -0.0485,  0.6355,  0.6931,  0.2186,\n",
      "          -0.6865,  0.1367,  0.6528,  0.1262, -0.8225,  0.1883, -0.5977,\n",
      "           0.1427, -0.2854,  0.1331,  0.4949, -0.6108,  0.0163,  0.4821,\n",
      "          -0.7483, -0.3815, -0.0347, -0.1459,  0.9341, -0.3794,  0.8557,\n",
      "          -0.6480, -0.1292, -0.1694, -0.4084,  0.1117,  0.6727,  0.7468,\n",
      "          -0.1833,  0.3857, -0.6940, -0.8239,  0.3703,  0.4951, -0.0818,\n",
      "           0.0824,  0.2878, -0.3261,  0.1120,  0.2053,  0.4152,  0.7669,\n",
      "          -0.9047, -0.2238, -0.4487, -0.6771, -0.7381,  0.6146, -0.1403,\n",
      "          -0.5658, -0.0253,  0.1299,  0.6345, -0.2353, -0.0473, -0.8574,\n",
      "           0.0395,  0.9076,  0.8797, -0.4699, -0.2499, -0.1940,  0.0382,\n",
      "          -0.0673, -0.8937,  0.8106,  0.2897,  0.3906,  0.4927,  0.8690,\n",
      "          -0.1539, -0.3396, -0.0269,  0.7858,  0.6714, -0.4232, -0.7336,\n",
      "          -0.6762,  0.2235, -0.2131,  0.2033, -0.7650, -0.3418,  0.6209,\n",
      "           0.2749, -0.4223, -0.8488,  0.0166, -0.6841,  0.1789, -0.1514,\n",
      "          -0.1234, -0.0646],\n",
      "         [-0.9999, -0.9936, -1.0000,  1.0000,  1.0000,  0.8039,  0.8257,\n",
      "           1.0000, -0.9254, -1.0000, -0.9228, -0.2361, -1.0000,  0.5437,\n",
      "           0.9977, -1.0000,  0.8962,  0.2155, -0.0841, -1.0000,  0.9990,\n",
      "           1.0000, -0.9996,  0.0624,  0.9935, -0.3005, -0.3698,  0.9592,\n",
      "          -1.0000, -0.2633, -1.0000,  1.0000,  0.1348,  1.0000, -0.1518,\n",
      "          -1.0000,  0.9999,  1.0000,  1.0000,  0.3742, -1.0000, -1.0000,\n",
      "           0.1991,  1.0000, -0.1258,  1.0000, -0.5300,  1.0000,  1.0000,\n",
      "           0.8297,  1.0000,  0.9897,  0.9726, -0.9939, -0.2306, -1.0000,\n",
      "          -0.0039, -1.0000, -1.0000, -0.6107, -0.9989, -1.0000,  0.9999,\n",
      "           0.3391,  0.4910, -1.0000,  1.0000, -0.0717, -0.9947, -0.6438,\n",
      "          -1.0000, -1.0000,  1.0000, -0.9979, -0.9084,  0.3200, -1.0000,\n",
      "          -1.0000,  0.2244, -1.0000,  1.0000, -0.5516, -1.0000, -1.0000,\n",
      "          -0.9969,  1.0000,  0.5033,  0.1135,  1.0000,  1.0000, -0.4714,\n",
      "          -0.9972,  1.0000,  1.0000,  0.9951,  1.0000,  0.9998, -0.3165,\n",
      "          -0.6437, -0.9287, -1.0000, -0.0480,  1.0000, -0.9241,  0.7905,\n",
      "          -1.0000, -0.6357, -1.0000, -0.0574, -0.3895, -0.1129, -1.0000,\n",
      "           0.9993,  0.2549,  1.0000,  0.9999,  0.5854,  0.4502, -1.0000,\n",
      "           0.8325,  1.0000,  0.9911,  1.0000,  0.9999,  0.9852, -1.0000,\n",
      "           1.0000, -1.0000]]])\n",
      "y_squeeze:  tensor([[13.7109, 10.0116, -6.5112, -6.2913, -5.4789, -6.0994, -6.0328, -6.4747,\n",
      "         -6.3992,  2.5745, -6.3240,  9.2048, -5.5978, -6.2514, -5.8405, -5.7818,\n",
      "         -5.8915, -5.9311, -6.3561, -6.1121, -5.6637, -5.9729,  2.0327,  2.2583,\n",
      "         -5.7285, -2.6833,  2.1725,  2.0431, -5.7134, -5.2114,  5.6768, -0.9238,\n",
      "         -6.1708,  0.3783, -0.0139, -6.6889, -6.2415, -3.9731,  3.3412, -0.9831,\n",
      "         -5.7066, -5.2293, -6.1684,  1.0014, -0.7646, -1.4255, -5.7598, -6.0526,\n",
      "          0.0308, -5.7163, -5.3967, -6.5896, -6.7328, -5.2269, -5.6878,  1.4280,\n",
      "         -5.7862, -3.9414,  4.0432,  0.8250, -5.2896,  0.6839,  1.7512, -1.4303,\n",
      "         -5.8998, -8.6887, -4.2024, -0.7427, -6.7934,  4.3969, -0.5364, -5.9366,\n",
      "         -1.5812,  1.2692, -4.7482, -3.7364, -9.5311, -3.8058, -5.4825, -1.4977,\n",
      "         -5.6146, -6.8727, -6.5876]])\n",
      "scaled_y:  tensor([[ 27.4218,  20.0231, -13.0224, -12.5827, -10.9577, -12.1988, -12.0657,\n",
      "         -12.9494, -12.7983,   5.1489, -12.6481,  18.4096, -11.1956, -12.5028,\n",
      "         -11.6810, -11.5636, -11.7829, -11.8621, -12.7121, -12.2242, -11.3273,\n",
      "         -11.9457,   4.0653,   4.5167, -11.4570,  -5.3666,   4.3450,   4.0862,\n",
      "         -11.4269, -10.4227,  11.3535,  -1.8476, -12.3417,   0.7567,  -0.0278,\n",
      "         -13.3778, -12.4829,  -7.9461,   6.6825,  -1.9663, -11.4132, -10.4585,\n",
      "         -12.3368,   2.0028,  -1.5292,  -2.8509, -11.5196, -12.1053,   0.0615,\n",
      "         -11.4327, -10.7935, -13.1792, -13.4656, -10.4538, -11.3755,   2.8561,\n",
      "         -11.5725,  -7.8829,   8.0864,   1.6501, -10.5792,   1.3679,   3.5024,\n",
      "          -2.8605, -11.7996, -17.3774,  -8.4048,  -1.4853, -13.5868,   8.7939,\n",
      "          -1.0727, -11.8732,  -3.1624,   2.5384,  -9.4964,  -7.4728, -19.0621,\n",
      "          -7.6116, -10.9651,  -2.9954, -11.2291, -13.7453, -13.1752]])\n",
      "y:  tensor([[9.9927e-01, 6.1163e-04, 2.7225e-18, 4.2262e-18, 2.1462e-17, 6.2041e-18,\n",
      "         7.0875e-18, 2.9288e-18, 3.4065e-18, 2.1218e-10, 3.9586e-18, 1.2182e-04,\n",
      "         1.6919e-17, 4.5775e-18, 1.0412e-17, 1.1709e-17, 9.4033e-18, 8.6872e-18,\n",
      "         3.7131e-18, 6.0483e-18, 1.4831e-17, 7.9904e-18, 7.1793e-11, 1.1275e-10,\n",
      "         1.3026e-17, 5.7523e-15, 9.4962e-11, 7.3310e-11, 1.3425e-17, 3.6644e-17,\n",
      "         1.0503e-07, 1.9414e-13, 5.3780e-18, 2.6251e-12, 1.1981e-12, 1.9082e-18,\n",
      "         4.6697e-18, 4.3610e-16, 9.8334e-10, 1.7243e-13, 1.3609e-17, 3.5355e-17,\n",
      "         5.4043e-18, 9.1279e-12, 2.6694e-13, 7.1188e-14, 1.2236e-17, 6.8123e-18,\n",
      "         1.3100e-12, 1.3347e-17, 2.5293e-17, 2.3276e-18, 1.7479e-18, 3.5522e-17,\n",
      "         1.4132e-17, 2.1425e-11, 1.1606e-17, 4.6457e-16, 4.0032e-09, 6.4144e-12,\n",
      "         3.1336e-17, 4.8373e-12, 4.0890e-11, 7.0508e-14, 9.2479e-18, 3.4966e-20,\n",
      "         2.7567e-16, 2.7891e-13, 1.5484e-18, 8.1221e-09, 4.2137e-13, 8.5914e-18,\n",
      "         5.2133e-14, 1.5593e-11, 9.2538e-17, 7.0008e-16, 6.4859e-21, 6.0936e-16,\n",
      "         2.1305e-17, 6.1613e-14, 1.6361e-17, 1.3214e-18, 2.3368e-18]])\n",
      "next_char_idx:  0\n",
      "foobarss.\n",
      "\n",
      "x:  tensor([[[0., 0., 0., 0., 0., 0., 0., 0., 0., 0., 0., 0., 0., 0., 0., 0., 0.,\n",
      "          0., 0., 0., 0., 0., 0., 0., 0., 0., 0., 0., 0., 0., 0., 0., 0., 0.,\n",
      "          0., 0., 0., 0., 0., 0., 0., 0., 0., 0., 0., 0., 0., 0., 0., 0., 0.,\n",
      "          0., 0., 0., 0., 0., 0., 0., 0., 0., 0., 0., 0., 0., 0., 0., 0., 0.,\n",
      "          0., 0., 0., 0., 1., 0., 0., 0., 0., 0., 0., 0., 0., 0., 0.]]])\n",
      "y_model:  tensor([[[ 1.0782,  2.8611, -2.2188, -2.5906, -2.0595, -2.6150, -2.3845,\n",
      "          -2.4174, -2.4842, -0.7259, -2.4966,  2.8447, -2.4732, -2.6691,\n",
      "          -2.4231, -2.4003, -2.2688, -2.0718, -2.6630, -2.6928, -2.3369,\n",
      "          -2.4001,  0.9804, -1.1519, -2.1336, -0.4272,  1.8969,  0.0784,\n",
      "          -2.4876, -1.9725,  1.0002, -0.0611, -2.2291, -0.4130, -0.9565,\n",
      "          -2.5813, -2.5746, -1.0880,  1.0743, -0.8108, -2.2663, -2.1611,\n",
      "          -2.3556,  1.6228,  0.1633,  3.3013, -2.2294, -2.4323, -0.6583,\n",
      "          -2.5507, -2.4813, -2.9092, -2.1089, -2.1413, -2.7736,  0.1870,\n",
      "          -1.8374,  0.3882,  0.9178,  0.7014, -1.0110, -0.7172,  0.6470,\n",
      "          -1.6441, -2.2059, -2.4554, -1.2295, -0.3764, -1.5719,  2.3659,\n",
      "          -0.6680, -2.2680,  1.6804,  4.5368, -1.0920, -1.0705, -1.3567,\n",
      "          -2.8528, -2.4635, -1.5263, -2.1400, -2.5998, -2.9051]]])\n",
      "h:  tensor([[[ 1.1967e-01, -7.2035e-02, -4.3212e-02, -1.2729e-01, -1.8190e-01,\n",
      "           4.4748e-02,  1.1621e-01,  1.9329e-02,  7.8611e-02,  8.8348e-02,\n",
      "           1.1017e-01, -1.7406e-01, -7.2404e-02, -1.4790e-01,  9.7792e-02,\n",
      "           1.5521e-01, -1.4798e-01,  6.4932e-02, -1.1214e-01, -4.7151e-01,\n",
      "          -8.6918e-02, -7.0341e-05,  8.9582e-02, -2.7642e-02, -1.2681e-01,\n",
      "          -2.7614e-01, -1.4275e-01, -3.0031e-02,  6.7525e-02, -5.4682e-02,\n",
      "           3.5923e-02,  1.2159e-01,  1.4399e-01,  3.1265e-01, -1.3059e-01,\n",
      "          -5.0234e-02,  1.3490e-01,  9.4152e-02,  1.0941e-01, -7.3483e-02,\n",
      "           3.0422e-02, -8.2838e-02, -2.9055e-03, -7.3621e-02,  1.7783e-01,\n",
      "          -1.7336e-02, -1.4719e-01, -6.7613e-02,  1.3515e-01,  9.2702e-02,\n",
      "           3.8251e-02, -6.3946e-02, -1.3617e-01, -2.0186e-01,  1.0148e-01,\n",
      "           3.7339e-02,  9.3290e-02, -1.4677e-01,  3.4873e-02, -1.0628e-01,\n",
      "           7.5439e-02,  6.4185e-02,  1.5205e-01, -3.6260e-02,  1.1718e-01,\n",
      "           5.3211e-02, -4.0917e-01, -4.6972e-02,  1.7175e-01, -4.9779e-02,\n",
      "           8.8540e-02,  1.0463e-01, -2.6100e-02,  6.4540e-02,  1.4134e-01,\n",
      "           5.0342e-02,  1.4223e-01,  1.8131e-01, -9.1664e-02,  1.1045e-01,\n",
      "          -2.4663e-01, -2.1977e-01, -8.1903e-03, -9.3887e-02, -2.2006e-02,\n",
      "          -2.9738e-02,  9.3727e-02,  1.3520e-01, -1.2056e-01, -6.9197e-02,\n",
      "          -9.2021e-02, -1.3269e-01,  8.4486e-03, -1.7867e-01,  3.7870e-02,\n",
      "          -1.4506e-01, -1.2761e-01,  1.5371e-01, -2.0987e-01,  5.5269e-02,\n",
      "           3.0311e-01, -5.9143e-02,  7.4620e-02,  1.1151e-01, -1.5328e-01,\n",
      "          -1.0901e-01,  1.6220e-01, -4.7541e-02, -3.8573e-02, -1.6351e-01,\n",
      "          -9.9022e-02, -7.4864e-02, -8.5689e-02,  1.5099e-01, -1.1894e-01,\n",
      "           8.1676e-02, -1.6894e-01,  1.2740e-01, -4.8323e-02,  1.0178e-01,\n",
      "          -3.8222e-02, -7.3414e-03,  1.3217e-01, -1.3212e-01,  1.3722e-01,\n",
      "          -5.3093e-02, -1.2659e-02, -6.1457e-02],\n",
      "         [ 7.5701e-02, -3.4081e-01, -4.9189e-01,  1.9643e-01,  2.9583e-01,\n",
      "           4.4806e-01,  5.3624e-01,  6.8532e-02, -3.1682e-01, -4.2482e-01,\n",
      "          -1.4597e-01, -1.8801e-01, -5.5545e-01, -7.2778e-02, -1.4692e-01,\n",
      "          -2.3936e-01,  1.4082e-01,  1.8586e-01, -5.5306e-02, -4.6745e-01,\n",
      "           1.4984e-01,  4.7154e-01,  2.3598e-01, -6.6771e-02,  1.7304e-01,\n",
      "          -2.0760e-01, -3.5673e-01, -4.5911e-01,  3.1939e-01, -2.3776e-01,\n",
      "          -5.7391e-01,  5.5065e-01,  2.5873e-01,  5.1129e-01, -1.4039e-01,\n",
      "          -3.5601e-01, -2.9276e-02, -1.6782e-01,  6.2719e-03,  3.5416e-01,\n",
      "           1.3991e-01, -2.8528e-01,  1.7503e-01,  4.0720e-01,  4.5915e-01,\n",
      "           1.7930e-01, -5.0478e-01, -6.2925e-01,  1.9432e-02,  2.0652e-01,\n",
      "           1.5320e-01, -1.2127e-01, -9.2851e-02, -8.3662e-02,  9.0101e-02,\n",
      "          -4.6131e-01, -1.5042e-03, -5.7213e-01, -5.9488e-01, -2.3317e-01,\n",
      "          -3.5713e-01, -3.0583e-01,  1.1500e-01,  1.6975e-02,  4.1690e-01,\n",
      "          -2.4761e-01,  3.3979e-01,  1.1976e-01,  4.3923e-01, -1.2192e-01,\n",
      "           5.3794e-02, -2.2106e-02,  4.3553e-01,  2.9182e-04, -2.8984e-01,\n",
      "          -4.2568e-01, -2.8796e-01, -3.4573e-01,  1.3623e-01, -6.0377e-01,\n",
      "          -1.0795e-01,  3.7044e-01,  2.4384e-02,  4.1969e-01, -2.3775e-01,\n",
      "           4.2109e-01,  3.2247e-01, -1.6317e-01,  3.4593e-01,  6.2350e-01,\n",
      "          -4.0145e-01, -3.9359e-01, -3.2730e-01,  3.9499e-01,  2.4590e-01,\n",
      "           2.8095e-01, -1.8472e-01, -2.4246e-01, -4.5609e-01, -6.8985e-01,\n",
      "           1.6992e-01, -9.8920e-02, -5.7702e-02, -2.7557e-01,  1.7668e-01,\n",
      "          -4.3903e-01, -5.5221e-01, -1.0275e-01,  6.9614e-02, -3.6459e-01,\n",
      "          -8.4280e-02, -4.9522e-01,  5.1724e-01,  5.1719e-02,  4.2965e-01,\n",
      "          -1.0123e-01,  3.2631e-01,  4.3233e-01,  1.9807e-01, -2.6743e-01,\n",
      "           5.7067e-01,  4.3652e-01,  4.9175e-01,  7.6631e-02,  3.5900e-01,\n",
      "          -3.0367e-01,  6.2005e-02,  6.6970e-01]]])\n",
      "y_squeeze:  tensor([[ 1.0782,  2.8611, -2.2188, -2.5906, -2.0595, -2.6150, -2.3845, -2.4174,\n",
      "         -2.4842, -0.7259, -2.4966,  2.8447, -2.4732, -2.6691, -2.4231, -2.4003,\n",
      "         -2.2688, -2.0718, -2.6630, -2.6928, -2.3369, -2.4001,  0.9804, -1.1519,\n",
      "         -2.1336, -0.4272,  1.8969,  0.0784, -2.4876, -1.9725,  1.0002, -0.0611,\n",
      "         -2.2291, -0.4130, -0.9565, -2.5813, -2.5746, -1.0880,  1.0743, -0.8108,\n",
      "         -2.2663, -2.1611, -2.3556,  1.6228,  0.1633,  3.3013, -2.2294, -2.4323,\n",
      "         -0.6583, -2.5507, -2.4813, -2.9092, -2.1089, -2.1413, -2.7736,  0.1870,\n",
      "         -1.8374,  0.3882,  0.9178,  0.7014, -1.0110, -0.7172,  0.6470, -1.6441,\n",
      "         -2.2059, -2.4554, -1.2295, -0.3764, -1.5719,  2.3659, -0.6680, -2.2680,\n",
      "          1.6804,  4.5368, -1.0920, -1.0705, -1.3567, -2.8528, -2.4635, -1.5263,\n",
      "         -2.1400, -2.5998, -2.9051]])\n",
      "scaled_y:  tensor([[ 2.1563,  5.7222, -4.4375, -5.1812, -4.1189, -5.2300, -4.7690, -4.8349,\n",
      "         -4.9684, -1.4519, -4.9931,  5.6894, -4.9464, -5.3383, -4.8462, -4.8007,\n",
      "         -4.5376, -4.1436, -5.3261, -5.3855, -4.6738, -4.8002,  1.9608, -2.3037,\n",
      "         -4.2672, -0.8544,  3.7937,  0.1568, -4.9752, -3.9449,  2.0004, -0.1222,\n",
      "         -4.4582, -0.8260, -1.9130, -5.1625, -5.1491, -2.1761,  2.1487, -1.6217,\n",
      "         -4.5326, -4.3222, -4.7111,  3.2456,  0.3266,  6.6025, -4.4587, -4.8646,\n",
      "         -1.3166, -5.1014, -4.9627, -5.8184, -4.2177, -4.2825, -5.5473,  0.3741,\n",
      "         -3.6747,  0.7764,  1.8356,  1.4028, -2.0220, -1.4345,  1.2940, -3.2881,\n",
      "         -4.4118, -4.9109, -2.4590, -0.7528, -3.1439,  4.7318, -1.3361, -4.5360,\n",
      "          3.3607,  9.0737, -2.1840, -2.1411, -2.7135, -5.7056, -4.9271, -3.0527,\n",
      "         -4.2801, -5.1996, -5.8103]])\n",
      "y:  tensor([[8.3632e-04, 2.9582e-02, 1.1448e-06, 5.4418e-07, 1.5742e-06, 5.1823e-07,\n",
      "         8.2177e-07, 7.6936e-07, 6.7322e-07, 2.2665e-05, 6.5676e-07, 2.8626e-02,\n",
      "         6.8820e-07, 4.6507e-07, 7.6073e-07, 7.9613e-07, 1.0357e-06, 1.5359e-06,\n",
      "         4.7076e-07, 4.4361e-07, 9.0382e-07, 7.9649e-07, 6.8783e-04, 9.6694e-06,\n",
      "         1.3572e-06, 4.1196e-05, 4.3002e-03, 1.1324e-04, 6.6864e-07, 1.8734e-06,\n",
      "         7.1557e-04, 8.5667e-05, 1.1214e-06, 4.2383e-05, 1.4292e-05, 5.5442e-07,\n",
      "         5.6189e-07, 1.0986e-05, 8.2997e-04, 1.9125e-05, 1.0409e-06, 1.2847e-06,\n",
      "         8.7071e-07, 2.4857e-03, 1.3420e-04, 7.1340e-02, 1.1207e-06, 7.4684e-07,\n",
      "         2.5949e-05, 5.8937e-07, 6.7708e-07, 2.8773e-07, 1.4261e-06, 1.3366e-06,\n",
      "         3.7735e-07, 1.4072e-04, 2.4547e-06, 2.1043e-04, 6.0688e-04, 3.9367e-04,\n",
      "         1.2816e-05, 2.3063e-05, 3.5308e-04, 3.6131e-06, 1.1746e-06, 7.1307e-07,\n",
      "         8.2786e-06, 4.5597e-05, 4.1738e-06, 1.0988e-02, 2.5448e-05, 1.0374e-06,\n",
      "         2.7889e-03, 8.4440e-01, 1.0899e-05, 1.1377e-05, 6.4186e-06, 3.2210e-07,\n",
      "         7.0162e-07, 4.5724e-06, 1.3399e-06, 5.3425e-07, 2.9009e-07]])\n",
      "next_char_idx:  73\n",
      "x:  tensor([[[0., 0., 0., 0., 0., 0., 0., 0., 0., 0., 0., 0., 0., 0., 0., 0., 0.,\n",
      "          0., 0., 0., 0., 0., 0., 0., 0., 0., 0., 0., 0., 0., 0., 0., 0., 0.,\n",
      "          0., 0., 0., 0., 0., 0., 0., 0., 0., 0., 0., 0., 0., 0., 0., 0., 0.,\n",
      "          0., 0., 0., 0., 0., 0., 0., 0., 0., 0., 0., 0., 0., 0., 0., 0., 0.,\n",
      "          0., 0., 0., 0., 0., 1., 0., 0., 0., 0., 0., 0., 0., 0., 0.]]])\n",
      "y_model:  tensor([[[ 1.2261,  4.9588, -5.1728, -5.3728, -4.6153, -5.1874, -5.3635,\n",
      "          -5.6963, -5.6730,  2.1938, -5.5784,  6.3535, -5.1397, -5.5308,\n",
      "          -5.3968, -5.0731, -5.4173, -4.8312, -5.8237, -5.4695, -4.8286,\n",
      "          -5.3442, -0.1537,  2.1266, -4.4711,  0.6046,  3.4279,  0.0457,\n",
      "          -5.5668, -4.5751,  2.6598,  1.1553, -5.2207, -3.3501,  0.5240,\n",
      "          -5.8785, -5.5416, -0.5959,  5.5656,  1.7555, -5.1941, -4.6690,\n",
      "          -5.3760,  5.5529, -0.5398,  0.8610, -5.0296, -5.1536,  0.2166,\n",
      "          -5.4184, -5.0900, -6.0289, -4.8541, -5.0983, -5.6817,  1.2617,\n",
      "          -2.8403, -5.1413,  0.2436,  3.1293, -1.2166, -3.7827,  1.3121,\n",
      "          -2.3083, -5.0469, -5.7348, -0.5354, -0.8572, -1.7199, -3.8633,\n",
      "           0.8475, -5.1625,  3.1457,  7.1554, -0.3238, -1.4732, -4.3471,\n",
      "          -2.0413, -4.9635, -0.3604, -4.6897, -5.6622, -5.8130]]])\n",
      "h:  tensor([[[ 0.3637,  0.0162, -0.0333,  0.0184,  0.4704,  0.0057,  0.4243,\n",
      "          -0.2155,  0.1143, -0.2818,  0.2489, -0.1776, -0.0861, -0.1674,\n",
      "          -0.3135, -0.2161, -0.1190,  0.3080,  0.0801, -0.0244, -0.1751,\n",
      "          -0.0851, -0.0499, -0.0372, -0.3528,  0.0482,  0.0486, -0.5000,\n",
      "           0.3823, -0.0163, -0.0384, -0.0589,  0.3557,  0.1538,  0.0463,\n",
      "          -0.2996,  0.1269,  0.2838,  0.1175, -0.3860,  0.1559, -0.1313,\n",
      "          -0.0978, -0.1392,  0.0852, -0.2068, -0.0353,  0.0261,  0.2442,\n",
      "           0.1226, -0.2687, -0.0974, -0.1705, -0.4386, -0.2922,  0.0579,\n",
      "          -0.1365, -0.1191, -0.1124, -0.2529,  0.1027,  0.1215,  0.4214,\n",
      "          -0.2245,  0.2465,  0.6745, -0.1682,  0.3655,  0.2470, -0.0629,\n",
      "           0.0779,  0.2573, -0.0466,  0.0955,  0.1534, -0.1503,  0.5243,\n",
      "          -0.0787, -0.1895,  0.2090, -0.5733,  0.0113,  0.0092, -0.1263,\n",
      "          -0.0921, -0.0483,  0.1100,  0.1964, -0.2175,  0.0269, -0.7140,\n",
      "          -0.1506,  0.1215, -0.2558, -0.2386, -0.1747, -0.1630,  0.1615,\n",
      "          -0.0293, -0.5644,  0.7474,  0.1469,  0.4297,  0.4379,  0.4272,\n",
      "          -0.1473, -0.2866, -0.0277, -0.0903, -0.0132, -0.0235, -0.6748,\n",
      "          -0.3743,  0.1920,  0.0953,  0.1735,  0.2512, -0.1356,  0.4978,\n",
      "           0.1407, -0.2764,  0.1734,  0.1374, -0.5341,  0.1684, -0.0146,\n",
      "          -0.0939, -0.0597],\n",
      "         [-0.2676, -0.9418,  0.1917,  0.9665,  0.9562,  0.9666,  0.9896,\n",
      "           0.9669, -0.4089, -0.9949, -0.7072, -0.2360, -0.9893,  0.5310,\n",
      "           0.3816, -0.0485, -0.1330,  0.2155, -0.0741, -0.9961,  0.9303,\n",
      "           0.9662, -0.8931,  0.0639,  0.7862,  0.0093, -0.3916, -0.9940,\n",
      "           0.0224, -0.2633, -0.8975,  0.9706,  0.1349,  0.9751, -0.1517,\n",
      "          -0.9909,  0.5310,  0.9200,  0.4315,  0.3740, -0.0522,  0.8763,\n",
      "           0.1983,  0.9910,  0.7078,  0.8232, -0.5321,  0.3700,  0.5701,\n",
      "           0.8264,  0.9689,  0.8478, -0.0085, -0.4718, -0.2305, -0.9958,\n",
      "          -0.0038, -0.9962, -0.8629, -0.5457, -0.6653, -0.7941,  0.9028,\n",
      "           0.3270,  0.4940, -0.8824,  0.9037, -0.0716,  0.3532, -0.1736,\n",
      "          -0.2555, -0.9642,  0.9930, -0.0534, -0.7636, -0.9942, -0.9749,\n",
      "          -0.9931,  0.2224, -0.9777, -0.5005, -0.4525, -0.2072, -0.0046,\n",
      "           0.8445,  0.9798,  0.4955,  0.0804,  0.9465,  0.9389, -0.4703,\n",
      "          -0.6633,  0.9682,  0.9898,  0.5090,  0.9936,  0.9403, -0.3161,\n",
      "          -0.6419, -0.9285, -0.2743, -0.0497,  0.9684, -0.1687, -0.1389,\n",
      "          -0.9225, -0.6356, -0.8032, -0.0572, -0.4033, -0.1113, -0.9784,\n",
      "          -0.8277,  0.1687,  0.9966,  0.9449,  0.5246,  0.4508,  0.9796,\n",
      "           0.6945,  0.9971,  0.6146,  0.9945,  0.9789,  0.6784, -0.5150,\n",
      "           0.6264, -0.6789]]])\n",
      "y_squeeze:  tensor([[ 1.2261,  4.9588, -5.1728, -5.3728, -4.6153, -5.1874, -5.3635, -5.6963,\n",
      "         -5.6730,  2.1938, -5.5784,  6.3535, -5.1397, -5.5308, -5.3968, -5.0731,\n",
      "         -5.4173, -4.8312, -5.8237, -5.4695, -4.8286, -5.3442, -0.1537,  2.1266,\n",
      "         -4.4711,  0.6046,  3.4279,  0.0457, -5.5668, -4.5751,  2.6598,  1.1553,\n",
      "         -5.2207, -3.3501,  0.5240, -5.8785, -5.5416, -0.5959,  5.5656,  1.7555,\n",
      "         -5.1941, -4.6690, -5.3760,  5.5529, -0.5398,  0.8610, -5.0296, -5.1536,\n",
      "          0.2166, -5.4184, -5.0900, -6.0289, -4.8541, -5.0983, -5.6817,  1.2617,\n",
      "         -2.8403, -5.1413,  0.2436,  3.1293, -1.2166, -3.7827,  1.3121, -2.3083,\n",
      "         -5.0469, -5.7348, -0.5354, -0.8572, -1.7199, -3.8633,  0.8475, -5.1625,\n",
      "          3.1457,  7.1554, -0.3238, -1.4732, -4.3471, -2.0413, -4.9635, -0.3604,\n",
      "         -4.6897, -5.6622, -5.8130]])\n",
      "scaled_y:  tensor([[  2.4522,   9.9176, -10.3456, -10.7457,  -9.2307, -10.3749, -10.7269,\n",
      "         -11.3926, -11.3461,   4.3875, -11.1568,  12.7071, -10.2793, -11.0616,\n",
      "         -10.7936, -10.1461, -10.8346,  -9.6625, -11.6475, -10.9390,  -9.6572,\n",
      "         -10.6884,  -0.3074,   4.2533,  -8.9422,   1.2092,   6.8558,   0.0914,\n",
      "         -11.1337,  -9.1503,   5.3197,   2.3107, -10.4413,  -6.7001,   1.0480,\n",
      "         -11.7570, -11.0833,  -1.1918,  11.1311,   3.5111, -10.3882,  -9.3379,\n",
      "         -10.7520,  11.1058,  -1.0797,   1.7220, -10.0591, -10.3071,   0.4333,\n",
      "         -10.8368, -10.1801, -12.0579,  -9.7081, -10.1967, -11.3635,   2.5235,\n",
      "          -5.6806, -10.2827,   0.4872,   6.2585,  -2.4332,  -7.5653,   2.6242,\n",
      "          -4.6165, -10.0938, -11.4696,  -1.0709,  -1.7144,  -3.4399,  -7.7266,\n",
      "           1.6951, -10.3251,   6.2913,  14.3109,  -0.6477,  -2.9465,  -8.6942,\n",
      "          -4.0825,  -9.9271,  -0.7208,  -9.3794, -11.3245, -11.6260]])\n",
      "y:  tensor([[5.4556e-06, 9.5289e-03, 1.5095e-11, 1.0118e-11, 4.6031e-11, 1.4660e-11,\n",
      "         1.0310e-11, 5.2981e-12, 5.5505e-12, 3.7789e-05, 6.7072e-12, 1.5506e-01,\n",
      "         1.6130e-11, 7.3768e-12, 9.6441e-12, 1.8428e-11, 9.2573e-12, 2.9890e-11,\n",
      "         4.1063e-12, 8.3390e-12, 3.0049e-11, 1.0715e-11, 3.4543e-07, 3.3040e-05,\n",
      "         6.1425e-11, 1.5741e-06, 4.4598e-04, 5.1474e-07, 6.8642e-12, 4.9885e-11,\n",
      "         9.5979e-05, 4.7357e-06, 1.3717e-11, 5.7818e-10, 1.3397e-06, 3.6803e-12,\n",
      "         7.2188e-12, 1.4266e-07, 3.2067e-02, 1.5729e-05, 1.4466e-11, 4.1350e-11,\n",
      "         1.0054e-11, 3.1266e-02, 1.5958e-07, 2.6288e-06, 2.0103e-11, 1.5687e-11,\n",
      "         7.2451e-07, 9.2362e-12, 1.7812e-11, 2.7240e-12, 2.8556e-11, 1.7519e-11,\n",
      "         5.4549e-12, 5.8588e-06, 1.6026e-09, 1.6076e-11, 7.6464e-07, 2.4543e-04,\n",
      "         4.1222e-08, 2.4338e-10, 6.4797e-06, 4.6447e-09, 1.9418e-11, 4.9058e-12,\n",
      "         1.6099e-07, 8.4595e-08, 1.5065e-08, 2.0714e-10, 2.5589e-06, 1.5408e-11,\n",
      "         2.5361e-04, 7.7092e-01, 2.4581e-07, 2.4674e-08, 7.8712e-11, 7.9225e-09,\n",
      "         2.2941e-11, 2.2847e-07, 3.9671e-11, 5.6717e-12, 4.1953e-12]])\n",
      "next_char_idx:  73\n",
      "x:  tensor([[[0., 0., 0., 0., 0., 0., 0., 0., 0., 0., 0., 0., 0., 0., 0., 0., 0.,\n",
      "          0., 0., 0., 0., 0., 0., 0., 0., 0., 0., 0., 0., 0., 0., 0., 0., 0.,\n",
      "          0., 0., 0., 0., 0., 0., 0., 0., 0., 0., 0., 0., 0., 0., 0., 0., 0.,\n",
      "          0., 0., 0., 0., 0., 0., 0., 0., 0., 0., 0., 0., 0., 0., 0., 0., 0.,\n",
      "          0., 0., 0., 0., 0., 1., 0., 0., 0., 0., 0., 0., 0., 0., 0.]]])\n",
      "y_model:  tensor([[[ 5.5872,  7.0078, -6.4804, -6.2771, -5.5254, -6.2263, -6.2469,\n",
      "          -6.5231, -6.3726,  2.3910, -6.6339, 10.0073, -5.9379, -6.4134,\n",
      "          -6.1720, -5.7855, -6.0683, -5.6713, -6.4728, -6.4043, -5.6454,\n",
      "          -6.0098,  2.1116,  1.7274, -5.6156,  0.3366,  3.6760, -1.1851,\n",
      "          -6.2487, -5.5092,  3.4624, -1.0699, -6.1149, -3.9687, -1.2304,\n",
      "          -7.0735, -6.4443, -1.6960,  4.8824,  0.7235, -5.8349, -5.0650,\n",
      "          -6.2639,  2.5388, -2.5971,  0.0394, -5.8425, -6.0096,  0.1779,\n",
      "          -5.9574, -5.7549, -6.8342, -6.1176, -5.6828, -6.3941,  1.4387,\n",
      "          -5.1285, -3.3361,  2.9824,  3.7197, -4.0562, -1.4185,  0.3267,\n",
      "          -2.8724, -5.7100, -8.0354, -1.5558, -0.7838, -4.3634, -2.0083,\n",
      "           0.0318, -6.1547,  2.3778,  2.9789,  1.1282,  0.2413, -6.2845,\n",
      "          -3.0796, -5.8153, -2.1100, -5.6991, -6.9955, -6.6120]]])\n",
      "h:  tensor([[[ 0.4913,  0.0265, -0.1377,  0.1148,  0.7176,  0.0483,  0.6221,\n",
      "          -0.2647,  0.1183, -0.6218,  0.2710, -0.4750, -0.2232, -0.2331,\n",
      "          -0.1238, -0.1220,  0.0276,  0.4479,  0.1693,  0.5307, -0.2776,\n",
      "          -0.2570, -0.4491, -0.1507,  0.4408,  0.0404,  0.3164, -0.7326,\n",
      "           0.3210, -0.0865, -0.0866, -0.0553,  0.4338,  0.2705,  0.1801,\n",
      "          -0.4249,  0.1333,  0.5709,  0.1262, -0.5850,  0.1882, -0.3129,\n",
      "           0.0193, -0.2172,  0.1014, -0.1213, -0.2072,  0.0307,  0.4382,\n",
      "           0.0385, -0.2779, -0.0950, -0.1571,  0.1087, -0.5957,  0.6024,\n",
      "          -0.1694, -0.1242, -0.1562, -0.3837,  0.1087,  0.3059,  0.6067,\n",
      "          -0.2113,  0.3703,  0.7587, -0.2870,  0.2716,  0.4221, -0.0740,\n",
      "           0.0786,  0.2875, -0.1840,  0.1003,  0.1877, -0.3937,  0.5654,\n",
      "          -0.3345, -0.2192,  0.4713, -0.7053, -0.4555,  0.0170, -0.1369,\n",
      "          -0.1912, -0.0038,  0.1212,  0.5306, -0.2344,  0.0437, -0.8425,\n",
      "          -0.0090,  0.4147, -0.0336, -0.4560, -0.2082, -0.1802,  0.0426,\n",
      "           0.0625, -0.8430,  0.8128,  0.3962,  0.5002,  0.4972,  0.7090,\n",
      "          -0.1529, -0.3611, -0.0269, -0.0801,  0.2490, -0.2245, -0.6646,\n",
      "          -0.5839,  0.2101,  0.0751,  0.2174,  0.5552, -0.3006,  0.1906,\n",
      "          -0.2958, -0.3968, -0.3065,  0.0701, -0.6650,  0.1764, -0.0774,\n",
      "          -0.1212, -0.0640],\n",
      "         [-0.9496, -0.9997, -0.4570,  0.9995,  0.9988,  0.9992,  0.9991,\n",
      "           0.9999, -0.4254, -1.0000, -0.9921, -0.2361, -1.0000,  0.5451,\n",
      "           0.8190, -0.9809,  0.3010,  0.2156, -0.0813, -1.0000,  0.9983,\n",
      "           1.0000, -0.9996,  0.0624,  0.9602, -0.3266, -0.3701, -0.9569,\n",
      "          -0.9889, -0.2633, -0.9991,  1.0000,  0.1348,  0.9999, -0.1518,\n",
      "          -0.9999,  0.9965,  0.9975,  0.9999,  0.3741, -0.9990,  0.1190,\n",
      "           0.1988,  1.0000, -0.4404,  0.9993, -0.5300,  0.9994,  0.9886,\n",
      "           0.9995,  1.0000,  0.9971,  0.0260,  0.0430, -0.2306, -1.0000,\n",
      "          -0.0039, -1.0000, -1.0000, -0.5902, -0.8962, -0.9968,  0.9993,\n",
      "           0.3323,  0.4932, -0.9916,  0.9974, -0.0717,  0.9052, -0.5400,\n",
      "          -0.9954, -0.9997,  0.9983, -0.7041, -0.8586, -0.9909, -0.9992,\n",
      "          -1.0000,  0.2243, -1.0000,  0.9972, -0.8555, -0.9998, -0.9849,\n",
      "          -0.9270,  1.0000,  0.5016,  0.0967,  1.0000,  0.9999, -0.4712,\n",
      "          -0.7991,  0.9606,  1.0000,  0.9913,  1.0000, -0.5073, -0.3165,\n",
      "          -0.6436, -0.9287, -0.9815, -0.0486,  0.9973, -0.8649,  0.4672,\n",
      "          -0.9978, -0.6357, -0.9974, -0.0574, -0.3892, -0.1129, -1.0000,\n",
      "          -0.9366,  0.2489,  1.0000,  0.9997,  0.6108,  0.4534,  0.9985,\n",
      "           0.8148,  1.0000,  0.8820,  1.0000,  0.9998,  0.9157, -0.9844,\n",
      "           0.9980, -0.9993]]])\n",
      "y_squeeze:  tensor([[ 5.5872,  7.0078, -6.4804, -6.2771, -5.5254, -6.2263, -6.2469, -6.5231,\n",
      "         -6.3726,  2.3910, -6.6339, 10.0073, -5.9379, -6.4134, -6.1720, -5.7855,\n",
      "         -6.0683, -5.6713, -6.4728, -6.4043, -5.6454, -6.0098,  2.1116,  1.7274,\n",
      "         -5.6156,  0.3366,  3.6760, -1.1851, -6.2487, -5.5092,  3.4624, -1.0699,\n",
      "         -6.1149, -3.9687, -1.2304, -7.0735, -6.4443, -1.6960,  4.8824,  0.7235,\n",
      "         -5.8349, -5.0650, -6.2639,  2.5388, -2.5971,  0.0394, -5.8425, -6.0096,\n",
      "          0.1779, -5.9574, -5.7549, -6.8342, -6.1176, -5.6828, -6.3941,  1.4387,\n",
      "         -5.1285, -3.3361,  2.9824,  3.7197, -4.0562, -1.4185,  0.3267, -2.8724,\n",
      "         -5.7100, -8.0354, -1.5558, -0.7838, -4.3634, -2.0083,  0.0318, -6.1547,\n",
      "          2.3778,  2.9789,  1.1282,  0.2413, -6.2845, -3.0796, -5.8153, -2.1100,\n",
      "         -5.6991, -6.9955, -6.6120]])\n",
      "scaled_y:  tensor([[ 11.1745,  14.0156, -12.9607, -12.5542, -11.0508, -12.4526, -12.4939,\n",
      "         -13.0462, -12.7451,   4.7820, -13.2678,  20.0147, -11.8757, -12.8268,\n",
      "         -12.3440, -11.5709, -12.1366, -11.3426, -12.9456, -12.8086, -11.2909,\n",
      "         -12.0195,   4.2232,   3.4549, -11.2312,   0.6731,   7.3519,  -2.3702,\n",
      "         -12.4974, -11.0184,   6.9248,  -2.1398, -12.2298,  -7.9374,  -2.4607,\n",
      "         -14.1470, -12.8885,  -3.3919,   9.7649,   1.4470, -11.6699, -10.1300,\n",
      "         -12.5279,   5.0775,  -5.1942,   0.0787, -11.6850, -12.0193,   0.3558,\n",
      "         -11.9148, -11.5098, -13.6684, -12.2351, -11.3656, -12.7882,   2.8773,\n",
      "         -10.2570,  -6.6721,   5.9648,   7.4393,  -8.1124,  -2.8369,   0.6534,\n",
      "          -5.7448, -11.4201, -16.0708,  -3.1116,  -1.5677,  -8.7267,  -4.0165,\n",
      "           0.0636, -12.3093,   4.7555,   5.9578,   2.2565,   0.4826, -12.5691,\n",
      "          -6.1593, -11.6307,  -4.2200, -11.3983, -13.9910, -13.2240]])\n",
      "y:  tensor([[1.4441e-04, 2.4745e-03, 4.7622e-15, 7.1507e-15, 3.2158e-14, 7.9155e-15,\n",
      "         7.5953e-15, 4.3720e-15, 5.9080e-15, 2.4175e-07, 3.5030e-15, 9.9733e-01,\n",
      "         1.4093e-14, 5.4447e-15, 8.8236e-15, 1.9115e-14, 1.0857e-14, 2.4018e-14,\n",
      "         4.8346e-15, 5.5446e-15, 2.5293e-14, 1.2206e-14, 1.3825e-07, 6.4123e-08,\n",
      "         2.6848e-14, 3.9711e-09, 3.1584e-06, 1.8932e-10, 7.5685e-15, 3.3214e-14,\n",
      "         2.0605e-06, 2.3838e-10, 9.8906e-15, 7.2347e-13, 1.7294e-10, 1.4542e-15,\n",
      "         5.1188e-15, 6.8151e-11, 3.5270e-05, 8.6100e-09, 1.7315e-14, 8.0753e-14,\n",
      "         7.3417e-15, 3.2488e-07, 1.1239e-11, 2.1916e-09, 1.7055e-14, 1.2209e-14,\n",
      "         2.8912e-09, 1.3554e-14, 2.0319e-14, 2.3467e-15, 9.8385e-15, 2.3472e-14,\n",
      "         5.6590e-15, 3.5991e-08, 7.1121e-14, 2.5639e-12, 7.8893e-07, 3.4469e-06,\n",
      "         6.0731e-13, 1.1871e-10, 3.8937e-09, 6.4807e-12, 2.2228e-14, 2.1239e-16,\n",
      "         9.0203e-11, 4.2241e-10, 3.2855e-13, 3.6494e-11, 2.1588e-09, 9.1346e-15,\n",
      "         2.3543e-07, 7.8345e-07, 1.9344e-08, 3.2822e-09, 7.0453e-15, 4.2818e-12,\n",
      "         1.8007e-14, 2.9774e-11, 2.2718e-14, 1.6997e-15, 3.6600e-15]])\n",
      "next_char_idx:  11\n",
      "x:  tensor([[[0., 0., 0., 0., 0., 0., 0., 0., 0., 0., 0., 1., 0., 0., 0., 0., 0.,\n",
      "          0., 0., 0., 0., 0., 0., 0., 0., 0., 0., 0., 0., 0., 0., 0., 0., 0.,\n",
      "          0., 0., 0., 0., 0., 0., 0., 0., 0., 0., 0., 0., 0., 0., 0., 0., 0.,\n",
      "          0., 0., 0., 0., 0., 0., 0., 0., 0., 0., 0., 0., 0., 0., 0., 0., 0.,\n",
      "          0., 0., 0., 0., 0., 0., 0., 0., 0., 0., 0., 0., 0., 0., 0.]]])\n",
      "y_model:  tensor([[[13.7109, 10.0116, -6.5112, -6.2913, -5.4789, -6.0994, -6.0328,\n",
      "          -6.4747, -6.3992,  2.5745, -6.3240,  9.2048, -5.5978, -6.2514,\n",
      "          -5.8405, -5.7818, -5.8915, -5.9311, -6.3561, -6.1121, -5.6637,\n",
      "          -5.9729,  2.0327,  2.2583, -5.7285, -2.6833,  2.1725,  2.0431,\n",
      "          -5.7134, -5.2114,  5.6768, -0.9238, -6.1708,  0.3783, -0.0139,\n",
      "          -6.6889, -6.2415, -3.9731,  3.3412, -0.9831, -5.7066, -5.2293,\n",
      "          -6.1684,  1.0014, -0.7646, -1.4255, -5.7598, -6.0526,  0.0308,\n",
      "          -5.7163, -5.3967, -6.5896, -6.7328, -5.2269, -5.6878,  1.4280,\n",
      "          -5.7862, -3.9414,  4.0432,  0.8250, -5.2896,  0.6839,  1.7512,\n",
      "          -1.4303, -5.8998, -8.6887, -4.2024, -0.7427, -6.7934,  4.3969,\n",
      "          -0.5364, -5.9366, -1.5812,  1.2692, -4.7482, -3.7364, -9.5311,\n",
      "          -3.8058, -5.4825, -1.4977, -5.6146, -6.8727, -6.5876]]])\n",
      "h:  tensor([[[ 0.5320,  0.8133, -0.2227,  0.8926,  0.6586, -0.6212,  0.6853,\n",
      "          -0.2674,  0.1194, -0.6244,  0.1817, -0.2729, -0.3508, -0.2552,\n",
      "           0.8831,  0.5414,  0.0895,  0.7340,  0.2384,  0.8339, -0.3185,\n",
      "          -0.2982, -0.9363, -0.3920,  0.9256,  0.0878,  0.3627, -0.7972,\n",
      "           0.7105, -0.5961, -0.1085, -0.0485,  0.6355,  0.6931,  0.2186,\n",
      "          -0.6865,  0.1367,  0.6528,  0.1262, -0.8225,  0.1883, -0.5977,\n",
      "           0.1427, -0.2854,  0.1331,  0.4949, -0.6108,  0.0163,  0.4821,\n",
      "          -0.7483, -0.3815, -0.0347, -0.1459,  0.9341, -0.3794,  0.8557,\n",
      "          -0.6480, -0.1292, -0.1694, -0.4084,  0.1117,  0.6727,  0.7468,\n",
      "          -0.1833,  0.3857, -0.6940, -0.8239,  0.3703,  0.4951, -0.0818,\n",
      "           0.0824,  0.2878, -0.3261,  0.1120,  0.2053,  0.4152,  0.7669,\n",
      "          -0.9047, -0.2238, -0.4487, -0.6771, -0.7381,  0.6146, -0.1403,\n",
      "          -0.5658, -0.0253,  0.1299,  0.6345, -0.2353, -0.0473, -0.8574,\n",
      "           0.0395,  0.9076,  0.8797, -0.4699, -0.2499, -0.1940,  0.0382,\n",
      "          -0.0673, -0.8937,  0.8106,  0.2897,  0.3906,  0.4927,  0.8690,\n",
      "          -0.1539, -0.3396, -0.0269,  0.7858,  0.6714, -0.4232, -0.7336,\n",
      "          -0.6762,  0.2235, -0.2131,  0.2033, -0.7650, -0.3418,  0.6209,\n",
      "           0.2749, -0.4223, -0.8488,  0.0166, -0.6841,  0.1789, -0.1514,\n",
      "          -0.1234, -0.0646],\n",
      "         [-0.9999, -0.9936, -1.0000,  1.0000,  1.0000,  0.8039,  0.8257,\n",
      "           1.0000, -0.9254, -1.0000, -0.9228, -0.2361, -1.0000,  0.5437,\n",
      "           0.9977, -1.0000,  0.8962,  0.2155, -0.0841, -1.0000,  0.9990,\n",
      "           1.0000, -0.9996,  0.0624,  0.9935, -0.3005, -0.3698,  0.9592,\n",
      "          -1.0000, -0.2633, -1.0000,  1.0000,  0.1348,  1.0000, -0.1518,\n",
      "          -1.0000,  0.9999,  1.0000,  1.0000,  0.3742, -1.0000, -1.0000,\n",
      "           0.1991,  1.0000, -0.1258,  1.0000, -0.5300,  1.0000,  1.0000,\n",
      "           0.8297,  1.0000,  0.9897,  0.9726, -0.9939, -0.2306, -1.0000,\n",
      "          -0.0039, -1.0000, -1.0000, -0.6107, -0.9989, -1.0000,  0.9999,\n",
      "           0.3391,  0.4910, -1.0000,  1.0000, -0.0717, -0.9947, -0.6438,\n",
      "          -1.0000, -1.0000,  1.0000, -0.9979, -0.9084,  0.3200, -1.0000,\n",
      "          -1.0000,  0.2244, -1.0000,  1.0000, -0.5516, -1.0000, -1.0000,\n",
      "          -0.9969,  1.0000,  0.5033,  0.1135,  1.0000,  1.0000, -0.4714,\n",
      "          -0.9972,  1.0000,  1.0000,  0.9951,  1.0000,  0.9998, -0.3165,\n",
      "          -0.6437, -0.9287, -1.0000, -0.0480,  1.0000, -0.9241,  0.7905,\n",
      "          -1.0000, -0.6357, -1.0000, -0.0574, -0.3895, -0.1129, -1.0000,\n",
      "           0.9993,  0.2549,  1.0000,  0.9999,  0.5854,  0.4502, -1.0000,\n",
      "           0.8325,  1.0000,  0.9911,  1.0000,  0.9999,  0.9852, -1.0000,\n",
      "           1.0000, -1.0000]]])\n",
      "y_squeeze:  tensor([[13.7109, 10.0116, -6.5112, -6.2913, -5.4789, -6.0994, -6.0328, -6.4747,\n",
      "         -6.3992,  2.5745, -6.3240,  9.2048, -5.5978, -6.2514, -5.8405, -5.7818,\n",
      "         -5.8915, -5.9311, -6.3561, -6.1121, -5.6637, -5.9729,  2.0327,  2.2583,\n",
      "         -5.7285, -2.6833,  2.1725,  2.0431, -5.7134, -5.2114,  5.6768, -0.9238,\n",
      "         -6.1708,  0.3783, -0.0139, -6.6889, -6.2415, -3.9731,  3.3412, -0.9831,\n",
      "         -5.7066, -5.2293, -6.1684,  1.0014, -0.7646, -1.4255, -5.7598, -6.0526,\n",
      "          0.0308, -5.7163, -5.3967, -6.5896, -6.7328, -5.2269, -5.6878,  1.4280,\n",
      "         -5.7862, -3.9414,  4.0432,  0.8250, -5.2896,  0.6839,  1.7512, -1.4303,\n",
      "         -5.8998, -8.6887, -4.2024, -0.7427, -6.7934,  4.3969, -0.5364, -5.9366,\n",
      "         -1.5812,  1.2692, -4.7482, -3.7364, -9.5311, -3.8058, -5.4825, -1.4977,\n",
      "         -5.6146, -6.8727, -6.5876]])\n",
      "scaled_y:  tensor([[ 27.4218,  20.0231, -13.0224, -12.5827, -10.9577, -12.1988, -12.0657,\n",
      "         -12.9494, -12.7983,   5.1489, -12.6481,  18.4096, -11.1956, -12.5028,\n",
      "         -11.6810, -11.5636, -11.7829, -11.8621, -12.7121, -12.2242, -11.3273,\n",
      "         -11.9457,   4.0653,   4.5167, -11.4570,  -5.3666,   4.3450,   4.0862,\n",
      "         -11.4269, -10.4227,  11.3535,  -1.8476, -12.3417,   0.7567,  -0.0278,\n",
      "         -13.3778, -12.4829,  -7.9461,   6.6825,  -1.9663, -11.4132, -10.4585,\n",
      "         -12.3368,   2.0028,  -1.5292,  -2.8509, -11.5196, -12.1053,   0.0615,\n",
      "         -11.4327, -10.7935, -13.1792, -13.4656, -10.4538, -11.3755,   2.8561,\n",
      "         -11.5725,  -7.8829,   8.0864,   1.6501, -10.5792,   1.3679,   3.5024,\n",
      "          -2.8605, -11.7996, -17.3774,  -8.4048,  -1.4853, -13.5868,   8.7939,\n",
      "          -1.0727, -11.8732,  -3.1624,   2.5384,  -9.4964,  -7.4728, -19.0621,\n",
      "          -7.6116, -10.9651,  -2.9954, -11.2291, -13.7453, -13.1752]])\n",
      "y:  tensor([[9.9927e-01, 6.1163e-04, 2.7225e-18, 4.2262e-18, 2.1462e-17, 6.2041e-18,\n",
      "         7.0875e-18, 2.9288e-18, 3.4065e-18, 2.1218e-10, 3.9586e-18, 1.2182e-04,\n",
      "         1.6919e-17, 4.5775e-18, 1.0412e-17, 1.1709e-17, 9.4033e-18, 8.6872e-18,\n",
      "         3.7131e-18, 6.0483e-18, 1.4831e-17, 7.9904e-18, 7.1793e-11, 1.1275e-10,\n",
      "         1.3026e-17, 5.7523e-15, 9.4962e-11, 7.3310e-11, 1.3425e-17, 3.6644e-17,\n",
      "         1.0503e-07, 1.9414e-13, 5.3780e-18, 2.6251e-12, 1.1981e-12, 1.9082e-18,\n",
      "         4.6697e-18, 4.3610e-16, 9.8334e-10, 1.7243e-13, 1.3609e-17, 3.5355e-17,\n",
      "         5.4043e-18, 9.1279e-12, 2.6694e-13, 7.1188e-14, 1.2236e-17, 6.8123e-18,\n",
      "         1.3100e-12, 1.3347e-17, 2.5293e-17, 2.3276e-18, 1.7479e-18, 3.5522e-17,\n",
      "         1.4132e-17, 2.1425e-11, 1.1606e-17, 4.6457e-16, 4.0032e-09, 6.4144e-12,\n",
      "         3.1336e-17, 4.8373e-12, 4.0890e-11, 7.0508e-14, 9.2479e-18, 3.4966e-20,\n",
      "         2.7567e-16, 2.7891e-13, 1.5484e-18, 8.1221e-09, 4.2137e-13, 8.5914e-18,\n",
      "         5.2133e-14, 1.5593e-11, 9.2538e-17, 7.0008e-16, 6.4859e-21, 6.0936e-16,\n",
      "         2.1305e-17, 6.1613e-14, 1.6361e-17, 1.3214e-18, 2.3368e-18]])\n",
      "next_char_idx:  0\n",
      "foobarss.\n",
      "\n"
     ]
    },
    {
     "data": {
      "text/plain": [
       "'foobarss.\\n'"
      ]
     },
     "execution_count": 45,
     "metadata": {},
     "output_type": "execute_result"
    }
   ],
   "source": [
    "for _ in range(3):\n",
    "    text = charnn.generate_from_model(model, \"foobar\", 10, (char_to_idx, idx_to_char), T=0.5)\n",
    "    print(text)\n",
    "    test.assertEqual(len(text), 10)\n",
    "text"
   ]
  },
  {
   "cell_type": "markdown",
   "metadata": {
    "id": "G-iGOfF-k1ih"
   },
   "source": [
    "### Training\n",
    "<a id=part1_7></a>"
   ]
  },
  {
   "cell_type": "markdown",
   "metadata": {
    "id": "Khe_UZn1k1ih"
   },
   "source": [
    "To train this model, we'll calculate the loss at each time step by comparing the predicted char to\n",
    "the actual char from our label. We can use cross entropy since per char it's similar to a classification problem.\n",
    "We'll then sum the losses over the sequence and back-propagate the gradients though time.\n",
    "Notice that the back-propagation algorithm will \"visit\" each layer's parameter tensors multiple times,\n",
    "so we'll accumulate gradients in parameters of the blocks. Luckily `autograd` will handle this part for us."
   ]
  },
  {
   "cell_type": "markdown",
   "metadata": {
    "id": "x0pDubSWk1ih"
   },
   "source": [
    "As usual, the first step of training will be to try and **overfit** a large model (many parameters) to a tiny dataset.\n",
    "Again, this is to ensure the model and training code are implemented correctly, i.e. that the model can learn.\n",
    "\n",
    "For a generative model such as this, overfitting is slightly trickier than for classification.\n",
    "What we'll aim to do is to get our model to **memorize** a specific sequence of chars, so that when given the first\n",
    "char in the sequence it will immediately spit out the rest of the sequence verbatim.\n",
    "\n",
    "Let's create a tiny dataset to memorize."
   ]
  },
  {
   "cell_type": "code",
   "execution_count": 46,
   "metadata": {
    "colab": {
     "base_uri": "https://localhost:8080/",
     "height": 329
    },
    "executionInfo": {
     "elapsed": 671,
     "status": "error",
     "timestamp": 1718920907720,
     "user": {
      "displayName": "Dror Meirovich",
      "userId": "14310987058477987674"
     },
     "user_tz": -180
    },
    "id": "EMRVf10Ak1ih",
    "outputId": "4b11a634-4c7c-483c-a0a5-07d1a66a394c"
   },
   "outputs": [
    {
     "name": "stdout",
     "output_type": "stream",
     "text": [
      "Text to \"memorize\":\n",
      "\n",
      "RTRAM. What would you have?\n",
      "  HELENA. Something; and scarce so much; nothing, indeed.\n",
      "    I would not tell you what I would, my lord.\n",
      "    Faith, yes:\n",
      "    Strangers and foes do sunder and not kiss.\n",
      "  BERTRAM. I pray you, stay not, but in haste to horse.\n",
      "  H\n"
     ]
    },
    {
     "name": "stderr",
     "output_type": "stream",
     "text": [
      "C:\\Users\\ygree\\miniforge3\\envs\\cs236781-hw\\lib\\site-packages\\torch\\utils\\data\\sampler.py:64: UserWarning: `data_source` argument is not used and will be removed in 2.2.0.You may still have custom implementation that utilizes it.\n",
      "  warnings.warn(\"`data_source` argument is not used and will be removed in 2.2.0.\"\n"
     ]
    }
   ],
   "source": [
    "# Pick a tiny subset of the dataset\n",
    "subset_start, subset_end = 1001, 1005\n",
    "ds_corpus_ss = torch.utils.data.Subset(ds_corpus, range(subset_start, subset_end))\n",
    "batch_size_ss = 1\n",
    "sampler_ss = SequenceBatchSampler(ds_corpus_ss, batch_size=batch_size_ss)\n",
    "dl_corpus_ss = torch.utils.data.DataLoader(ds_corpus_ss, batch_size_ss, sampler=sampler_ss, shuffle=False)\n",
    "\n",
    "# Convert subset to text\n",
    "subset_text = ''\n",
    "for i in range(subset_end - subset_start):\n",
    "    subset_text += unembed(ds_corpus_ss[i][0])\n",
    "print(f'Text to \"memorize\":\\n\\n{subset_text}')"
   ]
  },
  {
   "cell_type": "markdown",
   "metadata": {
    "id": "Xhgz7Gwik1ii"
   },
   "source": [
    "Now let's implement the first part of our training code.\n",
    "\n",
    "**TODO**: Implement the `train_epoch()` and `train_batch()` methods of the `RNNTrainer` class in the `hw3/training.py` module.\n",
    "You must think about how to correctly handle the hidden state of the model between batches and epochs for this specific task (i.e. text generation)."
   ]
  },
  {
   "cell_type": "code",
   "execution_count": 50,
   "metadata": {
    "colab": {
     "base_uri": "https://localhost:8080/",
     "height": 348
    },
    "executionInfo": {
     "elapsed": 3150,
     "status": "error",
     "timestamp": 1718920915910,
     "user": {
      "displayName": "Dror Meirovich",
      "userId": "14310987058477987674"
     },
     "user_tz": -180
    },
    "id": "K-oIoaNhk1ii",
    "outputId": "e3421384-ab56-44eb-c767-feba07c3b062"
   },
   "outputs": [
    {
     "name": "stdout",
     "output_type": "stream",
     "text": [
      "0\n",
      "\n",
      "Epoch #1: Avg. loss = 3.924, Accuracy = 17.97%\n",
      "R                             t                                                                                                                                                                                                                                 \n",
      "24\n",
      "\n",
      "Epoch #25: Avg. loss = 2.478, Accuracy = 27.34%\n",
      "RTRAAMMMA   a   aa  a               ah a   a         h   ah a                               e            h       a      aa      a       e    ah e     e   aa                      au        a  au         e    a  a     aaa             a       au              \n",
      "49\n",
      "\n",
      "Epoch #50: Avg. loss = 0.186, Accuracy = 98.44%\n",
      "RTRAM. What would you have?\n",
      "  HELENA. Something; and scarce so mund nou have?\n",
      "  HELENA. Something; and scarce so mund nou have?\n",
      "  HELENA. Something; and scarce so munder and nou have?\n",
      "  HELENA. Something; and scarce so muld nou have?\n",
      "  HELENA. Something; a\n",
      "74\n",
      "\n",
      "Epoch #75: Avg. loss = 0.013, Accuracy = 100.00%\n",
      "RTRAM. What would you have?\n",
      "  HELENA. Something; and scarce so muld not in hasce so muld not tess  o munder and not and scarce so muld not tess  and not and scarce so muld not and scarce so muld not tess  and not and scarce so muld not and scarce so muld n\n",
      "99\n",
      "\n",
      "Epoch #100: Avg. loss = 0.006, Accuracy = 100.00%\n",
      "RTRAM. What would you have?\n",
      "  HELENA. Something; and scarce so muld not tess  and not and scarce so muld not tess  and not ing; and scarce so muld not tess  omst y not what Scr womsuld nomsthing; and scarce so muld not tess  and not and scarce so muld not \n",
      "124\n",
      "\n",
      "Epoch #125: Avg. loss = 0.004, Accuracy = 100.00%\n",
      "RTRAM. What would you have?\n",
      "  HELENA. Something; and scarce so muld not ing; and scarce so muld not tess  and not tess  ame?  and not what Sce so muld you have?\n",
      "  HELENA. Something; and scarce so muld not tess  omst y not what Sce so muld not tess  omst y \n",
      "149\n",
      "\n",
      "Epoch #150: Avg. loss = 0.002, Accuracy = 100.00%\n",
      "RTRAM. What would you have?\n",
      "  HELENA. Something; and scarce so muld not have?\n",
      "  HELENA. Something; and scarce so muld not tess  o munder and not tess aascarce so muld not tess  amut an muarcarce so muld not tess  amut an muarcarce so muld not tess  and not\n",
      "174\n",
      "\n",
      "Epoch #175: Avg. loss = 0.002, Accuracy = 100.00%\n",
      "RTRAM. What would you have?\n",
      "  HELENA. Something; and scarce so muld not have?\n",
      "  HELENA. Something; and scarce so muld not have?\n",
      "  HELENA. Something; and scarce so muld not have?\n",
      "  HELENA. Something; and scarce so muld not have?\n",
      "  HELENA. Something; and sca\n",
      "199\n",
      "\n",
      "Epoch #200: Avg. loss = 0.001, Accuracy = 100.00%\n",
      "RTRAM. What would you have?\n",
      "  HELENA. Something; and scarce so muld not have?\n",
      "  HELENA. Something; and scarce so muld not have?\n",
      "  HELENA. Something; and scarce so muld not have?\n",
      "  HELENA. Something; and scarce so muld not have?\n",
      "  HELENA. Something; and sca\n",
      "224\n",
      "\n",
      "Epoch #225: Avg. loss = 0.001, Accuracy = 100.00%\n",
      "RTRAM. What would you have?\n",
      "  HELENA. Something; and scarce so muld not tess  amut in hasce so muld not have?\n",
      "  HELENA. Something; and scarce so muld not tess  amut in hasce so muld not have?\n",
      "  HELENA. Something; and scarce so muld not tess  amut an muarca\n",
      "249\n",
      "\n",
      "Epoch #250: Avg. loss = 0.001, Accuracy = 100.00%\n",
      "RTRAM. What would you have?\n",
      "  HELENA. Something; and scarce so muld not tess  amut in hasce so muld not have?\n",
      "  HELENA. Something; and scarce so muld not tess  amut in hasce so muld not have?\n",
      "  HELENA. Something; and scarce so muld not tess  o munder and n\n",
      "274\n",
      "\n",
      "Epoch #275: Avg. loss = 0.001, Accuracy = 100.00%\n",
      "RTRAM. What would you have?\n",
      "  HELENA. Something; and scarce so muld not tess  amut in hasce so muld not have?\n",
      "  HELENA. Something; and scarce so muld not tess  amut in hasce so muld not have?\n",
      "  HELENA. Something; and scarce so muld not tess  amut in hasce \n",
      "299\n",
      "\n",
      "Epoch #300: Avg. loss = 0.001, Accuracy = 100.00%\n",
      "RTRAM. What would you have?\n",
      "  HELENA. Something; and scarce so muld not tess  amut in hasce so muld not have?\n",
      "  HELENA. Something; and scarce so muld not tess  amut in hasce so muld not have?\n",
      "  HELENA. Something; and scarce so muld not tess  ast  ing; and \n",
      "324\n",
      "\n",
      "Epoch #325: Avg. loss = 0.001, Accuracy = 100.00%\n",
      "RTRAM. What would you have?\n",
      "  HELENA. Something; and scarce so muld not tess  amuaroasuld not have?\n",
      "  HELENA. Something; and scarce so muld not tess  amut in hasce so muld not have?\n",
      "  HELENA. Something; and scarce so muld not tess  ast  ing; and scarce so \n",
      "349\n",
      "\n",
      "Epoch #350: Avg. loss = 0.000, Accuracy = 100.00%\n",
      "RTRAM. What would you have?\n",
      "  HELENA. Something; and scarce so muld not tess  amuaroasuld not have?\n",
      "  HELENA. Something; and scarce so muld not tess  o sunder and not king; and scarce so muld not tess  ast  ing; and scarce so muld not tess  ast  ing; and s\n",
      "374\n",
      "\n",
      "Epoch #375: Avg. loss = 0.000, Accuracy = 100.00%\n",
      "RTRAM. What would you have?\n",
      "  HELENA. Something; and scarce so muld not tess  ast  ing; and scarce so muld not tess  o sunder and not king; and scarce so muld not tess  ast  ing; and scarce so muld not tess  o sunder and not king; and scarce so muld not te\n",
      "399\n",
      "\n",
      "Epoch #400: Avg. loss = 0.000, Accuracy = 100.00%\n",
      "RTRAM. What would you have?\n",
      "  HELENA. Something; and scarce so muld not tess  amuaroasuld not tess  amuaroasuld not have?\n",
      "  HELENA. Something; and scarce so muld not tess  ast  ing; and scarce so muld not tess  o sunder and not king; and scarce so muld not\n",
      "424\n",
      "\n",
      "Epoch #425: Avg. loss = 0.000, Accuracy = 100.00%\n",
      "RTRAM. What would you have?\n",
      "  HELENA. Something; and scarce so muld not tess  o munder and not king; and scarce so muld not tess  o sunder and not king; and scarce so muld not tess  ast  ing; and scarce so muld not tess  ast  ing; and scarce so muld not te\n",
      "449\n",
      "\n",
      "Epoch #450: Avg. loss = 0.000, Accuracy = 100.00%\n",
      "RTRAM. What would you have?\n",
      "  HELENA. Something; and scarce so muld not tess  amuaroasuld not have?\n",
      "  HELENA. Something; and scarce so muld not tess  ast  ing; and scarce so muld not tess  ast  ing; and scarce so muld not tess  ast  ing; and scarce so muld\n",
      "474\n",
      "\n",
      "Epoch #475: Avg. loss = 0.000, Accuracy = 100.00%\n",
      "RTRAM. What would you have?\n",
      "  HELENA. Something; and scarce so muld not tess  amuaroasuld not have?\n",
      "  HELENA. Something; and scarce so muld not tess  ast  ing; and scarce so muld not tess  ast  ing; and scarce so muld not tess  ast  ing; and scarce so muld\n",
      "499\n",
      "\n",
      "Epoch #500: Avg. loss = 0.000, Accuracy = 100.00%\n",
      "RTRAM. What would you have?\n",
      "  HELENA. Something; and scarce so muld not tess  amuaroasuld not have?\n",
      "  HELENA. Something; and scarce so muld not tess  ast  ing; and scarce so muld not tess  ast  ing; and scarce so muld not tess  ast  ing; and scarce so muld\n"
     ]
    },
    {
     "ename": "AssertionError",
     "evalue": "'RTRA[57 chars]so muld not tess  amuaroasuld not have?\\n  HEL[147 chars]muld' != 'RTRA[57 chars]so much; nothing, indeed.\\n    I would not tel[151 chars]n  H'\n  RTRAM. What would you have?\n-   HELENA. Something; and scarce so muld not tess  amuaroasuld not have?\n-   HELENA. Something; and scarce so muld not tess  ast  ing; and scarce so muld not tess  ast  ing; and scarce so muld not tess  ast  ing; and scarce so muld+   HELENA. Something; and scarce so much; nothing, indeed.\n+     I would not tell you what I would, my lord.\n+     Faith, yes:\n+     Strangers and foes do sunder and not kiss.\n+   BERTRAM. I pray you, stay not, but in haste to horse.\n+   H",
     "output_type": "error",
     "traceback": [
      "\u001b[1;31m---------------------------------------------------------------------------\u001b[0m",
      "\u001b[1;31mAssertionError\u001b[0m                            Traceback (most recent call last)",
      "Cell \u001b[1;32mIn[50], line 40\u001b[0m\n\u001b[0;32m     38\u001b[0m \u001b[38;5;66;03m# Test successful overfitting\u001b[39;00m\n\u001b[0;32m     39\u001b[0m test\u001b[38;5;241m.\u001b[39massertGreater(epoch_result\u001b[38;5;241m.\u001b[39maccuracy, \u001b[38;5;241m99\u001b[39m)\n\u001b[1;32m---> 40\u001b[0m \u001b[43mtest\u001b[49m\u001b[38;5;241;43m.\u001b[39;49m\u001b[43massertEqual\u001b[49m\u001b[43m(\u001b[49m\u001b[43mgenerated_sequence\u001b[49m\u001b[43m,\u001b[49m\u001b[43m \u001b[49m\u001b[43msubset_text\u001b[49m\u001b[43m)\u001b[49m\n",
      "File \u001b[1;32m~\\miniforge3\\envs\\cs236781-hw\\lib\\unittest\\case.py:912\u001b[0m, in \u001b[0;36mTestCase.assertEqual\u001b[1;34m(self, first, second, msg)\u001b[0m\n\u001b[0;32m    908\u001b[0m \u001b[38;5;250m\u001b[39m\u001b[38;5;124;03m\"\"\"Fail if the two objects are unequal as determined by the '=='\u001b[39;00m\n\u001b[0;32m    909\u001b[0m \u001b[38;5;124;03m   operator.\u001b[39;00m\n\u001b[0;32m    910\u001b[0m \u001b[38;5;124;03m\"\"\"\u001b[39;00m\n\u001b[0;32m    911\u001b[0m assertion_func \u001b[38;5;241m=\u001b[39m \u001b[38;5;28mself\u001b[39m\u001b[38;5;241m.\u001b[39m_getAssertEqualityFunc(first, second)\n\u001b[1;32m--> 912\u001b[0m \u001b[43massertion_func\u001b[49m\u001b[43m(\u001b[49m\u001b[43mfirst\u001b[49m\u001b[43m,\u001b[49m\u001b[43m \u001b[49m\u001b[43msecond\u001b[49m\u001b[43m,\u001b[49m\u001b[43m \u001b[49m\u001b[43mmsg\u001b[49m\u001b[38;5;241;43m=\u001b[39;49m\u001b[43mmsg\u001b[49m\u001b[43m)\u001b[49m\n",
      "File \u001b[1;32m~\\miniforge3\\envs\\cs236781-hw\\lib\\unittest\\case.py:1292\u001b[0m, in \u001b[0;36mTestCase.assertMultiLineEqual\u001b[1;34m(self, first, second, msg)\u001b[0m\n\u001b[0;32m   1290\u001b[0m diff \u001b[38;5;241m=\u001b[39m \u001b[38;5;124m'\u001b[39m\u001b[38;5;130;01m\\n\u001b[39;00m\u001b[38;5;124m'\u001b[39m \u001b[38;5;241m+\u001b[39m \u001b[38;5;124m'\u001b[39m\u001b[38;5;124m'\u001b[39m\u001b[38;5;241m.\u001b[39mjoin(difflib\u001b[38;5;241m.\u001b[39mndiff(firstlines, secondlines))\n\u001b[0;32m   1291\u001b[0m standardMsg \u001b[38;5;241m=\u001b[39m \u001b[38;5;28mself\u001b[39m\u001b[38;5;241m.\u001b[39m_truncateMessage(standardMsg, diff)\n\u001b[1;32m-> 1292\u001b[0m \u001b[38;5;28;43mself\u001b[39;49m\u001b[38;5;241;43m.\u001b[39;49m\u001b[43mfail\u001b[49m\u001b[43m(\u001b[49m\u001b[38;5;28;43mself\u001b[39;49m\u001b[38;5;241;43m.\u001b[39;49m\u001b[43m_formatMessage\u001b[49m\u001b[43m(\u001b[49m\u001b[43mmsg\u001b[49m\u001b[43m,\u001b[49m\u001b[43m \u001b[49m\u001b[43mstandardMsg\u001b[49m\u001b[43m)\u001b[49m\u001b[43m)\u001b[49m\n",
      "File \u001b[1;32m~\\miniforge3\\envs\\cs236781-hw\\lib\\unittest\\case.py:753\u001b[0m, in \u001b[0;36mTestCase.fail\u001b[1;34m(self, msg)\u001b[0m\n\u001b[0;32m    751\u001b[0m \u001b[38;5;28;01mdef\u001b[39;00m \u001b[38;5;21mfail\u001b[39m(\u001b[38;5;28mself\u001b[39m, msg\u001b[38;5;241m=\u001b[39m\u001b[38;5;28;01mNone\u001b[39;00m):\n\u001b[0;32m    752\u001b[0m \u001b[38;5;250m    \u001b[39m\u001b[38;5;124;03m\"\"\"Fail immediately, with the given message.\"\"\"\u001b[39;00m\n\u001b[1;32m--> 753\u001b[0m     \u001b[38;5;28;01mraise\u001b[39;00m \u001b[38;5;28mself\u001b[39m\u001b[38;5;241m.\u001b[39mfailureException(msg)\n",
      "\u001b[1;31mAssertionError\u001b[0m: 'RTRA[57 chars]so muld not tess  amuaroasuld not have?\\n  HEL[147 chars]muld' != 'RTRA[57 chars]so much; nothing, indeed.\\n    I would not tel[151 chars]n  H'\n  RTRAM. What would you have?\n-   HELENA. Something; and scarce so muld not tess  amuaroasuld not have?\n-   HELENA. Something; and scarce so muld not tess  ast  ing; and scarce so muld not tess  ast  ing; and scarce so muld not tess  ast  ing; and scarce so muld+   HELENA. Something; and scarce so much; nothing, indeed.\n+     I would not tell you what I would, my lord.\n+     Faith, yes:\n+     Strangers and foes do sunder and not kiss.\n+   BERTRAM. I pray you, stay not, but in haste to horse.\n+   H"
     ]
    }
   ],
   "source": [
    "import torch.nn as nn\n",
    "import torch.optim as optim\n",
    "from hw3.training import RNNTrainer\n",
    "\n",
    "torch.manual_seed(42)\n",
    "\n",
    "lr = 0.01\n",
    "num_epochs = 500\n",
    "\n",
    "in_dim = vocab_len\n",
    "h_dim = 128\n",
    "n_layers = 2\n",
    "loss_fn = nn.CrossEntropyLoss()\n",
    "model = charnn.MultilayerGRU(in_dim, h_dim, out_dim=in_dim, n_layers=n_layers).to(device)\n",
    "optimizer = optim.Adam(model.parameters(), lr=lr)\n",
    "trainer = RNNTrainer(model, loss_fn, optimizer, device)\n",
    "\n",
    "for epoch in range(num_epochs):\n",
    "    epoch_result = trainer.train_epoch(dl_corpus_ss, verbose=False)\n",
    "\n",
    "    # Every X epochs, we'll g|enerate a sequence starting from the first char in the first sequence\n",
    "    # to visualize how/if/what the model is learning.\n",
    "    if epoch == 0 or (epoch+1) % 25 == 0:\n",
    "        avg_loss = np.mean(epoch_result.losses)\n",
    "        accuracy = np.mean(epoch_result.accuracy)\n",
    "        print(f'\\nEpoch #{epoch+1}: Avg. loss = {avg_loss:.3f}, Accuracy = {accuracy:.2f}%')\n",
    "\n",
    "        generated_sequence = charnn.generate_from_model(model, subset_text[0],\n",
    "                                                        seq_len*(subset_end-subset_start),\n",
    "                                                        (char_to_idx,idx_to_char), T=0.1)\n",
    "\n",
    "        # Stop if we've successfully memorized the small dataset.\n",
    "        print(generated_sequence)\n",
    "        if generated_sequence == subset_text:\n",
    "            break\n",
    "\n",
    "# Test successful overfitting\n",
    "test.assertGreater(epoch_result.accuracy, 99)\n",
    "test.assertEqual(generated_sequence, subset_text)"
   ]
  },
  {
   "cell_type": "markdown",
   "metadata": {
    "id": "AoRIjlHRk1ii"
   },
   "source": [
    "OK, so training works - we can memorize a short sequence.\n",
    "We'll now train a much larger model on our large dataset. You'll need a GPU for this part.\n",
    "\n",
    "First, lets set up our dataset and models for training.\n",
    "We'll split our corpus into 90% train and 10% test-set.\n",
    "Also, we'll use a learning-rate scheduler to control the learning rate during training."
   ]
  },
  {
   "cell_type": "markdown",
   "metadata": {
    "id": "FNnmXEEpk1ii"
   },
   "source": [
    "**TODO**: Set the hyperparameters in the `part1_rnn_hyperparams()` function of the `hw3/answers.py` module."
   ]
  },
  {
   "cell_type": "code",
   "execution_count": null,
   "metadata": {
    "colab": {
     "base_uri": "https://localhost:8080/",
     "height": 256
    },
    "executionInfo": {
     "elapsed": 590,
     "status": "error",
     "timestamp": 1718920987699,
     "user": {
      "displayName": "Dror Meirovich",
      "userId": "14310987058477987674"
     },
     "user_tz": -180
    },
    "id": "jtsgLNa6k1ii",
    "outputId": "64c39a1b-e310-416d-b316-04ff13dced38"
   },
   "outputs": [],
   "source": [
    "from hw3.answers import part1_rnn_hyperparams\n",
    "checkpoint_file = None\n",
    "hp = part1_rnn_hyperparams()\n",
    "print('hyperparams:\\n', hp)\n",
    "\n",
    "### Dataset definition\n",
    "vocab_len = len(char_to_idx)\n",
    "batch_size = hp['batch_size']\n",
    "seq_len = hp['seq_len']\n",
    "train_test_ratio = 0.9\n",
    "num_samples = (len(corpus) - 1) // seq_len\n",
    "num_train = int(train_test_ratio * num_samples)\n",
    "\n",
    "samples, labels = charnn.chars_to_labelled_samples(corpus, char_to_idx, seq_len, device)\n",
    "\n",
    "ds_train = torch.utils.data.TensorDataset(samples[:num_train], labels[:num_train])\n",
    "sampler_train = SequenceBatchSampler(ds_train, batch_size)\n",
    "dl_train = torch.utils.data.DataLoader(ds_train, batch_size, shuffle=False, sampler=sampler_train, drop_last=True)\n",
    "\n",
    "ds_test = torch.utils.data.TensorDataset(samples[num_train:], labels[num_train:])\n",
    "sampler_test = SequenceBatchSampler(ds_test, batch_size)\n",
    "dl_test = torch.utils.data.DataLoader(ds_test, batch_size, shuffle=False, sampler=sampler_test, drop_last=True)\n",
    "\n",
    "print(f'Train: {len(dl_train):3d} batches, {len(dl_train)*batch_size*seq_len:7d} chars')\n",
    "print(f'Test:  {len(dl_test):3d} batches, {len(dl_test)*batch_size*seq_len:7d} chars')\n",
    "\n",
    "### Training definition\n",
    "in_dim = out_dim = vocab_len\n",
    "checkpoint_file = 'checkpoints/rnn'\n",
    "num_epochs = 50\n",
    "early_stopping = 5\n",
    "\n",
    "model = charnn.MultilayerGRU(in_dim, hp['h_dim'], out_dim, hp['n_layers'], hp['dropout'])\n",
    "loss_fn = nn.CrossEntropyLoss()\n",
    "optimizer = optim.Adam(model.parameters(), lr=hp['learn_rate'])\n",
    "scheduler = optim.lr_scheduler.ReduceLROnPlateau(\n",
    "    optimizer, mode='max', factor=hp['lr_sched_factor'], patience=hp['lr_sched_patience'], verbose=True\n",
    ")\n",
    "trainer = RNNTrainer(model, loss_fn, optimizer, device)"
   ]
  },
  {
   "cell_type": "markdown",
   "metadata": {
    "id": "Z87cDETsk1ii"
   },
   "source": [
    "The code blocks below will train the model and save checkpoints containing the training state and the best model parameters to a file. This allows you to stop training and resume it later from where you left.\n",
    "\n",
    "Note that you can use the `main.py` script provided within the assignment folder to run this notebook from the command line as if it were a python script by using the `run-nb` subcommand. This allows you to train your model using this notebook without starting jupyter. You can combine this with `srun` or `sbatch` to run the notebook with a GPU on the course servers."
   ]
  },
  {
   "cell_type": "markdown",
   "metadata": {
    "id": "pUysMyslk1ii"
   },
   "source": [
    "**TODO**:\n",
    "- Implement the `fit()` method of the `Trainer` class. You can reuse the relevant implementation parts from HW2, but make sure to implement early stopping and checkpoints.\n",
    "- Implement the `test_epoch()` and `test_batch()` methods of the `RNNTrainer` class in the `hw3/training.py` module.\n",
    "- Run the following block to train.\n",
    "- When training is done and you're satisfied with the model's outputs, rename the checkpoint file to `checkpoints/rnn_final.pt`.\n",
    "  This will cause the block to skip training and instead load your saved model when running the homework submission script.\n",
    "  Note that your submission zip file will not include the checkpoint file. This is OK."
   ]
  },
  {
   "cell_type": "code",
   "execution_count": null,
   "metadata": {
    "colab": {
     "base_uri": "https://localhost:8080/",
     "height": 348
    },
    "executionInfo": {
     "elapsed": 533,
     "status": "error",
     "timestamp": 1718921002460,
     "user": {
      "displayName": "Dror Meirovich",
      "userId": "14310987058477987674"
     },
     "user_tz": -180
    },
    "id": "e2La-smqk1ij",
    "outputId": "d1ddbade-fc68-4772-99af-061780923985"
   },
   "outputs": [],
   "source": [
    "from cs236781.plot import plot_fit\n",
    "\n",
    "def post_epoch_fn(epoch, train_res, test_res, verbose):\n",
    "    # Update learning rate\n",
    "    scheduler.step(test_res.accuracy)\n",
    "    # Sample from model to show progress\n",
    "    if verbose:\n",
    "        start_seq = \"ACT I.\"\n",
    "        generated_sequence = charnn.generate_from_model(\n",
    "            model, start_seq, 100, (char_to_idx,idx_to_char), T=0.5\n",
    "        )\n",
    "        print(generated_sequence)\n",
    "\n",
    "# Train, unless final checkpoint is found\n",
    "checkpoint_file_final = f'{checkpoint_file}_final.pt'\n",
    "if os.path.isfile(checkpoint_file_final):\n",
    "    print(f'*** Loading final checkpoint file {checkpoint_file_final} instead of training')\n",
    "    saved_state = torch.load(checkpoint_file_final, map_location=device)\n",
    "    model.load_state_dict(saved_state['model_state'])\n",
    "else:\n",
    "    try:\n",
    "        # Print pre-training sampling\n",
    "        print(charnn.generate_from_model(model, \"ACT I.\", 100, (char_to_idx,idx_to_char), T=0.5))\n",
    "\n",
    "        fit_res = trainer.fit(dl_train, dl_test, num_epochs, max_batches=None,\n",
    "                              post_epoch_fn=post_epoch_fn, early_stopping=early_stopping,\n",
    "                              checkpoints=checkpoint_file, print_every=1)\n",
    "\n",
    "        fig, axes = plot_fit(fit_res)\n",
    "    except KeyboardInterrupt as e:\n",
    "        print('\\n *** Training interrupted by user')"
   ]
  },
  {
   "cell_type": "markdown",
   "metadata": {
    "id": "KeyNyGkEk1ij"
   },
   "source": [
    "### Generating a work of art\n",
    "<a id=part1_8></a>"
   ]
  },
  {
   "cell_type": "markdown",
   "metadata": {
    "id": "4LOec26Kk1ij"
   },
   "source": [
    "Armed with our fully trained model, let's generate the next Hamlet! You should experiment with modifying the sampling temperature and see what happens.\n",
    "\n",
    "The text you generate should “look” like a Shakespeare play:\n",
    "old-style English words and sentence structure, directions for the actors\n",
    "(like “Exit/Enter”), sections (Act I/Scene III) etc.\n",
    "There will be no coherent plot of course, but it should at least seem like\n",
    "a Shakespearean play when not looking too closely.\n",
    "If this is not what you see, go back, debug and/or and re-train.\n",
    "\n",
    "**TODO**: Specify the generation parameters in the `part1_generation_params()` function within the `hw3/answers.py` module."
   ]
  },
  {
   "cell_type": "code",
   "execution_count": null,
   "metadata": {
    "colab": {
     "base_uri": "https://localhost:8080/",
     "height": 348
    },
    "executionInfo": {
     "elapsed": 488,
     "status": "error",
     "timestamp": 1718921008279,
     "user": {
      "displayName": "Dror Meirovich",
      "userId": "14310987058477987674"
     },
     "user_tz": -180
    },
    "id": "sRpDH2EYk1ij",
    "outputId": "c0353fb0-30ee-434f-af27-faaef8873b3b"
   },
   "outputs": [],
   "source": [
    "from hw3.answers import part1_generation_params\n",
    "\n",
    "start_seq, temperature = part1_generation_params()\n",
    "\n",
    "generated_sequence = charnn.generate_from_model(\n",
    "    model, start_seq, 10000, (char_to_idx,idx_to_char), T=temperature\n",
    ")\n",
    "\n",
    "print(generated_sequence)"
   ]
  },
  {
   "cell_type": "markdown",
   "metadata": {
    "id": "FqZ_xYs8k1ij"
   },
   "source": [
    "## Questions\n",
    "<a id=part1_9></a>"
   ]
  },
  {
   "cell_type": "markdown",
   "metadata": {
    "id": "Wwtegk0uk1ij"
   },
   "source": [
    "**TODO** Answer the following questions. Write your answers in the appropriate variables in the module `hw3/answers.py`."
   ]
  },
  {
   "cell_type": "code",
   "execution_count": 52,
   "metadata": {
    "executionInfo": {
     "elapsed": 1148,
     "status": "ok",
     "timestamp": 1718921015818,
     "user": {
      "displayName": "Dror Meirovich",
      "userId": "14310987058477987674"
     },
     "user_tz": -180
    },
    "id": "Or0L3gzIk1ij"
   },
   "outputs": [],
   "source": [
    "from cs236781.answers import display_answer\n",
    "import hw3.answers"
   ]
  },
  {
   "cell_type": "code",
   "execution_count": 53,
   "metadata": {
    "colab": {
     "base_uri": "https://localhost:8080/",
     "height": 165
    },
    "executionInfo": {
     "elapsed": 5,
     "status": "error",
     "timestamp": 1718921290054,
     "user": {
      "displayName": "Dror Meirovich",
      "userId": "14310987058477987674"
     },
     "user_tz": -180
    },
    "id": "4gUKGuR5sFO3",
    "outputId": "d19e9343-a7fb-4a29-848d-4ade2181b3c5"
   },
   "outputs": [],
   "source": [
    "assert hw3.answers.student_name_1, \"student_name_1 is missing\"\n",
    "assert hw3.answers.student_ID_1, \"student_ID_1 is missing\""
   ]
  },
  {
   "cell_type": "markdown",
   "metadata": {
    "id": "rW7eixZpk1ik"
   },
   "source": [
    "### Question 1\n",
    "Why do we split the corpus into sequences instead of training on the whole text?"
   ]
  },
  {
   "cell_type": "code",
   "execution_count": 56,
   "metadata": {
    "colab": {
     "base_uri": "https://localhost:8080/",
     "height": 47
    },
    "executionInfo": {
     "elapsed": 479,
     "status": "ok",
     "timestamp": 1718921019600,
     "user": {
      "displayName": "Dror Meirovich",
      "userId": "14310987058477987674"
     },
     "user_tz": -180
    },
    "id": "mdwQwQDRk1ik",
    "outputId": "d47669c0-cc28-494c-eee6-02970fd801b7"
   },
   "outputs": [
    {
     "data": {
      "text/markdown": [
       "\n",
       "**Your answer:**  \n",
       "There are several reason why we prefer to train our RNN on sequences and not on the whole text. First, we have memory constraints and feeding the entire corpus at once can exceed the available memory. In addition, RNN has difficulties handling long dependencies and spliting into chunk help model to focus on more managable chunks. finally, the sequencing allow us using optimization technique like mini-batch  gradient descent and truncated backpropagation.\n"
      ],
      "text/plain": [
       "<IPython.core.display.Markdown object>"
      ]
     },
     "metadata": {},
     "output_type": "display_data"
    }
   ],
   "source": [
    "display_answer(hw3.answers.part1_q1)"
   ]
  },
  {
   "cell_type": "markdown",
   "metadata": {
    "id": "MQuiiQ_Zk1ik"
   },
   "source": [
    "### Question 2\n",
    "How is it possible that the generated text clearly shows memory longer than the sequence length?"
   ]
  },
  {
   "cell_type": "code",
   "execution_count": 58,
   "metadata": {
    "colab": {
     "base_uri": "https://localhost:8080/",
     "height": 47
    },
    "executionInfo": {
     "elapsed": 472,
     "status": "ok",
     "timestamp": 1718921023420,
     "user": {
      "displayName": "Dror Meirovich",
      "userId": "14310987058477987674"
     },
     "user_tz": -180
    },
    "id": "NQGzhplEk1ik",
    "outputId": "24d53a6d-25f7-4f23-e3a6-8789030867bd"
   },
   "outputs": [
    {
     "data": {
      "text/markdown": [
       "\n",
       "**Your answer:**  \n",
       "In our RNN, we carried over the hidden state from one sequence to the next sequence during the training, and reset the state only by the end of each epoch. For example: we tarin on sequence 1 and the initial state is $h_0$ and the output is $h_1$ and in sequence 2 the initial hidden state is $h_1$ and the output is $h_2$ - as we can see we have the overlapping of $h_1$ that in a transitive manner crate kind of long term memory.   \n",
       " \n"
      ],
      "text/plain": [
       "<IPython.core.display.Markdown object>"
      ]
     },
     "metadata": {},
     "output_type": "display_data"
    }
   ],
   "source": [
    "display_answer(hw3.answers.part1_q2)"
   ]
  },
  {
   "cell_type": "markdown",
   "metadata": {
    "id": "-EyFa6Nsk1ik"
   },
   "source": [
    "### Question 3\n",
    "Why are we not shuffling the order of batches when training?"
   ]
  },
  {
   "cell_type": "code",
   "execution_count": 59,
   "metadata": {
    "colab": {
     "base_uri": "https://localhost:8080/",
     "height": 47
    },
    "executionInfo": {
     "elapsed": 3,
     "status": "ok",
     "timestamp": 1718921025800,
     "user": {
      "displayName": "Dror Meirovich",
      "userId": "14310987058477987674"
     },
     "user_tz": -180
    },
    "id": "dXV18jNtk1ik",
    "outputId": "79ae479d-1be1-417e-e43f-03c693a51177"
   },
   "outputs": [
    {
     "data": {
      "text/markdown": [
       "\n",
       "**Your answer:**  \n",
       "Not shuffling the order of batches when training RNNs allows for the hidden state to carry over from one sequence to the next within an epoch, preserving context and continuity essential for learning long-term dependencies in the data.\n"
      ],
      "text/plain": [
       "<IPython.core.display.Markdown object>"
      ]
     },
     "metadata": {},
     "output_type": "display_data"
    }
   ],
   "source": [
    "display_answer(hw3.answers.part1_q3)"
   ]
  },
  {
   "cell_type": "markdown",
   "metadata": {
    "id": "m-twvSEvk1ik"
   },
   "source": [
    "### Question 4\n",
    "1. Why do we lower the temperature for sampling (compared to the default of $1.0$)?\n",
    "2. What happens when the temperature is very high and why?\n",
    "3. What happens when the temperature is very low and why?"
   ]
  },
  {
   "cell_type": "code",
   "execution_count": 60,
   "metadata": {
    "executionInfo": {
     "elapsed": 13,
     "status": "aborted",
     "timestamp": 1718920226069,
     "user": {
      "displayName": "Dror Meirovich",
      "userId": "14310987058477987674"
     },
     "user_tz": -180
    },
    "id": "_p-UB4NOk1ik"
   },
   "outputs": [
    {
     "data": {
      "text/markdown": [
       "\n",
       "**Your answer:**  \n",
       "1. Lowering the temperature makes the model's predictions more confident by sharpening the probability distribution, leading to more coherent and sensible text generation.  \n",
       "2. When the temperature is very high, the probability distribution becomes more uniform, resulting in more random and less coherent text because the model is less certain about its predictions.  \n",
       "3. When the temperature is very low, the probability distribution becomes peaked, making the model highly confident in its predictions. This can lead to repetitive and deterministic text as the model consistently chooses the highest probability options.  \n",
       "\n"
      ],
      "text/plain": [
       "<IPython.core.display.Markdown object>"
      ]
     },
     "metadata": {},
     "output_type": "display_data"
    }
   ],
   "source": [
    "display_answer(hw3.answers.part1_q4)"
   ]
  }
 ],
 "metadata": {
  "accelerator": "GPU",
  "colab": {
   "gpuType": "T4",
   "provenance": []
  },
  "kernelspec": {
   "display_name": "Python 3 (ipykernel)",
   "language": "python",
   "name": "python3"
  },
  "language_info": {
   "codemirror_mode": {
    "name": "ipython",
    "version": 3
   },
   "file_extension": ".py",
   "mimetype": "text/x-python",
   "name": "python",
   "nbconvert_exporter": "python",
   "pygments_lexer": "ipython3",
   "version": "3.8.12"
  }
 },
 "nbformat": 4,
 "nbformat_minor": 4
}
